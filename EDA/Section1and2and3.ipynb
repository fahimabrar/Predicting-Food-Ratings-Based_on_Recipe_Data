{
 "cells": [
  {
   "cell_type": "code",
   "execution_count": 1,
   "metadata": {},
   "outputs": [],
   "source": [
    "import pandas as pd"
   ]
  },
  {
   "cell_type": "code",
   "execution_count": 2,
   "metadata": {},
   "outputs": [],
   "source": [
    "recipe = pd.read_csv(\"C:/Users/SLL583/Desktop/Data Science and Analytics/CS5706 MACHINE LEARNING/CS5811 Coursework/recipes.csv\")"
   ]
  },
  {
   "cell_type": "code",
   "execution_count": 3,
   "metadata": {},
   "outputs": [
    {
     "data": {
      "text/plain": [
       "(522517, 28)"
      ]
     },
     "execution_count": 3,
     "metadata": {},
     "output_type": "execute_result"
    }
   ],
   "source": [
    "recipe.shape"
   ]
  },
  {
   "cell_type": "code",
   "execution_count": 9,
   "metadata": {},
   "outputs": [
    {
     "name": "stdout",
     "output_type": "stream",
     "text": [
      "RecipeId <class 'pandas.core.series.Series'>\n",
      "Name <class 'pandas.core.series.Series'>\n",
      "AuthorId <class 'pandas.core.series.Series'>\n",
      "AuthorName <class 'pandas.core.series.Series'>\n",
      "CookTime <class 'pandas.core.series.Series'>\n",
      "PrepTime <class 'pandas.core.series.Series'>\n",
      "TotalTime <class 'pandas.core.series.Series'>\n",
      "DatePublished <class 'pandas.core.series.Series'>\n",
      "Description <class 'pandas.core.series.Series'>\n",
      "Images <class 'pandas.core.series.Series'>\n",
      "RecipeCategory <class 'pandas.core.series.Series'>\n",
      "Keywords <class 'pandas.core.series.Series'>\n",
      "RecipeIngredientQuantities <class 'pandas.core.series.Series'>\n",
      "RecipeIngredientParts <class 'pandas.core.series.Series'>\n",
      "AggregatedRating <class 'pandas.core.series.Series'>\n",
      "ReviewCount <class 'pandas.core.series.Series'>\n",
      "Calories <class 'pandas.core.series.Series'>\n",
      "FatContent <class 'pandas.core.series.Series'>\n",
      "SaturatedFatContent <class 'pandas.core.series.Series'>\n",
      "CholesterolContent <class 'pandas.core.series.Series'>\n",
      "SodiumContent <class 'pandas.core.series.Series'>\n",
      "CarbohydrateContent <class 'pandas.core.series.Series'>\n",
      "FiberContent <class 'pandas.core.series.Series'>\n",
      "SugarContent <class 'pandas.core.series.Series'>\n",
      "ProteinContent <class 'pandas.core.series.Series'>\n",
      "RecipeServings <class 'pandas.core.series.Series'>\n",
      "RecipeYield <class 'pandas.core.series.Series'>\n",
      "RecipeInstructions <class 'pandas.core.series.Series'>\n"
     ]
    }
   ],
   "source": [
    "a =recipe.columns\n",
    "for val in a:\n",
    "    print(val,type(recipe[val]))"
   ]
  },
  {
   "cell_type": "code",
   "execution_count": 7,
   "metadata": {},
   "outputs": [
    {
     "data": {
      "text/html": [
       "<div>\n",
       "<style scoped>\n",
       "    .dataframe tbody tr th:only-of-type {\n",
       "        vertical-align: middle;\n",
       "    }\n",
       "\n",
       "    .dataframe tbody tr th {\n",
       "        vertical-align: top;\n",
       "    }\n",
       "\n",
       "    .dataframe thead th {\n",
       "        text-align: right;\n",
       "    }\n",
       "</style>\n",
       "<table border=\"1\" class=\"dataframe\">\n",
       "  <thead>\n",
       "    <tr style=\"text-align: right;\">\n",
       "      <th></th>\n",
       "      <th>RecipeId</th>\n",
       "      <th>AuthorId</th>\n",
       "      <th>AggregatedRating</th>\n",
       "      <th>ReviewCount</th>\n",
       "      <th>Calories</th>\n",
       "      <th>FatContent</th>\n",
       "      <th>SaturatedFatContent</th>\n",
       "      <th>CholesterolContent</th>\n",
       "      <th>SodiumContent</th>\n",
       "      <th>CarbohydrateContent</th>\n",
       "      <th>FiberContent</th>\n",
       "      <th>SugarContent</th>\n",
       "      <th>ProteinContent</th>\n",
       "      <th>RecipeServings</th>\n",
       "    </tr>\n",
       "  </thead>\n",
       "  <tbody>\n",
       "    <tr>\n",
       "      <th>count</th>\n",
       "      <td>522517.000000</td>\n",
       "      <td>5.225170e+05</td>\n",
       "      <td>269294.000000</td>\n",
       "      <td>275028.000000</td>\n",
       "      <td>522517.000000</td>\n",
       "      <td>522517.000000</td>\n",
       "      <td>522517.000000</td>\n",
       "      <td>522517.000000</td>\n",
       "      <td>5.225170e+05</td>\n",
       "      <td>522517.000000</td>\n",
       "      <td>522517.000000</td>\n",
       "      <td>522517.000000</td>\n",
       "      <td>522517.000000</td>\n",
       "      <td>339606.000000</td>\n",
       "    </tr>\n",
       "    <tr>\n",
       "      <th>mean</th>\n",
       "      <td>271821.436970</td>\n",
       "      <td>4.572585e+07</td>\n",
       "      <td>4.632014</td>\n",
       "      <td>5.227784</td>\n",
       "      <td>484.438580</td>\n",
       "      <td>24.614922</td>\n",
       "      <td>9.559457</td>\n",
       "      <td>86.487003</td>\n",
       "      <td>7.672639e+02</td>\n",
       "      <td>49.089092</td>\n",
       "      <td>3.843242</td>\n",
       "      <td>21.878254</td>\n",
       "      <td>17.469510</td>\n",
       "      <td>8.606191</td>\n",
       "    </tr>\n",
       "    <tr>\n",
       "      <th>std</th>\n",
       "      <td>155495.878422</td>\n",
       "      <td>2.929714e+08</td>\n",
       "      <td>0.641934</td>\n",
       "      <td>20.381347</td>\n",
       "      <td>1397.116649</td>\n",
       "      <td>111.485798</td>\n",
       "      <td>46.622621</td>\n",
       "      <td>301.987009</td>\n",
       "      <td>4.203621e+03</td>\n",
       "      <td>180.822062</td>\n",
       "      <td>8.603163</td>\n",
       "      <td>142.620191</td>\n",
       "      <td>40.128837</td>\n",
       "      <td>114.319809</td>\n",
       "    </tr>\n",
       "    <tr>\n",
       "      <th>min</th>\n",
       "      <td>38.000000</td>\n",
       "      <td>2.700000e+01</td>\n",
       "      <td>1.000000</td>\n",
       "      <td>1.000000</td>\n",
       "      <td>0.000000</td>\n",
       "      <td>0.000000</td>\n",
       "      <td>0.000000</td>\n",
       "      <td>0.000000</td>\n",
       "      <td>0.000000e+00</td>\n",
       "      <td>0.000000</td>\n",
       "      <td>0.000000</td>\n",
       "      <td>0.000000</td>\n",
       "      <td>0.000000</td>\n",
       "      <td>1.000000</td>\n",
       "    </tr>\n",
       "    <tr>\n",
       "      <th>25%</th>\n",
       "      <td>137206.000000</td>\n",
       "      <td>6.947400e+04</td>\n",
       "      <td>4.500000</td>\n",
       "      <td>1.000000</td>\n",
       "      <td>174.200000</td>\n",
       "      <td>5.600000</td>\n",
       "      <td>1.500000</td>\n",
       "      <td>3.800000</td>\n",
       "      <td>1.233000e+02</td>\n",
       "      <td>12.800000</td>\n",
       "      <td>0.800000</td>\n",
       "      <td>2.500000</td>\n",
       "      <td>3.500000</td>\n",
       "      <td>4.000000</td>\n",
       "    </tr>\n",
       "    <tr>\n",
       "      <th>50%</th>\n",
       "      <td>271758.000000</td>\n",
       "      <td>2.389370e+05</td>\n",
       "      <td>5.000000</td>\n",
       "      <td>2.000000</td>\n",
       "      <td>317.100000</td>\n",
       "      <td>13.800000</td>\n",
       "      <td>4.700000</td>\n",
       "      <td>42.600000</td>\n",
       "      <td>3.533000e+02</td>\n",
       "      <td>28.200000</td>\n",
       "      <td>2.200000</td>\n",
       "      <td>6.400000</td>\n",
       "      <td>9.100000</td>\n",
       "      <td>6.000000</td>\n",
       "    </tr>\n",
       "    <tr>\n",
       "      <th>75%</th>\n",
       "      <td>406145.000000</td>\n",
       "      <td>5.658280e+05</td>\n",
       "      <td>5.000000</td>\n",
       "      <td>4.000000</td>\n",
       "      <td>529.100000</td>\n",
       "      <td>27.400000</td>\n",
       "      <td>10.800000</td>\n",
       "      <td>107.900000</td>\n",
       "      <td>7.922000e+02</td>\n",
       "      <td>51.100000</td>\n",
       "      <td>4.600000</td>\n",
       "      <td>17.900000</td>\n",
       "      <td>25.000000</td>\n",
       "      <td>8.000000</td>\n",
       "    </tr>\n",
       "    <tr>\n",
       "      <th>max</th>\n",
       "      <td>541383.000000</td>\n",
       "      <td>2.002886e+09</td>\n",
       "      <td>5.000000</td>\n",
       "      <td>3063.000000</td>\n",
       "      <td>612854.600000</td>\n",
       "      <td>64368.100000</td>\n",
       "      <td>26740.600000</td>\n",
       "      <td>130456.400000</td>\n",
       "      <td>1.246921e+06</td>\n",
       "      <td>108294.600000</td>\n",
       "      <td>3012.000000</td>\n",
       "      <td>90682.300000</td>\n",
       "      <td>18396.200000</td>\n",
       "      <td>32767.000000</td>\n",
       "    </tr>\n",
       "  </tbody>\n",
       "</table>\n",
       "</div>"
      ],
      "text/plain": [
       "            RecipeId      AuthorId  AggregatedRating    ReviewCount  \\\n",
       "count  522517.000000  5.225170e+05     269294.000000  275028.000000   \n",
       "mean   271821.436970  4.572585e+07          4.632014       5.227784   \n",
       "std    155495.878422  2.929714e+08          0.641934      20.381347   \n",
       "min        38.000000  2.700000e+01          1.000000       1.000000   \n",
       "25%    137206.000000  6.947400e+04          4.500000       1.000000   \n",
       "50%    271758.000000  2.389370e+05          5.000000       2.000000   \n",
       "75%    406145.000000  5.658280e+05          5.000000       4.000000   \n",
       "max    541383.000000  2.002886e+09          5.000000    3063.000000   \n",
       "\n",
       "            Calories     FatContent  SaturatedFatContent  CholesterolContent  \\\n",
       "count  522517.000000  522517.000000        522517.000000       522517.000000   \n",
       "mean      484.438580      24.614922             9.559457           86.487003   \n",
       "std      1397.116649     111.485798            46.622621          301.987009   \n",
       "min         0.000000       0.000000             0.000000            0.000000   \n",
       "25%       174.200000       5.600000             1.500000            3.800000   \n",
       "50%       317.100000      13.800000             4.700000           42.600000   \n",
       "75%       529.100000      27.400000            10.800000          107.900000   \n",
       "max    612854.600000   64368.100000         26740.600000       130456.400000   \n",
       "\n",
       "       SodiumContent  CarbohydrateContent   FiberContent   SugarContent  \\\n",
       "count   5.225170e+05        522517.000000  522517.000000  522517.000000   \n",
       "mean    7.672639e+02            49.089092       3.843242      21.878254   \n",
       "std     4.203621e+03           180.822062       8.603163     142.620191   \n",
       "min     0.000000e+00             0.000000       0.000000       0.000000   \n",
       "25%     1.233000e+02            12.800000       0.800000       2.500000   \n",
       "50%     3.533000e+02            28.200000       2.200000       6.400000   \n",
       "75%     7.922000e+02            51.100000       4.600000      17.900000   \n",
       "max     1.246921e+06        108294.600000    3012.000000   90682.300000   \n",
       "\n",
       "       ProteinContent  RecipeServings  \n",
       "count   522517.000000   339606.000000  \n",
       "mean        17.469510        8.606191  \n",
       "std         40.128837      114.319809  \n",
       "min          0.000000        1.000000  \n",
       "25%          3.500000        4.000000  \n",
       "50%          9.100000        6.000000  \n",
       "75%         25.000000        8.000000  \n",
       "max      18396.200000    32767.000000  "
      ]
     },
     "execution_count": 7,
     "metadata": {},
     "output_type": "execute_result"
    }
   ],
   "source": [
    "recipe.describe()"
   ]
  },
  {
   "cell_type": "code",
   "execution_count": 21,
   "metadata": {},
   "outputs": [
    {
     "data": {
      "text/plain": [
       "0    4.0\n",
       "1    6.0\n",
       "2    4.0\n",
       "3    2.0\n",
       "4    4.0\n",
       "Name: RecipeServings, dtype: float64"
      ]
     },
     "execution_count": 21,
     "metadata": {},
     "output_type": "execute_result"
    }
   ],
   "source": [
    "recipe['RecipeServings'].head()"
   ]
  },
  {
   "cell_type": "code",
   "execution_count": 19,
   "metadata": {},
   "outputs": [
    {
     "data": {
      "text/plain": [
       "0    c(\"blueberries\", \"granulated sugar\", \"vanilla ...\n",
       "1    c(\"saffron\", \"milk\", \"hot green chili peppers\"...\n",
       "2    c(\"sugar\", \"lemons, rind of\", \"lemon, zest of\"...\n",
       "3    c(\"extra firm tofu\", \"eggplant\", \"zucchini\", \"...\n",
       "4    c(\"plain tomato juice\", \"cabbage\", \"onion\", \"c...\n",
       "Name: RecipeIngredientParts, dtype: object"
      ]
     },
     "execution_count": 19,
     "metadata": {},
     "output_type": "execute_result"
    }
   ],
   "source": [
    "recipe['RecipeIngredientParts'].head()"
   ]
  },
  {
   "cell_type": "code",
   "execution_count": 27,
   "metadata": {},
   "outputs": [
    {
     "data": {
      "text/plain": [
       "Index(['RecipeId', 'Name', 'AuthorId', 'AuthorName', 'CookTime', 'PrepTime',\n",
       "       'TotalTime', 'DatePublished', 'Description', 'Images', 'RecipeCategory',\n",
       "       'Keywords', 'RecipeIngredientQuantities', 'RecipeIngredientParts',\n",
       "       'AggregatedRating', 'ReviewCount', 'Calories', 'FatContent',\n",
       "       'SaturatedFatContent', 'CholesterolContent', 'SodiumContent',\n",
       "       'CarbohydrateContent', 'FiberContent', 'SugarContent', 'ProteinContent',\n",
       "       'RecipeServings', 'RecipeYield', 'RecipeInstructions'],\n",
       "      dtype='object')"
      ]
     },
     "execution_count": 27,
     "metadata": {},
     "output_type": "execute_result"
    }
   ],
   "source": [
    "recipe.columns"
   ]
  },
  {
   "cell_type": "code",
   "execution_count": 26,
   "metadata": {},
   "outputs": [
    {
     "data": {
      "text/html": [
       "<div>\n",
       "<style scoped>\n",
       "    .dataframe tbody tr th:only-of-type {\n",
       "        vertical-align: middle;\n",
       "    }\n",
       "\n",
       "    .dataframe tbody tr th {\n",
       "        vertical-align: top;\n",
       "    }\n",
       "\n",
       "    .dataframe thead th {\n",
       "        text-align: right;\n",
       "    }\n",
       "</style>\n",
       "<table border=\"1\" class=\"dataframe\">\n",
       "  <thead>\n",
       "    <tr style=\"text-align: right;\">\n",
       "      <th></th>\n",
       "      <th>RecipeId</th>\n",
       "      <th>Name</th>\n",
       "      <th>AuthorId</th>\n",
       "      <th>AuthorName</th>\n",
       "      <th>CookTime</th>\n",
       "      <th>PrepTime</th>\n",
       "      <th>TotalTime</th>\n",
       "      <th>DatePublished</th>\n",
       "      <th>Description</th>\n",
       "      <th>Images</th>\n",
       "      <th>...</th>\n",
       "      <th>SaturatedFatContent</th>\n",
       "      <th>CholesterolContent</th>\n",
       "      <th>SodiumContent</th>\n",
       "      <th>CarbohydrateContent</th>\n",
       "      <th>FiberContent</th>\n",
       "      <th>SugarContent</th>\n",
       "      <th>ProteinContent</th>\n",
       "      <th>RecipeServings</th>\n",
       "      <th>RecipeYield</th>\n",
       "      <th>RecipeInstructions</th>\n",
       "    </tr>\n",
       "  </thead>\n",
       "  <tbody>\n",
       "    <tr>\n",
       "      <th>0</th>\n",
       "      <td>38</td>\n",
       "      <td>Low-Fat Berry Blue Frozen Dessert</td>\n",
       "      <td>1533</td>\n",
       "      <td>Dancer</td>\n",
       "      <td>PT24H</td>\n",
       "      <td>PT45M</td>\n",
       "      <td>PT24H45M</td>\n",
       "      <td>1999-08-09T21:46:00Z</td>\n",
       "      <td>Make and share this Low-Fat Berry Blue Frozen ...</td>\n",
       "      <td>c(\"https://img.sndimg.com/food/image/upload/w_...</td>\n",
       "      <td>...</td>\n",
       "      <td>1.3</td>\n",
       "      <td>8.0</td>\n",
       "      <td>29.8</td>\n",
       "      <td>37.1</td>\n",
       "      <td>3.6</td>\n",
       "      <td>30.2</td>\n",
       "      <td>3.2</td>\n",
       "      <td>4.0</td>\n",
       "      <td>NaN</td>\n",
       "      <td>c(\"Toss 2 cups berries with sugar.\", \"Let stan...</td>\n",
       "    </tr>\n",
       "    <tr>\n",
       "      <th>1</th>\n",
       "      <td>39</td>\n",
       "      <td>Biryani</td>\n",
       "      <td>1567</td>\n",
       "      <td>elly9812</td>\n",
       "      <td>PT25M</td>\n",
       "      <td>PT4H</td>\n",
       "      <td>PT4H25M</td>\n",
       "      <td>1999-08-29T13:12:00Z</td>\n",
       "      <td>Make and share this Biryani recipe from Food.com.</td>\n",
       "      <td>c(\"https://img.sndimg.com/food/image/upload/w_...</td>\n",
       "      <td>...</td>\n",
       "      <td>16.6</td>\n",
       "      <td>372.8</td>\n",
       "      <td>368.4</td>\n",
       "      <td>84.4</td>\n",
       "      <td>9.0</td>\n",
       "      <td>20.4</td>\n",
       "      <td>63.4</td>\n",
       "      <td>6.0</td>\n",
       "      <td>NaN</td>\n",
       "      <td>c(\"Soak saffron in warm milk for 5 minutes and...</td>\n",
       "    </tr>\n",
       "    <tr>\n",
       "      <th>2</th>\n",
       "      <td>40</td>\n",
       "      <td>Best Lemonade</td>\n",
       "      <td>1566</td>\n",
       "      <td>Stephen Little</td>\n",
       "      <td>PT5M</td>\n",
       "      <td>PT30M</td>\n",
       "      <td>PT35M</td>\n",
       "      <td>1999-09-05T19:52:00Z</td>\n",
       "      <td>This is from one of my  first Good House Keepi...</td>\n",
       "      <td>c(\"https://img.sndimg.com/food/image/upload/w_...</td>\n",
       "      <td>...</td>\n",
       "      <td>0.0</td>\n",
       "      <td>0.0</td>\n",
       "      <td>1.8</td>\n",
       "      <td>81.5</td>\n",
       "      <td>0.4</td>\n",
       "      <td>77.2</td>\n",
       "      <td>0.3</td>\n",
       "      <td>4.0</td>\n",
       "      <td>NaN</td>\n",
       "      <td>c(\"Into a 1 quart Jar with tight fitting lid, ...</td>\n",
       "    </tr>\n",
       "    <tr>\n",
       "      <th>3</th>\n",
       "      <td>41</td>\n",
       "      <td>Carina's Tofu-Vegetable Kebabs</td>\n",
       "      <td>1586</td>\n",
       "      <td>Cyclopz</td>\n",
       "      <td>PT20M</td>\n",
       "      <td>PT24H</td>\n",
       "      <td>PT24H20M</td>\n",
       "      <td>1999-09-03T14:54:00Z</td>\n",
       "      <td>This dish is best prepared a day in advance to...</td>\n",
       "      <td>c(\"https://img.sndimg.com/food/image/upload/w_...</td>\n",
       "      <td>...</td>\n",
       "      <td>3.8</td>\n",
       "      <td>0.0</td>\n",
       "      <td>1558.6</td>\n",
       "      <td>64.2</td>\n",
       "      <td>17.3</td>\n",
       "      <td>32.1</td>\n",
       "      <td>29.3</td>\n",
       "      <td>2.0</td>\n",
       "      <td>4 kebabs</td>\n",
       "      <td>c(\"Drain the tofu, carefully squeezing out exc...</td>\n",
       "    </tr>\n",
       "    <tr>\n",
       "      <th>4</th>\n",
       "      <td>42</td>\n",
       "      <td>Cabbage Soup</td>\n",
       "      <td>1538</td>\n",
       "      <td>Duckie067</td>\n",
       "      <td>PT30M</td>\n",
       "      <td>PT20M</td>\n",
       "      <td>PT50M</td>\n",
       "      <td>1999-09-19T06:19:00Z</td>\n",
       "      <td>Make and share this Cabbage Soup recipe from F...</td>\n",
       "      <td>\"https://img.sndimg.com/food/image/upload/w_55...</td>\n",
       "      <td>...</td>\n",
       "      <td>0.1</td>\n",
       "      <td>0.0</td>\n",
       "      <td>959.3</td>\n",
       "      <td>25.1</td>\n",
       "      <td>4.8</td>\n",
       "      <td>17.7</td>\n",
       "      <td>4.3</td>\n",
       "      <td>4.0</td>\n",
       "      <td>NaN</td>\n",
       "      <td>c(\"Mix everything together and bring to a boil...</td>\n",
       "    </tr>\n",
       "  </tbody>\n",
       "</table>\n",
       "<p>5 rows × 28 columns</p>\n",
       "</div>"
      ],
      "text/plain": [
       "   RecipeId                               Name  AuthorId      AuthorName  \\\n",
       "0        38  Low-Fat Berry Blue Frozen Dessert      1533          Dancer   \n",
       "1        39                            Biryani      1567        elly9812   \n",
       "2        40                      Best Lemonade      1566  Stephen Little   \n",
       "3        41     Carina's Tofu-Vegetable Kebabs      1586         Cyclopz   \n",
       "4        42                       Cabbage Soup      1538       Duckie067   \n",
       "\n",
       "  CookTime PrepTime TotalTime         DatePublished  \\\n",
       "0    PT24H    PT45M  PT24H45M  1999-08-09T21:46:00Z   \n",
       "1    PT25M     PT4H   PT4H25M  1999-08-29T13:12:00Z   \n",
       "2     PT5M    PT30M     PT35M  1999-09-05T19:52:00Z   \n",
       "3    PT20M    PT24H  PT24H20M  1999-09-03T14:54:00Z   \n",
       "4    PT30M    PT20M     PT50M  1999-09-19T06:19:00Z   \n",
       "\n",
       "                                         Description  \\\n",
       "0  Make and share this Low-Fat Berry Blue Frozen ...   \n",
       "1  Make and share this Biryani recipe from Food.com.   \n",
       "2  This is from one of my  first Good House Keepi...   \n",
       "3  This dish is best prepared a day in advance to...   \n",
       "4  Make and share this Cabbage Soup recipe from F...   \n",
       "\n",
       "                                              Images  ... SaturatedFatContent  \\\n",
       "0  c(\"https://img.sndimg.com/food/image/upload/w_...  ...                 1.3   \n",
       "1  c(\"https://img.sndimg.com/food/image/upload/w_...  ...                16.6   \n",
       "2  c(\"https://img.sndimg.com/food/image/upload/w_...  ...                 0.0   \n",
       "3  c(\"https://img.sndimg.com/food/image/upload/w_...  ...                 3.8   \n",
       "4  \"https://img.sndimg.com/food/image/upload/w_55...  ...                 0.1   \n",
       "\n",
       "  CholesterolContent SodiumContent CarbohydrateContent  FiberContent  \\\n",
       "0                8.0          29.8                37.1           3.6   \n",
       "1              372.8         368.4                84.4           9.0   \n",
       "2                0.0           1.8                81.5           0.4   \n",
       "3                0.0        1558.6                64.2          17.3   \n",
       "4                0.0         959.3                25.1           4.8   \n",
       "\n",
       "   SugarContent  ProteinContent  RecipeServings  RecipeYield  \\\n",
       "0          30.2             3.2             4.0          NaN   \n",
       "1          20.4            63.4             6.0          NaN   \n",
       "2          77.2             0.3             4.0          NaN   \n",
       "3          32.1            29.3             2.0     4 kebabs   \n",
       "4          17.7             4.3             4.0          NaN   \n",
       "\n",
       "                                  RecipeInstructions  \n",
       "0  c(\"Toss 2 cups berries with sugar.\", \"Let stan...  \n",
       "1  c(\"Soak saffron in warm milk for 5 minutes and...  \n",
       "2  c(\"Into a 1 quart Jar with tight fitting lid, ...  \n",
       "3  c(\"Drain the tofu, carefully squeezing out exc...  \n",
       "4  c(\"Mix everything together and bring to a boil...  \n",
       "\n",
       "[5 rows x 28 columns]"
      ]
     },
     "execution_count": 26,
     "metadata": {},
     "output_type": "execute_result"
    }
   ],
   "source": [
    "recipe.head()"
   ]
  },
  {
   "cell_type": "code",
   "execution_count": 24,
   "metadata": {},
   "outputs": [],
   "source": [
    "review = pd.read_csv(\"C:/Users/SLL583/Desktop/Data Science and Analytics/CS5706 MACHINE LEARNING/CS5811 Coursework/reviews.csv\")"
   ]
  },
  {
   "cell_type": "code",
   "execution_count": 25,
   "metadata": {},
   "outputs": [
    {
     "data": {
      "text/plain": [
       "Index(['ReviewId', 'RecipeId', 'AuthorId', 'AuthorName', 'Rating', 'Review',\n",
       "       'DateSubmitted', 'DateModified'],\n",
       "      dtype='object')"
      ]
     },
     "execution_count": 25,
     "metadata": {},
     "output_type": "execute_result"
    }
   ],
   "source": [
    "review.columns"
   ]
  },
  {
   "cell_type": "code",
   "execution_count": 28,
   "metadata": {},
   "outputs": [
    {
     "data": {
      "text/plain": [
       "Index(['RecipeId', 'Name', 'AuthorId', 'AuthorName', 'CookTime', 'PrepTime',\n",
       "       'TotalTime', 'DatePublished', 'Description', 'Images', 'RecipeCategory',\n",
       "       'Keywords', 'RecipeIngredientQuantities', 'RecipeIngredientParts',\n",
       "       'AggregatedRating', 'ReviewCount', 'Calories', 'FatContent',\n",
       "       'SaturatedFatContent', 'CholesterolContent', 'SodiumContent',\n",
       "       'CarbohydrateContent', 'FiberContent', 'SugarContent', 'ProteinContent',\n",
       "       'RecipeServings', 'RecipeYield', 'RecipeInstructions'],\n",
       "      dtype='object')"
      ]
     },
     "execution_count": 28,
     "metadata": {},
     "output_type": "execute_result"
    }
   ],
   "source": [
    "recipe.columns"
   ]
  },
  {
   "cell_type": "code",
   "execution_count": 29,
   "metadata": {},
   "outputs": [],
   "source": [
    "recipeClean = recipe.drop(columns=['AuthorId','AuthorName','DatePublished','Description','Images','Keywords','RecipeIngredientParts','RecipeServings','RecipeYield','RecipeInstructions'])"
   ]
  },
  {
   "cell_type": "code",
   "execution_count": 30,
   "metadata": {},
   "outputs": [
    {
     "data": {
      "text/plain": [
       "RecipeId                           0\n",
       "Name                               0\n",
       "AuthorId                           0\n",
       "AuthorName                         0\n",
       "CookTime                       82545\n",
       "PrepTime                           0\n",
       "TotalTime                          0\n",
       "DatePublished                      0\n",
       "Description                        5\n",
       "Images                             1\n",
       "RecipeCategory                   751\n",
       "Keywords                       17237\n",
       "RecipeIngredientQuantities         3\n",
       "RecipeIngredientParts              0\n",
       "AggregatedRating              253223\n",
       "ReviewCount                   247489\n",
       "Calories                           0\n",
       "FatContent                         0\n",
       "SaturatedFatContent                0\n",
       "CholesterolContent                 0\n",
       "SodiumContent                      0\n",
       "CarbohydrateContent                0\n",
       "FiberContent                       0\n",
       "SugarContent                       0\n",
       "ProteinContent                     0\n",
       "RecipeServings                182911\n",
       "RecipeYield                   348071\n",
       "RecipeInstructions                 0\n",
       "dtype: int64"
      ]
     },
     "execution_count": 30,
     "metadata": {},
     "output_type": "execute_result"
    }
   ],
   "source": [
    "recipe.isna().sum()"
   ]
  },
  {
   "cell_type": "code",
   "execution_count": 31,
   "metadata": {},
   "outputs": [
    {
     "data": {
      "text/plain": [
       "RecipeId                           0\n",
       "Name                               0\n",
       "CookTime                       82545\n",
       "PrepTime                           0\n",
       "TotalTime                          0\n",
       "RecipeCategory                   751\n",
       "RecipeIngredientQuantities         3\n",
       "AggregatedRating              253223\n",
       "ReviewCount                   247489\n",
       "Calories                           0\n",
       "FatContent                         0\n",
       "SaturatedFatContent                0\n",
       "CholesterolContent                 0\n",
       "SodiumContent                      0\n",
       "CarbohydrateContent                0\n",
       "FiberContent                       0\n",
       "SugarContent                       0\n",
       "ProteinContent                     0\n",
       "dtype: int64"
      ]
     },
     "execution_count": 31,
     "metadata": {},
     "output_type": "execute_result"
    }
   ],
   "source": [
    "recipeClean.isna().sum()"
   ]
  },
  {
   "cell_type": "code",
   "execution_count": 32,
   "metadata": {},
   "outputs": [],
   "source": [
    "reviewClean = review.drop(columns=['AuthorId','AuthorName','DateSubmitted', 'DateModified'])"
   ]
  },
  {
   "cell_type": "code",
   "execution_count": 33,
   "metadata": {},
   "outputs": [
    {
     "data": {
      "text/plain": [
       "ReviewId           0\n",
       "RecipeId           0\n",
       "AuthorId           0\n",
       "AuthorName         0\n",
       "Rating             0\n",
       "Review           214\n",
       "DateSubmitted      0\n",
       "DateModified       0\n",
       "dtype: int64"
      ]
     },
     "execution_count": 33,
     "metadata": {},
     "output_type": "execute_result"
    }
   ],
   "source": [
    "review.isna().sum()"
   ]
  },
  {
   "cell_type": "code",
   "execution_count": 34,
   "metadata": {},
   "outputs": [
    {
     "data": {
      "text/plain": [
       "0"
      ]
     },
     "execution_count": 34,
     "metadata": {},
     "output_type": "execute_result"
    }
   ],
   "source": [
    "reviewClean.duplicated().sum()"
   ]
  },
  {
   "cell_type": "code",
   "execution_count": 35,
   "metadata": {},
   "outputs": [
    {
     "data": {
      "text/plain": [
       "0"
      ]
     },
     "execution_count": 35,
     "metadata": {},
     "output_type": "execute_result"
    }
   ],
   "source": [
    "recipeClean.duplicated().sum()"
   ]
  },
  {
   "cell_type": "code",
   "execution_count": 36,
   "metadata": {},
   "outputs": [
    {
     "data": {
      "text/plain": [
       "0         PT24H\n",
       "1         PT25M\n",
       "2          PT5M\n",
       "3         PT20M\n",
       "4         PT30M\n",
       "          ...  \n",
       "522512    PT35M\n",
       "522513     PT3H\n",
       "522514     PT3H\n",
       "522515      NaN\n",
       "522516    PT25M\n",
       "Name: CookTime, Length: 522517, dtype: object"
      ]
     },
     "execution_count": 36,
     "metadata": {},
     "output_type": "execute_result"
    }
   ],
   "source": [
    "recipeClean['CookTime']"
   ]
  },
  {
   "cell_type": "code",
   "execution_count": 40,
   "metadata": {},
   "outputs": [
    {
     "data": {
      "text/html": [
       "<div>\n",
       "<style scoped>\n",
       "    .dataframe tbody tr th:only-of-type {\n",
       "        vertical-align: middle;\n",
       "    }\n",
       "\n",
       "    .dataframe tbody tr th {\n",
       "        vertical-align: top;\n",
       "    }\n",
       "\n",
       "    .dataframe thead th {\n",
       "        text-align: right;\n",
       "    }\n",
       "</style>\n",
       "<table border=\"1\" class=\"dataframe\">\n",
       "  <thead>\n",
       "    <tr style=\"text-align: right;\">\n",
       "      <th></th>\n",
       "      <th>RecipeId</th>\n",
       "      <th>Name</th>\n",
       "      <th>CookTime</th>\n",
       "      <th>PrepTime</th>\n",
       "      <th>TotalTime</th>\n",
       "      <th>RecipeCategory</th>\n",
       "      <th>RecipeIngredientQuantities</th>\n",
       "      <th>AggregatedRating</th>\n",
       "      <th>ReviewCount</th>\n",
       "      <th>Calories</th>\n",
       "      <th>FatContent</th>\n",
       "      <th>SaturatedFatContent</th>\n",
       "      <th>CholesterolContent</th>\n",
       "      <th>SodiumContent</th>\n",
       "      <th>CarbohydrateContent</th>\n",
       "      <th>FiberContent</th>\n",
       "      <th>SugarContent</th>\n",
       "      <th>ProteinContent</th>\n",
       "    </tr>\n",
       "  </thead>\n",
       "  <tbody>\n",
       "    <tr>\n",
       "      <th>0</th>\n",
       "      <td>38</td>\n",
       "      <td>Low-Fat Berry Blue Frozen Dessert</td>\n",
       "      <td>PT24H</td>\n",
       "      <td>PT45M</td>\n",
       "      <td>PT24H45M</td>\n",
       "      <td>Frozen Desserts</td>\n",
       "      <td>c(\"4\", \"1/4\", \"1\", \"1\")</td>\n",
       "      <td>4.5</td>\n",
       "      <td>4.0</td>\n",
       "      <td>170.9</td>\n",
       "      <td>2.5</td>\n",
       "      <td>1.3</td>\n",
       "      <td>8.0</td>\n",
       "      <td>29.8</td>\n",
       "      <td>37.1</td>\n",
       "      <td>3.6</td>\n",
       "      <td>30.2</td>\n",
       "      <td>3.2</td>\n",
       "    </tr>\n",
       "    <tr>\n",
       "      <th>1</th>\n",
       "      <td>39</td>\n",
       "      <td>Biryani</td>\n",
       "      <td>PT25M</td>\n",
       "      <td>PT4H</td>\n",
       "      <td>PT4H25M</td>\n",
       "      <td>Chicken Breast</td>\n",
       "      <td>c(\"1\", \"4\", \"2\", \"2\", \"8\", \"1/4\", \"8\", \"1/2\", ...</td>\n",
       "      <td>3.0</td>\n",
       "      <td>1.0</td>\n",
       "      <td>1110.7</td>\n",
       "      <td>58.8</td>\n",
       "      <td>16.6</td>\n",
       "      <td>372.8</td>\n",
       "      <td>368.4</td>\n",
       "      <td>84.4</td>\n",
       "      <td>9.0</td>\n",
       "      <td>20.4</td>\n",
       "      <td>63.4</td>\n",
       "    </tr>\n",
       "    <tr>\n",
       "      <th>2</th>\n",
       "      <td>40</td>\n",
       "      <td>Best Lemonade</td>\n",
       "      <td>PT5M</td>\n",
       "      <td>PT30M</td>\n",
       "      <td>PT35M</td>\n",
       "      <td>Beverages</td>\n",
       "      <td>c(\"1 1/2\", \"1\", NA, \"1 1/2\", NA, \"3/4\")</td>\n",
       "      <td>4.5</td>\n",
       "      <td>10.0</td>\n",
       "      <td>311.1</td>\n",
       "      <td>0.2</td>\n",
       "      <td>0.0</td>\n",
       "      <td>0.0</td>\n",
       "      <td>1.8</td>\n",
       "      <td>81.5</td>\n",
       "      <td>0.4</td>\n",
       "      <td>77.2</td>\n",
       "      <td>0.3</td>\n",
       "    </tr>\n",
       "    <tr>\n",
       "      <th>3</th>\n",
       "      <td>41</td>\n",
       "      <td>Carina's Tofu-Vegetable Kebabs</td>\n",
       "      <td>PT20M</td>\n",
       "      <td>PT24H</td>\n",
       "      <td>PT24H20M</td>\n",
       "      <td>Soy/Tofu</td>\n",
       "      <td>c(\"12\", \"1\", \"2\", \"1\", \"10\", \"1\", \"3\", \"2\", \"2...</td>\n",
       "      <td>4.5</td>\n",
       "      <td>2.0</td>\n",
       "      <td>536.1</td>\n",
       "      <td>24.0</td>\n",
       "      <td>3.8</td>\n",
       "      <td>0.0</td>\n",
       "      <td>1558.6</td>\n",
       "      <td>64.2</td>\n",
       "      <td>17.3</td>\n",
       "      <td>32.1</td>\n",
       "      <td>29.3</td>\n",
       "    </tr>\n",
       "    <tr>\n",
       "      <th>4</th>\n",
       "      <td>42</td>\n",
       "      <td>Cabbage Soup</td>\n",
       "      <td>PT30M</td>\n",
       "      <td>PT20M</td>\n",
       "      <td>PT50M</td>\n",
       "      <td>Vegetable</td>\n",
       "      <td>c(\"46\", \"4\", \"1\", \"2\", \"1\")</td>\n",
       "      <td>4.5</td>\n",
       "      <td>11.0</td>\n",
       "      <td>103.6</td>\n",
       "      <td>0.4</td>\n",
       "      <td>0.1</td>\n",
       "      <td>0.0</td>\n",
       "      <td>959.3</td>\n",
       "      <td>25.1</td>\n",
       "      <td>4.8</td>\n",
       "      <td>17.7</td>\n",
       "      <td>4.3</td>\n",
       "    </tr>\n",
       "  </tbody>\n",
       "</table>\n",
       "</div>"
      ],
      "text/plain": [
       "   RecipeId                               Name CookTime PrepTime TotalTime  \\\n",
       "0        38  Low-Fat Berry Blue Frozen Dessert    PT24H    PT45M  PT24H45M   \n",
       "1        39                            Biryani    PT25M     PT4H   PT4H25M   \n",
       "2        40                      Best Lemonade     PT5M    PT30M     PT35M   \n",
       "3        41     Carina's Tofu-Vegetable Kebabs    PT20M    PT24H  PT24H20M   \n",
       "4        42                       Cabbage Soup    PT30M    PT20M     PT50M   \n",
       "\n",
       "    RecipeCategory                         RecipeIngredientQuantities  \\\n",
       "0  Frozen Desserts                            c(\"4\", \"1/4\", \"1\", \"1\")   \n",
       "1   Chicken Breast  c(\"1\", \"4\", \"2\", \"2\", \"8\", \"1/4\", \"8\", \"1/2\", ...   \n",
       "2        Beverages            c(\"1 1/2\", \"1\", NA, \"1 1/2\", NA, \"3/4\")   \n",
       "3         Soy/Tofu  c(\"12\", \"1\", \"2\", \"1\", \"10\", \"1\", \"3\", \"2\", \"2...   \n",
       "4        Vegetable                        c(\"46\", \"4\", \"1\", \"2\", \"1\")   \n",
       "\n",
       "   AggregatedRating  ReviewCount  Calories  FatContent  SaturatedFatContent  \\\n",
       "0               4.5          4.0     170.9         2.5                  1.3   \n",
       "1               3.0          1.0    1110.7        58.8                 16.6   \n",
       "2               4.5         10.0     311.1         0.2                  0.0   \n",
       "3               4.5          2.0     536.1        24.0                  3.8   \n",
       "4               4.5         11.0     103.6         0.4                  0.1   \n",
       "\n",
       "   CholesterolContent  SodiumContent  CarbohydrateContent  FiberContent  \\\n",
       "0                 8.0           29.8                 37.1           3.6   \n",
       "1               372.8          368.4                 84.4           9.0   \n",
       "2                 0.0            1.8                 81.5           0.4   \n",
       "3                 0.0         1558.6                 64.2          17.3   \n",
       "4                 0.0          959.3                 25.1           4.8   \n",
       "\n",
       "   SugarContent  ProteinContent  \n",
       "0          30.2             3.2  \n",
       "1          20.4            63.4  \n",
       "2          77.2             0.3  \n",
       "3          32.1            29.3  \n",
       "4          17.7             4.3  "
      ]
     },
     "execution_count": 40,
     "metadata": {},
     "output_type": "execute_result"
    }
   ],
   "source": [
    "recipeClean.head()"
   ]
  },
  {
   "cell_type": "code",
   "execution_count": 41,
   "metadata": {},
   "outputs": [],
   "source": [
    "recipeNa = recipeClean.dropna()"
   ]
  },
  {
   "cell_type": "code",
   "execution_count": 42,
   "metadata": {},
   "outputs": [],
   "source": [
    "reviewNa = reviewClean.dropna()"
   ]
  },
  {
   "cell_type": "code",
   "execution_count": 45,
   "metadata": {},
   "outputs": [
    {
     "name": "stdout",
     "output_type": "stream",
     "text": [
      "(522517, 28)\n",
      "(522517, 18)\n",
      "(226272, 18)\n",
      "(1401982, 8)\n",
      "(1401982, 4)\n",
      "(1401768, 4)\n"
     ]
    }
   ],
   "source": [
    "print(recipe.shape)\n",
    "print(recipeClean.shape)\n",
    "print(recipeNa.shape)\n",
    "print(review.shape)\n",
    "print(reviewClean.shape)\n",
    "print(reviewNa.shape)"
   ]
  },
  {
   "cell_type": "code",
   "execution_count": 47,
   "metadata": {},
   "outputs": [
    {
     "name": "stdout",
     "output_type": "stream",
     "text": [
      "Collecting textblob\n",
      "  Downloading textblob-0.15.3-py2.py3-none-any.whl (636 kB)\n",
      "Requirement already satisfied: nltk>=3.1 in c:\\users\\sll583\\anaconda3\\lib\\site-packages (from textblob) (3.5)\n",
      "Requirement already satisfied: tqdm in c:\\users\\sll583\\anaconda3\\lib\\site-packages (from nltk>=3.1->textblob) (4.50.2)\n",
      "Requirement already satisfied: regex in c:\\users\\sll583\\anaconda3\\lib\\site-packages (from nltk>=3.1->textblob) (2020.10.15)\n",
      "Requirement already satisfied: click in c:\\users\\sll583\\anaconda3\\lib\\site-packages (from nltk>=3.1->textblob) (7.1.2)\n",
      "Requirement already satisfied: joblib in c:\\users\\sll583\\anaconda3\\lib\\site-packages (from nltk>=3.1->textblob) (0.17.0)\n",
      "Installing collected packages: textblob\n",
      "Successfully installed textblob-0.15.3\n"
     ]
    }
   ],
   "source": [
    "!pip install textblob\n",
    "import glob\n",
    "import re\n",
    "import pandas as pd\n",
    "from textblob import TextBlob"
   ]
  },
  {
   "cell_type": "code",
   "execution_count": 48,
   "metadata": {},
   "outputs": [],
   "source": [
    "\n",
    "def sentiment(x):\n",
    "    text = str(x)\n",
    "    polarity = TextBlob(text).sentiment.polarity*100\n",
    "    sensitivity = TextBlob(text).sentiment.subjectivity*100\n",
    "    \n",
    "    if sensitivity > 50:\n",
    "        if polarity>=0:\n",
    "            if polarity >=40 and polarity <80:\n",
    "                return \"good\"\n",
    "            if polarity >=80 and polarity <=100:\n",
    "                return \"very good\"\n",
    "            if polarity <=39:\n",
    "                return \"average\"\n",
    "\n",
    "        if polarity<0:\n",
    "            polarity = polarity * -1\n",
    "            if polarity <=39:\n",
    "                return \"average\"\n",
    "            if polarity >=40 and polarity <80:\n",
    "                return \"poor\"\n",
    "            if polarity >=80 and polarity <=100:\n",
    "                return \"very poor\"\n",
    "    else:\n",
    "        return \"average\""
   ]
  },
  {
   "cell_type": "code",
   "execution_count": 49,
   "metadata": {},
   "outputs": [
    {
     "data": {
      "text/html": [
       "<div>\n",
       "<style scoped>\n",
       "    .dataframe tbody tr th:only-of-type {\n",
       "        vertical-align: middle;\n",
       "    }\n",
       "\n",
       "    .dataframe tbody tr th {\n",
       "        vertical-align: top;\n",
       "    }\n",
       "\n",
       "    .dataframe thead th {\n",
       "        text-align: right;\n",
       "    }\n",
       "</style>\n",
       "<table border=\"1\" class=\"dataframe\">\n",
       "  <thead>\n",
       "    <tr style=\"text-align: right;\">\n",
       "      <th></th>\n",
       "      <th>ReviewId</th>\n",
       "      <th>RecipeId</th>\n",
       "      <th>Rating</th>\n",
       "      <th>Review</th>\n",
       "    </tr>\n",
       "  </thead>\n",
       "  <tbody>\n",
       "    <tr>\n",
       "      <th>0</th>\n",
       "      <td>2</td>\n",
       "      <td>992</td>\n",
       "      <td>5</td>\n",
       "      <td>better than any you can get at a restaurant!</td>\n",
       "    </tr>\n",
       "    <tr>\n",
       "      <th>1</th>\n",
       "      <td>7</td>\n",
       "      <td>4384</td>\n",
       "      <td>4</td>\n",
       "      <td>I cut back on the mayo, and made up the differ...</td>\n",
       "    </tr>\n",
       "    <tr>\n",
       "      <th>2</th>\n",
       "      <td>9</td>\n",
       "      <td>4523</td>\n",
       "      <td>2</td>\n",
       "      <td>i think i did something wrong because i could ...</td>\n",
       "    </tr>\n",
       "    <tr>\n",
       "      <th>3</th>\n",
       "      <td>13</td>\n",
       "      <td>7435</td>\n",
       "      <td>5</td>\n",
       "      <td>easily the best i have ever had.  juicy flavor...</td>\n",
       "    </tr>\n",
       "    <tr>\n",
       "      <th>4</th>\n",
       "      <td>14</td>\n",
       "      <td>44</td>\n",
       "      <td>5</td>\n",
       "      <td>An excellent dish.</td>\n",
       "    </tr>\n",
       "  </tbody>\n",
       "</table>\n",
       "</div>"
      ],
      "text/plain": [
       "   ReviewId  RecipeId  Rating  \\\n",
       "0         2       992       5   \n",
       "1         7      4384       4   \n",
       "2         9      4523       2   \n",
       "3        13      7435       5   \n",
       "4        14        44       5   \n",
       "\n",
       "                                              Review  \n",
       "0       better than any you can get at a restaurant!  \n",
       "1  I cut back on the mayo, and made up the differ...  \n",
       "2  i think i did something wrong because i could ...  \n",
       "3  easily the best i have ever had.  juicy flavor...  \n",
       "4                                 An excellent dish.  "
      ]
     },
     "execution_count": 49,
     "metadata": {},
     "output_type": "execute_result"
    }
   ],
   "source": [
    "reviewNa.head()"
   ]
  },
  {
   "cell_type": "code",
   "execution_count": 50,
   "metadata": {},
   "outputs": [
    {
     "name": "stderr",
     "output_type": "stream",
     "text": [
      "<ipython-input-50-f91c6a04e647>:1: SettingWithCopyWarning: \n",
      "A value is trying to be set on a copy of a slice from a DataFrame.\n",
      "Try using .loc[row_indexer,col_indexer] = value instead\n",
      "\n",
      "See the caveats in the documentation: https://pandas.pydata.org/pandas-docs/stable/user_guide/indexing.html#returning-a-view-versus-a-copy\n",
      "  reviewNa[\"Review\"] = reviewNa[\"Review\"].apply(sentiment)\n"
     ]
    }
   ],
   "source": [
    "reviewNa[\"Review\"] = reviewNa[\"Review\"].apply(sentiment)"
   ]
  },
  {
   "cell_type": "code",
   "execution_count": 52,
   "metadata": {},
   "outputs": [
    {
     "data": {
      "text/html": [
       "<div>\n",
       "<style scoped>\n",
       "    .dataframe tbody tr th:only-of-type {\n",
       "        vertical-align: middle;\n",
       "    }\n",
       "\n",
       "    .dataframe tbody tr th {\n",
       "        vertical-align: top;\n",
       "    }\n",
       "\n",
       "    .dataframe thead th {\n",
       "        text-align: right;\n",
       "    }\n",
       "</style>\n",
       "<table border=\"1\" class=\"dataframe\">\n",
       "  <thead>\n",
       "    <tr style=\"text-align: right;\">\n",
       "      <th></th>\n",
       "      <th>ReviewId</th>\n",
       "      <th>RecipeId</th>\n",
       "      <th>Rating</th>\n",
       "      <th>Review</th>\n",
       "    </tr>\n",
       "  </thead>\n",
       "  <tbody>\n",
       "    <tr>\n",
       "      <th>0</th>\n",
       "      <td>2</td>\n",
       "      <td>992</td>\n",
       "      <td>5</td>\n",
       "      <td>average</td>\n",
       "    </tr>\n",
       "    <tr>\n",
       "      <th>1</th>\n",
       "      <td>7</td>\n",
       "      <td>4384</td>\n",
       "      <td>4</td>\n",
       "      <td>average</td>\n",
       "    </tr>\n",
       "    <tr>\n",
       "      <th>2</th>\n",
       "      <td>9</td>\n",
       "      <td>4523</td>\n",
       "      <td>2</td>\n",
       "      <td>poor</td>\n",
       "    </tr>\n",
       "    <tr>\n",
       "      <th>3</th>\n",
       "      <td>13</td>\n",
       "      <td>7435</td>\n",
       "      <td>5</td>\n",
       "      <td>None</td>\n",
       "    </tr>\n",
       "    <tr>\n",
       "      <th>4</th>\n",
       "      <td>14</td>\n",
       "      <td>44</td>\n",
       "      <td>5</td>\n",
       "      <td>very good</td>\n",
       "    </tr>\n",
       "  </tbody>\n",
       "</table>\n",
       "</div>"
      ],
      "text/plain": [
       "   ReviewId  RecipeId  Rating     Review\n",
       "0         2       992       5    average\n",
       "1         7      4384       4    average\n",
       "2         9      4523       2       poor\n",
       "3        13      7435       5       None\n",
       "4        14        44       5  very good"
      ]
     },
     "execution_count": 52,
     "metadata": {},
     "output_type": "execute_result"
    }
   ],
   "source": [
    "reviewNa.head()"
   ]
  },
  {
   "cell_type": "code",
   "execution_count": 53,
   "metadata": {},
   "outputs": [],
   "source": [
    "reviewNa.to_csv(\"ReviewsSentiment.csv\",index=False)"
   ]
  },
  {
   "cell_type": "code",
   "execution_count": 63,
   "metadata": {},
   "outputs": [],
   "source": [
    "group_data = reviewNa.groupby(['RecipeId'], as_index = False).sum()\n",
    "#groupby data by unique recipies and the sum funciton for getting the total review score for a unique recipe\n",
    "count_data = reviewNa.groupby(['RecipeId'], as_index = False).count()\n",
    "#getting the count of review occurs for each recipie\n",
    "#so that we can calcualte the average review score"
   ]
  },
  {
   "cell_type": "code",
   "execution_count": 64,
   "metadata": {},
   "outputs": [],
   "source": [
    "count_data = count_data[[\"RecipeId\", \"Review\"]]\n",
    "#selecting only the necessary columns"
   ]
  },
  {
   "cell_type": "code",
   "execution_count": 65,
   "metadata": {},
   "outputs": [],
   "source": [
    "dataframe = group_data.merge(count_data,on='RecipeId')\n",
    "#merge dataframe on RecipeId"
   ]
  },
  {
   "cell_type": "code",
   "execution_count": 66,
   "metadata": {},
   "outputs": [
    {
     "data": {
      "text/html": [
       "<div>\n",
       "<style scoped>\n",
       "    .dataframe tbody tr th:only-of-type {\n",
       "        vertical-align: middle;\n",
       "    }\n",
       "\n",
       "    .dataframe tbody tr th {\n",
       "        vertical-align: top;\n",
       "    }\n",
       "\n",
       "    .dataframe thead th {\n",
       "        text-align: right;\n",
       "    }\n",
       "</style>\n",
       "<table border=\"1\" class=\"dataframe\">\n",
       "  <thead>\n",
       "    <tr style=\"text-align: right;\">\n",
       "      <th></th>\n",
       "      <th>RecipeId</th>\n",
       "      <th>ReviewId</th>\n",
       "      <th>Rating</th>\n",
       "      <th>Review</th>\n",
       "    </tr>\n",
       "  </thead>\n",
       "  <tbody>\n",
       "    <tr>\n",
       "      <th>0</th>\n",
       "      <td>38</td>\n",
       "      <td>4267701</td>\n",
       "      <td>17</td>\n",
       "      <td>4</td>\n",
       "    </tr>\n",
       "    <tr>\n",
       "      <th>1</th>\n",
       "      <td>39</td>\n",
       "      <td>361851</td>\n",
       "      <td>3</td>\n",
       "      <td>1</td>\n",
       "    </tr>\n",
       "    <tr>\n",
       "      <th>2</th>\n",
       "      <td>40</td>\n",
       "      <td>3286845</td>\n",
       "      <td>39</td>\n",
       "      <td>8</td>\n",
       "    </tr>\n",
       "    <tr>\n",
       "      <th>3</th>\n",
       "      <td>41</td>\n",
       "      <td>846191</td>\n",
       "      <td>9</td>\n",
       "      <td>2</td>\n",
       "    </tr>\n",
       "    <tr>\n",
       "      <th>4</th>\n",
       "      <td>42</td>\n",
       "      <td>3401115</td>\n",
       "      <td>24</td>\n",
       "      <td>9</td>\n",
       "    </tr>\n",
       "  </tbody>\n",
       "</table>\n",
       "</div>"
      ],
      "text/plain": [
       "   RecipeId  ReviewId  Rating  Review\n",
       "0        38   4267701      17       4\n",
       "1        39    361851       3       1\n",
       "2        40   3286845      39       8\n",
       "3        41    846191       9       2\n",
       "4        42   3401115      24       9"
      ]
     },
     "execution_count": 66,
     "metadata": {},
     "output_type": "execute_result"
    }
   ],
   "source": [
    "dataframe.head()"
   ]
  },
  {
   "cell_type": "code",
   "execution_count": 68,
   "metadata": {},
   "outputs": [],
   "source": [
    "dataframe[\"Average_Score\"] = dataframe[\"Rating\"]/dataframe[\"Review\"]\n",
    "#getting the average review score, which again will be converted to likert classes"
   ]
  },
  {
   "cell_type": "code",
   "execution_count": 69,
   "metadata": {},
   "outputs": [
    {
     "data": {
      "text/html": [
       "<div>\n",
       "<style scoped>\n",
       "    .dataframe tbody tr th:only-of-type {\n",
       "        vertical-align: middle;\n",
       "    }\n",
       "\n",
       "    .dataframe tbody tr th {\n",
       "        vertical-align: top;\n",
       "    }\n",
       "\n",
       "    .dataframe thead th {\n",
       "        text-align: right;\n",
       "    }\n",
       "</style>\n",
       "<table border=\"1\" class=\"dataframe\">\n",
       "  <thead>\n",
       "    <tr style=\"text-align: right;\">\n",
       "      <th></th>\n",
       "      <th>RecipeId</th>\n",
       "      <th>ReviewId</th>\n",
       "      <th>Rating</th>\n",
       "      <th>Review</th>\n",
       "      <th>Average_Score</th>\n",
       "    </tr>\n",
       "  </thead>\n",
       "  <tbody>\n",
       "    <tr>\n",
       "      <th>0</th>\n",
       "      <td>38</td>\n",
       "      <td>4267701</td>\n",
       "      <td>17</td>\n",
       "      <td>4</td>\n",
       "      <td>4.250000</td>\n",
       "    </tr>\n",
       "    <tr>\n",
       "      <th>1</th>\n",
       "      <td>39</td>\n",
       "      <td>361851</td>\n",
       "      <td>3</td>\n",
       "      <td>1</td>\n",
       "      <td>3.000000</td>\n",
       "    </tr>\n",
       "    <tr>\n",
       "      <th>2</th>\n",
       "      <td>40</td>\n",
       "      <td>3286845</td>\n",
       "      <td>39</td>\n",
       "      <td>8</td>\n",
       "      <td>4.875000</td>\n",
       "    </tr>\n",
       "    <tr>\n",
       "      <th>3</th>\n",
       "      <td>41</td>\n",
       "      <td>846191</td>\n",
       "      <td>9</td>\n",
       "      <td>2</td>\n",
       "      <td>4.500000</td>\n",
       "    </tr>\n",
       "    <tr>\n",
       "      <th>4</th>\n",
       "      <td>42</td>\n",
       "      <td>3401115</td>\n",
       "      <td>24</td>\n",
       "      <td>9</td>\n",
       "      <td>2.666667</td>\n",
       "    </tr>\n",
       "  </tbody>\n",
       "</table>\n",
       "</div>"
      ],
      "text/plain": [
       "   RecipeId  ReviewId  Rating  Review  Average_Score\n",
       "0        38   4267701      17       4       4.250000\n",
       "1        39    361851       3       1       3.000000\n",
       "2        40   3286845      39       8       4.875000\n",
       "3        41    846191       9       2       4.500000\n",
       "4        42   3401115      24       9       2.666667"
      ]
     },
     "execution_count": 69,
     "metadata": {},
     "output_type": "execute_result"
    }
   ],
   "source": [
    "dataframe.head()"
   ]
  },
  {
   "cell_type": "code",
   "execution_count": 70,
   "metadata": {},
   "outputs": [],
   "source": [
    "#A function that convert likert scale to some score\n",
    "review_list = [\"very poor\", \"poor\", \"average\", \"good\", \"very good\"]\n",
    "def review_score(x):\n",
    "        if x == review_list[0]:\n",
    "            return 1\n",
    "        elif x == review_list[1]:\n",
    "            return 2\n",
    "        elif x == review_list[3]:\n",
    "            return 4\n",
    "        elif x == review_list[4]:\n",
    "            return 5\n",
    "        else:\n",
    "            return 3"
   ]
  },
  {
   "cell_type": "code",
   "execution_count": 71,
   "metadata": {},
   "outputs": [],
   "source": [
    "# A function that convert score to likert scale string again\n",
    "def review_class(x):\n",
    "        if x >= 5:\n",
    "            return review_list[4] \n",
    "        elif x >=4:\n",
    "            return review_list[3]\n",
    "        elif x >= 3:\n",
    "            return review_list[2]\n",
    "        elif x >= 2:\n",
    "            return review_list[1]\n",
    "        else:\n",
    "            return review_list[0]"
   ]
  },
  {
   "cell_type": "code",
   "execution_count": 72,
   "metadata": {},
   "outputs": [],
   "source": [
    "dataframe[\"Review_Class\"] = dataframe[\"Average_Score\"].apply(review_class)\n",
    "#converting score to likert scale again"
   ]
  },
  {
   "cell_type": "code",
   "execution_count": 73,
   "metadata": {},
   "outputs": [
    {
     "data": {
      "text/html": [
       "<div>\n",
       "<style scoped>\n",
       "    .dataframe tbody tr th:only-of-type {\n",
       "        vertical-align: middle;\n",
       "    }\n",
       "\n",
       "    .dataframe tbody tr th {\n",
       "        vertical-align: top;\n",
       "    }\n",
       "\n",
       "    .dataframe thead th {\n",
       "        text-align: right;\n",
       "    }\n",
       "</style>\n",
       "<table border=\"1\" class=\"dataframe\">\n",
       "  <thead>\n",
       "    <tr style=\"text-align: right;\">\n",
       "      <th></th>\n",
       "      <th>RecipeId</th>\n",
       "      <th>ReviewId</th>\n",
       "      <th>Rating</th>\n",
       "      <th>Review</th>\n",
       "      <th>Average_Score</th>\n",
       "      <th>Review_Class</th>\n",
       "    </tr>\n",
       "  </thead>\n",
       "  <tbody>\n",
       "    <tr>\n",
       "      <th>0</th>\n",
       "      <td>38</td>\n",
       "      <td>4267701</td>\n",
       "      <td>17</td>\n",
       "      <td>4</td>\n",
       "      <td>4.250000</td>\n",
       "      <td>good</td>\n",
       "    </tr>\n",
       "    <tr>\n",
       "      <th>1</th>\n",
       "      <td>39</td>\n",
       "      <td>361851</td>\n",
       "      <td>3</td>\n",
       "      <td>1</td>\n",
       "      <td>3.000000</td>\n",
       "      <td>average</td>\n",
       "    </tr>\n",
       "    <tr>\n",
       "      <th>2</th>\n",
       "      <td>40</td>\n",
       "      <td>3286845</td>\n",
       "      <td>39</td>\n",
       "      <td>8</td>\n",
       "      <td>4.875000</td>\n",
       "      <td>good</td>\n",
       "    </tr>\n",
       "    <tr>\n",
       "      <th>3</th>\n",
       "      <td>41</td>\n",
       "      <td>846191</td>\n",
       "      <td>9</td>\n",
       "      <td>2</td>\n",
       "      <td>4.500000</td>\n",
       "      <td>good</td>\n",
       "    </tr>\n",
       "    <tr>\n",
       "      <th>4</th>\n",
       "      <td>42</td>\n",
       "      <td>3401115</td>\n",
       "      <td>24</td>\n",
       "      <td>9</td>\n",
       "      <td>2.666667</td>\n",
       "      <td>poor</td>\n",
       "    </tr>\n",
       "  </tbody>\n",
       "</table>\n",
       "</div>"
      ],
      "text/plain": [
       "   RecipeId  ReviewId  Rating  Review  Average_Score Review_Class\n",
       "0        38   4267701      17       4       4.250000         good\n",
       "1        39    361851       3       1       3.000000      average\n",
       "2        40   3286845      39       8       4.875000         good\n",
       "3        41    846191       9       2       4.500000         good\n",
       "4        42   3401115      24       9       2.666667         poor"
      ]
     },
     "execution_count": 73,
     "metadata": {},
     "output_type": "execute_result"
    }
   ],
   "source": [
    "dataframe.head()"
   ]
  },
  {
   "cell_type": "code",
   "execution_count": 74,
   "metadata": {},
   "outputs": [],
   "source": [
    "clean_data = dataframe[[\"RecipeId\", \"Review_Class\"]]\n",
    "#selecting the useful colunms"
   ]
  },
  {
   "cell_type": "code",
   "execution_count": 81,
   "metadata": {},
   "outputs": [
    {
     "data": {
      "text/html": [
       "<div>\n",
       "<style scoped>\n",
       "    .dataframe tbody tr th:only-of-type {\n",
       "        vertical-align: middle;\n",
       "    }\n",
       "\n",
       "    .dataframe tbody tr th {\n",
       "        vertical-align: top;\n",
       "    }\n",
       "\n",
       "    .dataframe thead th {\n",
       "        text-align: right;\n",
       "    }\n",
       "</style>\n",
       "<table border=\"1\" class=\"dataframe\">\n",
       "  <thead>\n",
       "    <tr style=\"text-align: right;\">\n",
       "      <th></th>\n",
       "      <th>ReviewId</th>\n",
       "      <th>Rating</th>\n",
       "    </tr>\n",
       "    <tr>\n",
       "      <th>RecipeId</th>\n",
       "      <th></th>\n",
       "      <th></th>\n",
       "    </tr>\n",
       "  </thead>\n",
       "  <tbody>\n",
       "    <tr>\n",
       "      <th>38</th>\n",
       "      <td>579149</td>\n",
       "      <td>4</td>\n",
       "    </tr>\n",
       "    <tr>\n",
       "      <th>39</th>\n",
       "      <td>361851</td>\n",
       "      <td>3</td>\n",
       "    </tr>\n",
       "    <tr>\n",
       "      <th>40</th>\n",
       "      <td>34854</td>\n",
       "      <td>1</td>\n",
       "    </tr>\n",
       "    <tr>\n",
       "      <th>41</th>\n",
       "      <td>48870</td>\n",
       "      <td>4</td>\n",
       "    </tr>\n",
       "    <tr>\n",
       "      <th>42</th>\n",
       "      <td>46368</td>\n",
       "      <td>0</td>\n",
       "    </tr>\n",
       "  </tbody>\n",
       "</table>\n",
       "</div>"
      ],
      "text/plain": [
       "          ReviewId  Rating\n",
       "RecipeId                  \n",
       "38          579149       4\n",
       "39          361851       3\n",
       "40           34854       1\n",
       "41           48870       4\n",
       "42           46368       0"
      ]
     },
     "execution_count": 81,
     "metadata": {},
     "output_type": "execute_result"
    }
   ],
   "source": [
    "# Apply groupby with aggregate to get the min rating per Recipe\n",
    "minRating = reviewNa.groupby('RecipeId').agg(min)\n",
    "minRating.head()"
   ]
  },
  {
   "cell_type": "code",
   "execution_count": 82,
   "metadata": {},
   "outputs": [
    {
     "data": {
      "text/plain": [
       "Index(['ReviewId', 'Rating'], dtype='object')"
      ]
     },
     "execution_count": 82,
     "metadata": {},
     "output_type": "execute_result"
    }
   ],
   "source": [
    "minRating.columns"
   ]
  },
  {
   "cell_type": "markdown",
   "metadata": {},
   "source": [
    "minRating.columns"
   ]
  },
  {
   "cell_type": "code",
   "execution_count": 84,
   "metadata": {},
   "outputs": [
    {
     "data": {
      "text/html": [
       "<div>\n",
       "<style scoped>\n",
       "    .dataframe tbody tr th:only-of-type {\n",
       "        vertical-align: middle;\n",
       "    }\n",
       "\n",
       "    .dataframe tbody tr th {\n",
       "        vertical-align: top;\n",
       "    }\n",
       "\n",
       "    .dataframe thead th {\n",
       "        text-align: right;\n",
       "    }\n",
       "</style>\n",
       "<table border=\"1\" class=\"dataframe\">\n",
       "  <thead>\n",
       "    <tr style=\"text-align: right;\">\n",
       "      <th></th>\n",
       "      <th>ReviewId</th>\n",
       "      <th>Rating</th>\n",
       "    </tr>\n",
       "    <tr>\n",
       "      <th>RecipeId</th>\n",
       "      <th></th>\n",
       "      <th></th>\n",
       "    </tr>\n",
       "  </thead>\n",
       "  <tbody>\n",
       "    <tr>\n",
       "      <th>38</th>\n",
       "      <td>1450744</td>\n",
       "      <td>5</td>\n",
       "    </tr>\n",
       "    <tr>\n",
       "      <th>39</th>\n",
       "      <td>361851</td>\n",
       "      <td>3</td>\n",
       "    </tr>\n",
       "    <tr>\n",
       "      <th>40</th>\n",
       "      <td>1103678</td>\n",
       "      <td>5</td>\n",
       "    </tr>\n",
       "    <tr>\n",
       "      <th>41</th>\n",
       "      <td>797321</td>\n",
       "      <td>5</td>\n",
       "    </tr>\n",
       "    <tr>\n",
       "      <th>42</th>\n",
       "      <td>863050</td>\n",
       "      <td>5</td>\n",
       "    </tr>\n",
       "  </tbody>\n",
       "</table>\n",
       "</div>"
      ],
      "text/plain": [
       "          ReviewId  Rating\n",
       "RecipeId                  \n",
       "38         1450744       5\n",
       "39          361851       3\n",
       "40         1103678       5\n",
       "41          797321       5\n",
       "42          863050       5"
      ]
     },
     "execution_count": 84,
     "metadata": {},
     "output_type": "execute_result"
    }
   ],
   "source": [
    "# Apply groupby with aggregate to get the max rating per Recipe\n",
    "maxRating = reviewNa.groupby('RecipeId').agg(max)\n",
    "maxRating.head()"
   ]
  },
  {
   "cell_type": "code",
   "execution_count": 88,
   "metadata": {},
   "outputs": [],
   "source": [
    "#dataframe['Min']=minRating[['Rating']]"
   ]
  },
  {
   "cell_type": "code",
   "execution_count": 89,
   "metadata": {},
   "outputs": [
    {
     "data": {
      "text/html": [
       "<div>\n",
       "<style scoped>\n",
       "    .dataframe tbody tr th:only-of-type {\n",
       "        vertical-align: middle;\n",
       "    }\n",
       "\n",
       "    .dataframe tbody tr th {\n",
       "        vertical-align: top;\n",
       "    }\n",
       "\n",
       "    .dataframe thead th {\n",
       "        text-align: right;\n",
       "    }\n",
       "</style>\n",
       "<table border=\"1\" class=\"dataframe\">\n",
       "  <thead>\n",
       "    <tr style=\"text-align: right;\">\n",
       "      <th></th>\n",
       "      <th>RecipeId</th>\n",
       "      <th>ReviewId</th>\n",
       "      <th>Rating</th>\n",
       "      <th>Review</th>\n",
       "      <th>Average_Score</th>\n",
       "      <th>Review_Class</th>\n",
       "      <th>Min</th>\n",
       "    </tr>\n",
       "  </thead>\n",
       "  <tbody>\n",
       "    <tr>\n",
       "      <th>0</th>\n",
       "      <td>38</td>\n",
       "      <td>4267701</td>\n",
       "      <td>17</td>\n",
       "      <td>4</td>\n",
       "      <td>4.250000</td>\n",
       "      <td>good</td>\n",
       "      <td>NaN</td>\n",
       "    </tr>\n",
       "    <tr>\n",
       "      <th>1</th>\n",
       "      <td>39</td>\n",
       "      <td>361851</td>\n",
       "      <td>3</td>\n",
       "      <td>1</td>\n",
       "      <td>3.000000</td>\n",
       "      <td>average</td>\n",
       "      <td>NaN</td>\n",
       "    </tr>\n",
       "    <tr>\n",
       "      <th>2</th>\n",
       "      <td>40</td>\n",
       "      <td>3286845</td>\n",
       "      <td>39</td>\n",
       "      <td>8</td>\n",
       "      <td>4.875000</td>\n",
       "      <td>good</td>\n",
       "      <td>NaN</td>\n",
       "    </tr>\n",
       "    <tr>\n",
       "      <th>3</th>\n",
       "      <td>41</td>\n",
       "      <td>846191</td>\n",
       "      <td>9</td>\n",
       "      <td>2</td>\n",
       "      <td>4.500000</td>\n",
       "      <td>good</td>\n",
       "      <td>NaN</td>\n",
       "    </tr>\n",
       "    <tr>\n",
       "      <th>4</th>\n",
       "      <td>42</td>\n",
       "      <td>3401115</td>\n",
       "      <td>24</td>\n",
       "      <td>9</td>\n",
       "      <td>2.666667</td>\n",
       "      <td>poor</td>\n",
       "      <td>NaN</td>\n",
       "    </tr>\n",
       "  </tbody>\n",
       "</table>\n",
       "</div>"
      ],
      "text/plain": [
       "   RecipeId  ReviewId  Rating  Review  Average_Score Review_Class  Min\n",
       "0        38   4267701      17       4       4.250000         good  NaN\n",
       "1        39    361851       3       1       3.000000      average  NaN\n",
       "2        40   3286845      39       8       4.875000         good  NaN\n",
       "3        41    846191       9       2       4.500000         good  NaN\n",
       "4        42   3401115      24       9       2.666667         poor  NaN"
      ]
     },
     "execution_count": 89,
     "metadata": {},
     "output_type": "execute_result"
    }
   ],
   "source": [
    "dataframe.head()"
   ]
  },
  {
   "cell_type": "code",
   "execution_count": 90,
   "metadata": {},
   "outputs": [],
   "source": [
    "final = pd.read_csv(\"C:/Users/SLL583/Desktop/Courseworks/CS5811/main_data.csv\")"
   ]
  },
  {
   "cell_type": "code",
   "execution_count": 91,
   "metadata": {
    "scrolled": true
   },
   "outputs": [
    {
     "data": {
      "text/html": [
       "<div>\n",
       "<style scoped>\n",
       "    .dataframe tbody tr th:only-of-type {\n",
       "        vertical-align: middle;\n",
       "    }\n",
       "\n",
       "    .dataframe tbody tr th {\n",
       "        vertical-align: top;\n",
       "    }\n",
       "\n",
       "    .dataframe thead th {\n",
       "        text-align: right;\n",
       "    }\n",
       "</style>\n",
       "<table border=\"1\" class=\"dataframe\">\n",
       "  <thead>\n",
       "    <tr style=\"text-align: right;\">\n",
       "      <th></th>\n",
       "      <th>Unnamed: 0</th>\n",
       "      <th>RecipeId</th>\n",
       "      <th>Name</th>\n",
       "      <th>Images</th>\n",
       "      <th>RecipeCategory</th>\n",
       "      <th>AggregatedRating</th>\n",
       "      <th>ReviewCount</th>\n",
       "      <th>Calories</th>\n",
       "      <th>FatContent</th>\n",
       "      <th>SaturatedFatContent</th>\n",
       "      <th>...</th>\n",
       "      <th>ProteinContent</th>\n",
       "      <th>RecipeServings</th>\n",
       "      <th>CookTime</th>\n",
       "      <th>PrepTime</th>\n",
       "      <th>TotalTime</th>\n",
       "      <th>Review_Class</th>\n",
       "      <th>IngredientsCount</th>\n",
       "      <th>minimum_rating</th>\n",
       "      <th>maximum_rating</th>\n",
       "      <th>mean_of_rating</th>\n",
       "    </tr>\n",
       "  </thead>\n",
       "  <tbody>\n",
       "    <tr>\n",
       "      <th>0</th>\n",
       "      <td>0</td>\n",
       "      <td>38</td>\n",
       "      <td>Low-Fat Berry Blue Frozen Dessert</td>\n",
       "      <td>c(\"https://img.sndimg.com/food/image/upload/w_...</td>\n",
       "      <td>Frozen Desserts</td>\n",
       "      <td>4.5</td>\n",
       "      <td>4.0</td>\n",
       "      <td>170.9</td>\n",
       "      <td>2.5</td>\n",
       "      <td>1.3</td>\n",
       "      <td>...</td>\n",
       "      <td>3.2</td>\n",
       "      <td>4.0</td>\n",
       "      <td>1440</td>\n",
       "      <td>45</td>\n",
       "      <td>1485</td>\n",
       "      <td>average</td>\n",
       "      <td>4</td>\n",
       "      <td>4.0</td>\n",
       "      <td>5.0</td>\n",
       "      <td>4.250000</td>\n",
       "    </tr>\n",
       "    <tr>\n",
       "      <th>1</th>\n",
       "      <td>1</td>\n",
       "      <td>39</td>\n",
       "      <td>Biryani</td>\n",
       "      <td>c(\"https://img.sndimg.com/food/image/upload/w_...</td>\n",
       "      <td>Chicken Breast</td>\n",
       "      <td>3.0</td>\n",
       "      <td>1.0</td>\n",
       "      <td>1110.7</td>\n",
       "      <td>58.8</td>\n",
       "      <td>16.6</td>\n",
       "      <td>...</td>\n",
       "      <td>63.4</td>\n",
       "      <td>6.0</td>\n",
       "      <td>25</td>\n",
       "      <td>240</td>\n",
       "      <td>265</td>\n",
       "      <td>average</td>\n",
       "      <td>25</td>\n",
       "      <td>3.0</td>\n",
       "      <td>3.0</td>\n",
       "      <td>3.000000</td>\n",
       "    </tr>\n",
       "    <tr>\n",
       "      <th>2</th>\n",
       "      <td>2</td>\n",
       "      <td>40</td>\n",
       "      <td>Best Lemonade</td>\n",
       "      <td>c(\"https://img.sndimg.com/food/image/upload/w_...</td>\n",
       "      <td>Beverages</td>\n",
       "      <td>4.5</td>\n",
       "      <td>10.0</td>\n",
       "      <td>311.1</td>\n",
       "      <td>0.2</td>\n",
       "      <td>0.0</td>\n",
       "      <td>...</td>\n",
       "      <td>0.3</td>\n",
       "      <td>4.0</td>\n",
       "      <td>5</td>\n",
       "      <td>30</td>\n",
       "      <td>35</td>\n",
       "      <td>average</td>\n",
       "      <td>7</td>\n",
       "      <td>1.0</td>\n",
       "      <td>5.0</td>\n",
       "      <td>4.333333</td>\n",
       "    </tr>\n",
       "    <tr>\n",
       "      <th>3</th>\n",
       "      <td>3</td>\n",
       "      <td>41</td>\n",
       "      <td>Carina's Tofu-Vegetable Kebabs</td>\n",
       "      <td>c(\"https://img.sndimg.com/food/image/upload/w_...</td>\n",
       "      <td>Soy/Tofu</td>\n",
       "      <td>4.5</td>\n",
       "      <td>2.0</td>\n",
       "      <td>536.1</td>\n",
       "      <td>24.0</td>\n",
       "      <td>3.8</td>\n",
       "      <td>...</td>\n",
       "      <td>29.3</td>\n",
       "      <td>2.0</td>\n",
       "      <td>20</td>\n",
       "      <td>1440</td>\n",
       "      <td>1460</td>\n",
       "      <td>good</td>\n",
       "      <td>14</td>\n",
       "      <td>4.0</td>\n",
       "      <td>5.0</td>\n",
       "      <td>4.500000</td>\n",
       "    </tr>\n",
       "    <tr>\n",
       "      <th>4</th>\n",
       "      <td>4</td>\n",
       "      <td>42</td>\n",
       "      <td>Cabbage Soup</td>\n",
       "      <td>\"https://img.sndimg.com/food/image/upload/w_55...</td>\n",
       "      <td>Vegetable</td>\n",
       "      <td>4.5</td>\n",
       "      <td>11.0</td>\n",
       "      <td>103.6</td>\n",
       "      <td>0.4</td>\n",
       "      <td>0.1</td>\n",
       "      <td>...</td>\n",
       "      <td>4.3</td>\n",
       "      <td>4.0</td>\n",
       "      <td>30</td>\n",
       "      <td>20</td>\n",
       "      <td>50</td>\n",
       "      <td>average</td>\n",
       "      <td>5</td>\n",
       "      <td>0.0</td>\n",
       "      <td>5.0</td>\n",
       "      <td>2.666667</td>\n",
       "    </tr>\n",
       "  </tbody>\n",
       "</table>\n",
       "<p>5 rows × 25 columns</p>\n",
       "</div>"
      ],
      "text/plain": [
       "   Unnamed: 0  RecipeId                               Name  \\\n",
       "0           0        38  Low-Fat Berry Blue Frozen Dessert   \n",
       "1           1        39                            Biryani   \n",
       "2           2        40                      Best Lemonade   \n",
       "3           3        41     Carina's Tofu-Vegetable Kebabs   \n",
       "4           4        42                       Cabbage Soup   \n",
       "\n",
       "                                              Images   RecipeCategory  \\\n",
       "0  c(\"https://img.sndimg.com/food/image/upload/w_...  Frozen Desserts   \n",
       "1  c(\"https://img.sndimg.com/food/image/upload/w_...   Chicken Breast   \n",
       "2  c(\"https://img.sndimg.com/food/image/upload/w_...        Beverages   \n",
       "3  c(\"https://img.sndimg.com/food/image/upload/w_...         Soy/Tofu   \n",
       "4  \"https://img.sndimg.com/food/image/upload/w_55...        Vegetable   \n",
       "\n",
       "   AggregatedRating  ReviewCount  Calories  FatContent  SaturatedFatContent  \\\n",
       "0               4.5          4.0     170.9         2.5                  1.3   \n",
       "1               3.0          1.0    1110.7        58.8                 16.6   \n",
       "2               4.5         10.0     311.1         0.2                  0.0   \n",
       "3               4.5          2.0     536.1        24.0                  3.8   \n",
       "4               4.5         11.0     103.6         0.4                  0.1   \n",
       "\n",
       "   ...  ProteinContent  RecipeServings  CookTime  PrepTime  TotalTime  \\\n",
       "0  ...             3.2             4.0      1440        45       1485   \n",
       "1  ...            63.4             6.0        25       240        265   \n",
       "2  ...             0.3             4.0         5        30         35   \n",
       "3  ...            29.3             2.0        20      1440       1460   \n",
       "4  ...             4.3             4.0        30        20         50   \n",
       "\n",
       "   Review_Class  IngredientsCount  minimum_rating  maximum_rating  \\\n",
       "0       average                 4             4.0             5.0   \n",
       "1       average                25             3.0             3.0   \n",
       "2       average                 7             1.0             5.0   \n",
       "3          good                14             4.0             5.0   \n",
       "4       average                 5             0.0             5.0   \n",
       "\n",
       "   mean_of_rating  \n",
       "0        4.250000  \n",
       "1        3.000000  \n",
       "2        4.333333  \n",
       "3        4.500000  \n",
       "4        2.666667  \n",
       "\n",
       "[5 rows x 25 columns]"
      ]
     },
     "execution_count": 91,
     "metadata": {},
     "output_type": "execute_result"
    }
   ],
   "source": [
    "final.head()"
   ]
  },
  {
   "cell_type": "code",
   "execution_count": 92,
   "metadata": {},
   "outputs": [
    {
     "data": {
      "text/plain": [
       "Index(['Unnamed: 0', 'RecipeId', 'Name', 'Images', 'RecipeCategory',\n",
       "       'AggregatedRating', 'ReviewCount', 'Calories', 'FatContent',\n",
       "       'SaturatedFatContent', 'CholesterolContent', 'SodiumContent',\n",
       "       'CarbohydrateContent', 'FiberContent', 'SugarContent', 'ProteinContent',\n",
       "       'RecipeServings', 'CookTime', 'PrepTime', 'TotalTime', 'Review_Class',\n",
       "       'IngredientsCount', 'minimum_rating', 'maximum_rating',\n",
       "       'mean_of_rating'],\n",
       "      dtype='object')"
      ]
     },
     "execution_count": 92,
     "metadata": {},
     "output_type": "execute_result"
    }
   ],
   "source": [
    "final.columns"
   ]
  },
  {
   "cell_type": "code",
   "execution_count": 93,
   "metadata": {},
   "outputs": [],
   "source": [
    "data = final.drop(columns=['Unnamed: 0','Images'])"
   ]
  },
  {
   "cell_type": "code",
   "execution_count": 94,
   "metadata": {},
   "outputs": [
    {
     "data": {
      "text/plain": [
       "(522517, 23)"
      ]
     },
     "execution_count": 94,
     "metadata": {},
     "output_type": "execute_result"
    }
   ],
   "source": [
    "data.shape"
   ]
  },
  {
   "cell_type": "code",
   "execution_count": 95,
   "metadata": {},
   "outputs": [
    {
     "data": {
      "text/plain": [
       "(226272, 18)"
      ]
     },
     "execution_count": 95,
     "metadata": {},
     "output_type": "execute_result"
    }
   ],
   "source": [
    "recipeNa.shape"
   ]
  },
  {
   "cell_type": "code",
   "execution_count": 96,
   "metadata": {},
   "outputs": [
    {
     "data": {
      "text/plain": [
       "(1401768, 4)"
      ]
     },
     "execution_count": 96,
     "metadata": {},
     "output_type": "execute_result"
    }
   ],
   "source": [
    "reviewNa.shape"
   ]
  },
  {
   "cell_type": "code",
   "execution_count": 98,
   "metadata": {},
   "outputs": [],
   "source": [
    "data = data.dropna()"
   ]
  },
  {
   "cell_type": "code",
   "execution_count": 99,
   "metadata": {},
   "outputs": [],
   "source": [
    "import seaborn as sns \n",
    "import matplotlib.pyplot as plt \n",
    "import numpy as np \n",
    "from pandas.api.types import is_string_dtype, is_numeric_dtype"
   ]
  },
  {
   "cell_type": "code",
   "execution_count": 100,
   "metadata": {},
   "outputs": [
    {
     "data": {
      "text/plain": [
       "(170064, 23)"
      ]
     },
     "execution_count": 100,
     "metadata": {},
     "output_type": "execute_result"
    }
   ],
   "source": [
    "data.shape"
   ]
  },
  {
   "cell_type": "code",
   "execution_count": 101,
   "metadata": {},
   "outputs": [
    {
     "name": "stdout",
     "output_type": "stream",
     "text": [
      "RecipeId : 686262.0\n",
      "AggregatedRating : 5.75\n",
      "ReviewCount : 8.5\n",
      "Calories : 872.9\n",
      "FatContent : 49.8\n",
      "SaturatedFatContent : 20.8\n",
      "CholesterolContent : 235.55\n",
      "SodiumContent : 1533.55\n",
      "CarbohydrateContent : 91.5\n",
      "FiberContent : 8.55\n",
      "SugarContent : 31.95\n",
      "ProteinContent : 55.65\n",
      "RecipeServings : 14.0\n",
      "CookTime : 85.0\n",
      "PrepTime : 35.0\n",
      "TotalTime : 132.5\n",
      "IngredientsCount : 17.5\n",
      "minimum_rating : 8.0\n",
      "maximum_rating : 5.0\n",
      "mean_of_rating : 6.5\n"
     ]
    }
   ],
   "source": [
    "#Add 1.5 x (IQR) to the third quartile. Any number greater than this is a suspected outlier\n",
    "#df.time_diff.quantile([0.25,0.5,0.75])\n",
    "\n",
    "for column in data:\n",
    "    if is_numeric_dtype(data[column]):\n",
    "        first = data[column].quantile(.25)\n",
    "        third = data[column].quantile(.75)\n",
    "        iqr = third-first\n",
    "        value = (1.5*iqr)+third\n",
    "        print(column+' : '+str(round(value,2)))"
   ]
  },
  {
   "cell_type": "code",
   "execution_count": 131,
   "metadata": {},
   "outputs": [],
   "source": [
    "dataFinal = data[(data.Calories<=1061.45) & (data.FatContent<=60.1) & (data.SaturatedFatContent<=24.75)& (data.CholesterolContent<=264.05)& (data.SodiumContent<=1795.55)& (data.CarbohydrateContent<=108.55)& (data.FiberContent<=10.3)& (data.SugarContent<=41)& (data.ProteinContent<=57.25)]"
   ]
  },
  {
   "cell_type": "code",
   "execution_count": 132,
   "metadata": {},
   "outputs": [
    {
     "data": {
      "text/plain": [
       "(140073, 23)"
      ]
     },
     "execution_count": 132,
     "metadata": {},
     "output_type": "execute_result"
    }
   ],
   "source": [
    "dataFinal.shape"
   ]
  },
  {
   "cell_type": "code",
   "execution_count": 133,
   "metadata": {},
   "outputs": [],
   "source": [
    "dataFinal = dataFinal[(dataFinal.TotalTime<=720)]"
   ]
  },
  {
   "cell_type": "code",
   "execution_count": 143,
   "metadata": {},
   "outputs": [],
   "source": [
    "dataFinal = dataFinal[(dataFinal.TotalTime>=0)&(dataFinal.PrepTime>=0)&(dataFinal.CookTime>=0)]"
   ]
  },
  {
   "cell_type": "code",
   "execution_count": 144,
   "metadata": {},
   "outputs": [
    {
     "data": {
      "text/plain": [
       "(34592, 23)"
      ]
     },
     "execution_count": 144,
     "metadata": {},
     "output_type": "execute_result"
    }
   ],
   "source": [
    "dataFinal.shape"
   ]
  },
  {
   "cell_type": "code",
   "execution_count": 145,
   "metadata": {},
   "outputs": [],
   "source": [
    "dataFinal = dataFinal[dataFinal['ReviewCount']>=5]"
   ]
  },
  {
   "cell_type": "code",
   "execution_count": 146,
   "metadata": {},
   "outputs": [
    {
     "data": {
      "text/plain": [
       "(34592, 23)"
      ]
     },
     "execution_count": 146,
     "metadata": {},
     "output_type": "execute_result"
    }
   ],
   "source": [
    "dataFinal.shape"
   ]
  },
  {
   "cell_type": "code",
   "execution_count": 147,
   "metadata": {},
   "outputs": [
    {
     "data": {
      "text/html": [
       "<div>\n",
       "<style scoped>\n",
       "    .dataframe tbody tr th:only-of-type {\n",
       "        vertical-align: middle;\n",
       "    }\n",
       "\n",
       "    .dataframe tbody tr th {\n",
       "        vertical-align: top;\n",
       "    }\n",
       "\n",
       "    .dataframe thead th {\n",
       "        text-align: right;\n",
       "    }\n",
       "</style>\n",
       "<table border=\"1\" class=\"dataframe\">\n",
       "  <thead>\n",
       "    <tr style=\"text-align: right;\">\n",
       "      <th></th>\n",
       "      <th>RecipeId</th>\n",
       "      <th>AggregatedRating</th>\n",
       "      <th>ReviewCount</th>\n",
       "      <th>Calories</th>\n",
       "      <th>FatContent</th>\n",
       "      <th>SaturatedFatContent</th>\n",
       "      <th>CholesterolContent</th>\n",
       "      <th>SodiumContent</th>\n",
       "      <th>CarbohydrateContent</th>\n",
       "      <th>FiberContent</th>\n",
       "      <th>SugarContent</th>\n",
       "      <th>ProteinContent</th>\n",
       "      <th>RecipeServings</th>\n",
       "      <th>CookTime</th>\n",
       "      <th>PrepTime</th>\n",
       "      <th>TotalTime</th>\n",
       "      <th>IngredientsCount</th>\n",
       "      <th>minimum_rating</th>\n",
       "      <th>maximum_rating</th>\n",
       "      <th>mean_of_rating</th>\n",
       "    </tr>\n",
       "  </thead>\n",
       "  <tbody>\n",
       "    <tr>\n",
       "      <th>count</th>\n",
       "      <td>34592.000000</td>\n",
       "      <td>34592.000000</td>\n",
       "      <td>34592.000000</td>\n",
       "      <td>34592.000000</td>\n",
       "      <td>34592.000000</td>\n",
       "      <td>34592.000000</td>\n",
       "      <td>34592.000000</td>\n",
       "      <td>34592.000000</td>\n",
       "      <td>34592.000000</td>\n",
       "      <td>34592.000000</td>\n",
       "      <td>34592.00000</td>\n",
       "      <td>34592.000000</td>\n",
       "      <td>34592.000000</td>\n",
       "      <td>34592.000000</td>\n",
       "      <td>34592.000000</td>\n",
       "      <td>34592.000000</td>\n",
       "      <td>34592.000000</td>\n",
       "      <td>34592.000000</td>\n",
       "      <td>34592.000000</td>\n",
       "      <td>34592.000000</td>\n",
       "    </tr>\n",
       "    <tr>\n",
       "      <th>mean</th>\n",
       "      <td>174330.652608</td>\n",
       "      <td>4.839298</td>\n",
       "      <td>15.634973</td>\n",
       "      <td>271.096135</td>\n",
       "      <td>13.164292</td>\n",
       "      <td>5.079698</td>\n",
       "      <td>52.329287</td>\n",
       "      <td>413.532620</td>\n",
       "      <td>25.133170</td>\n",
       "      <td>2.260381</td>\n",
       "      <td>8.40246</td>\n",
       "      <td>12.929330</td>\n",
       "      <td>8.404978</td>\n",
       "      <td>39.759684</td>\n",
       "      <td>16.697155</td>\n",
       "      <td>56.547410</td>\n",
       "      <td>7.598346</td>\n",
       "      <td>2.444583</td>\n",
       "      <td>4.994421</td>\n",
       "      <td>4.462268</td>\n",
       "    </tr>\n",
       "    <tr>\n",
       "      <th>std</th>\n",
       "      <td>129342.436960</td>\n",
       "      <td>0.315842</td>\n",
       "      <td>40.950915</td>\n",
       "      <td>164.698147</td>\n",
       "      <td>11.043602</td>\n",
       "      <td>4.994264</td>\n",
       "      <td>55.548946</td>\n",
       "      <td>379.530477</td>\n",
       "      <td>18.702753</td>\n",
       "      <td>2.112012</td>\n",
       "      <td>9.29552</td>\n",
       "      <td>12.881642</td>\n",
       "      <td>23.958082</td>\n",
       "      <td>76.210834</td>\n",
       "      <td>28.211037</td>\n",
       "      <td>81.821406</td>\n",
       "      <td>3.710442</td>\n",
       "      <td>1.979556</td>\n",
       "      <td>0.086015</td>\n",
       "      <td>0.512345</td>\n",
       "    </tr>\n",
       "    <tr>\n",
       "      <th>min</th>\n",
       "      <td>42.000000</td>\n",
       "      <td>1.000000</td>\n",
       "      <td>5.000000</td>\n",
       "      <td>0.000000</td>\n",
       "      <td>0.000000</td>\n",
       "      <td>0.000000</td>\n",
       "      <td>0.000000</td>\n",
       "      <td>0.000000</td>\n",
       "      <td>0.000000</td>\n",
       "      <td>0.000000</td>\n",
       "      <td>0.00000</td>\n",
       "      <td>0.000000</td>\n",
       "      <td>1.000000</td>\n",
       "      <td>0.000000</td>\n",
       "      <td>0.000000</td>\n",
       "      <td>0.000000</td>\n",
       "      <td>1.000000</td>\n",
       "      <td>0.000000</td>\n",
       "      <td>1.000000</td>\n",
       "      <td>0.142857</td>\n",
       "    </tr>\n",
       "    <tr>\n",
       "      <th>25%</th>\n",
       "      <td>64197.500000</td>\n",
       "      <td>4.500000</td>\n",
       "      <td>6.000000</td>\n",
       "      <td>146.100000</td>\n",
       "      <td>4.700000</td>\n",
       "      <td>1.200000</td>\n",
       "      <td>3.700000</td>\n",
       "      <td>117.800000</td>\n",
       "      <td>9.900000</td>\n",
       "      <td>0.700000</td>\n",
       "      <td>1.90000</td>\n",
       "      <td>3.000000</td>\n",
       "      <td>4.000000</td>\n",
       "      <td>10.000000</td>\n",
       "      <td>5.000000</td>\n",
       "      <td>20.000000</td>\n",
       "      <td>5.000000</td>\n",
       "      <td>0.000000</td>\n",
       "      <td>5.000000</td>\n",
       "      <td>4.218750</td>\n",
       "    </tr>\n",
       "    <tr>\n",
       "      <th>50%</th>\n",
       "      <td>145526.500000</td>\n",
       "      <td>5.000000</td>\n",
       "      <td>8.000000</td>\n",
       "      <td>245.000000</td>\n",
       "      <td>10.500000</td>\n",
       "      <td>3.500000</td>\n",
       "      <td>34.600000</td>\n",
       "      <td>300.300000</td>\n",
       "      <td>21.800000</td>\n",
       "      <td>1.700000</td>\n",
       "      <td>4.60000</td>\n",
       "      <td>7.200000</td>\n",
       "      <td>6.000000</td>\n",
       "      <td>20.000000</td>\n",
       "      <td>10.000000</td>\n",
       "      <td>35.000000</td>\n",
       "      <td>7.000000</td>\n",
       "      <td>3.000000</td>\n",
       "      <td>5.000000</td>\n",
       "      <td>4.594399</td>\n",
       "    </tr>\n",
       "    <tr>\n",
       "      <th>75%</th>\n",
       "      <td>265217.500000</td>\n",
       "      <td>5.000000</td>\n",
       "      <td>14.000000</td>\n",
       "      <td>369.800000</td>\n",
       "      <td>18.900000</td>\n",
       "      <td>7.500000</td>\n",
       "      <td>82.900000</td>\n",
       "      <td>612.300000</td>\n",
       "      <td>36.500000</td>\n",
       "      <td>3.200000</td>\n",
       "      <td>11.70000</td>\n",
       "      <td>21.500000</td>\n",
       "      <td>8.000000</td>\n",
       "      <td>40.000000</td>\n",
       "      <td>20.000000</td>\n",
       "      <td>60.000000</td>\n",
       "      <td>10.000000</td>\n",
       "      <td>4.000000</td>\n",
       "      <td>5.000000</td>\n",
       "      <td>4.833333</td>\n",
       "    </tr>\n",
       "    <tr>\n",
       "      <th>max</th>\n",
       "      <td>539182.000000</td>\n",
       "      <td>5.000000</td>\n",
       "      <td>3063.000000</td>\n",
       "      <td>1033.200000</td>\n",
       "      <td>60.100000</td>\n",
       "      <td>24.700000</td>\n",
       "      <td>263.800000</td>\n",
       "      <td>1795.400000</td>\n",
       "      <td>108.500000</td>\n",
       "      <td>10.300000</td>\n",
       "      <td>41.00000</td>\n",
       "      <td>57.200000</td>\n",
       "      <td>3800.000000</td>\n",
       "      <td>720.000000</td>\n",
       "      <td>720.000000</td>\n",
       "      <td>720.000000</td>\n",
       "      <td>39.000000</td>\n",
       "      <td>5.000000</td>\n",
       "      <td>5.000000</td>\n",
       "      <td>5.000000</td>\n",
       "    </tr>\n",
       "  </tbody>\n",
       "</table>\n",
       "</div>"
      ],
      "text/plain": [
       "            RecipeId  AggregatedRating   ReviewCount      Calories  \\\n",
       "count   34592.000000      34592.000000  34592.000000  34592.000000   \n",
       "mean   174330.652608          4.839298     15.634973    271.096135   \n",
       "std    129342.436960          0.315842     40.950915    164.698147   \n",
       "min        42.000000          1.000000      5.000000      0.000000   \n",
       "25%     64197.500000          4.500000      6.000000    146.100000   \n",
       "50%    145526.500000          5.000000      8.000000    245.000000   \n",
       "75%    265217.500000          5.000000     14.000000    369.800000   \n",
       "max    539182.000000          5.000000   3063.000000   1033.200000   \n",
       "\n",
       "         FatContent  SaturatedFatContent  CholesterolContent  SodiumContent  \\\n",
       "count  34592.000000         34592.000000        34592.000000   34592.000000   \n",
       "mean      13.164292             5.079698           52.329287     413.532620   \n",
       "std       11.043602             4.994264           55.548946     379.530477   \n",
       "min        0.000000             0.000000            0.000000       0.000000   \n",
       "25%        4.700000             1.200000            3.700000     117.800000   \n",
       "50%       10.500000             3.500000           34.600000     300.300000   \n",
       "75%       18.900000             7.500000           82.900000     612.300000   \n",
       "max       60.100000            24.700000          263.800000    1795.400000   \n",
       "\n",
       "       CarbohydrateContent  FiberContent  SugarContent  ProteinContent  \\\n",
       "count         34592.000000  34592.000000   34592.00000    34592.000000   \n",
       "mean             25.133170      2.260381       8.40246       12.929330   \n",
       "std              18.702753      2.112012       9.29552       12.881642   \n",
       "min               0.000000      0.000000       0.00000        0.000000   \n",
       "25%               9.900000      0.700000       1.90000        3.000000   \n",
       "50%              21.800000      1.700000       4.60000        7.200000   \n",
       "75%              36.500000      3.200000      11.70000       21.500000   \n",
       "max             108.500000     10.300000      41.00000       57.200000   \n",
       "\n",
       "       RecipeServings      CookTime      PrepTime     TotalTime  \\\n",
       "count    34592.000000  34592.000000  34592.000000  34592.000000   \n",
       "mean         8.404978     39.759684     16.697155     56.547410   \n",
       "std         23.958082     76.210834     28.211037     81.821406   \n",
       "min          1.000000      0.000000      0.000000      0.000000   \n",
       "25%          4.000000     10.000000      5.000000     20.000000   \n",
       "50%          6.000000     20.000000     10.000000     35.000000   \n",
       "75%          8.000000     40.000000     20.000000     60.000000   \n",
       "max       3800.000000    720.000000    720.000000    720.000000   \n",
       "\n",
       "       IngredientsCount  minimum_rating  maximum_rating  mean_of_rating  \n",
       "count      34592.000000    34592.000000    34592.000000    34592.000000  \n",
       "mean           7.598346        2.444583        4.994421        4.462268  \n",
       "std            3.710442        1.979556        0.086015        0.512345  \n",
       "min            1.000000        0.000000        1.000000        0.142857  \n",
       "25%            5.000000        0.000000        5.000000        4.218750  \n",
       "50%            7.000000        3.000000        5.000000        4.594399  \n",
       "75%           10.000000        4.000000        5.000000        4.833333  \n",
       "max           39.000000        5.000000        5.000000        5.000000  "
      ]
     },
     "execution_count": 147,
     "metadata": {},
     "output_type": "execute_result"
    }
   ],
   "source": [
    "dataFinal.describe()"
   ]
  },
  {
   "cell_type": "code",
   "execution_count": 148,
   "metadata": {},
   "outputs": [],
   "source": [
    "dataSample = dataFinal.sample(10000)"
   ]
  },
  {
   "cell_type": "code",
   "execution_count": 149,
   "metadata": {},
   "outputs": [
    {
     "data": {
      "text/html": [
       "<div>\n",
       "<style scoped>\n",
       "    .dataframe tbody tr th:only-of-type {\n",
       "        vertical-align: middle;\n",
       "    }\n",
       "\n",
       "    .dataframe tbody tr th {\n",
       "        vertical-align: top;\n",
       "    }\n",
       "\n",
       "    .dataframe thead th {\n",
       "        text-align: right;\n",
       "    }\n",
       "</style>\n",
       "<table border=\"1\" class=\"dataframe\">\n",
       "  <thead>\n",
       "    <tr style=\"text-align: right;\">\n",
       "      <th></th>\n",
       "      <th>RecipeId</th>\n",
       "      <th>Name</th>\n",
       "      <th>RecipeCategory</th>\n",
       "      <th>AggregatedRating</th>\n",
       "      <th>ReviewCount</th>\n",
       "      <th>Calories</th>\n",
       "      <th>FatContent</th>\n",
       "      <th>SaturatedFatContent</th>\n",
       "      <th>CholesterolContent</th>\n",
       "      <th>SodiumContent</th>\n",
       "      <th>...</th>\n",
       "      <th>ProteinContent</th>\n",
       "      <th>RecipeServings</th>\n",
       "      <th>CookTime</th>\n",
       "      <th>PrepTime</th>\n",
       "      <th>TotalTime</th>\n",
       "      <th>Review_Class</th>\n",
       "      <th>IngredientsCount</th>\n",
       "      <th>minimum_rating</th>\n",
       "      <th>maximum_rating</th>\n",
       "      <th>mean_of_rating</th>\n",
       "    </tr>\n",
       "  </thead>\n",
       "  <tbody>\n",
       "    <tr>\n",
       "      <th>2183</th>\n",
       "      <td>3689</td>\n",
       "      <td>Amish Pot Roast</td>\n",
       "      <td>Very Low Carbs</td>\n",
       "      <td>5.0</td>\n",
       "      <td>17.0</td>\n",
       "      <td>337.3</td>\n",
       "      <td>11.0</td>\n",
       "      <td>3.5</td>\n",
       "      <td>138.5</td>\n",
       "      <td>812.7</td>\n",
       "      <td>...</td>\n",
       "      <td>52.0</td>\n",
       "      <td>6.0</td>\n",
       "      <td>0</td>\n",
       "      <td>0</td>\n",
       "      <td>0</td>\n",
       "      <td>average</td>\n",
       "      <td>8</td>\n",
       "      <td>0.0</td>\n",
       "      <td>5.0</td>\n",
       "      <td>4.375</td>\n",
       "    </tr>\n",
       "    <tr>\n",
       "      <th>168179</th>\n",
       "      <td>176008</td>\n",
       "      <td>The Cavorting Chef's Fabulous Fruit Pizza</td>\n",
       "      <td>Dessert</td>\n",
       "      <td>5.0</td>\n",
       "      <td>7.0</td>\n",
       "      <td>447.8</td>\n",
       "      <td>20.7</td>\n",
       "      <td>7.9</td>\n",
       "      <td>39.8</td>\n",
       "      <td>302.7</td>\n",
       "      <td>...</td>\n",
       "      <td>4.8</td>\n",
       "      <td>10.0</td>\n",
       "      <td>15</td>\n",
       "      <td>25</td>\n",
       "      <td>40</td>\n",
       "      <td>average</td>\n",
       "      <td>9</td>\n",
       "      <td>5.0</td>\n",
       "      <td>5.0</td>\n",
       "      <td>5.000</td>\n",
       "    </tr>\n",
       "    <tr>\n",
       "      <th>84836</th>\n",
       "      <td>90001</td>\n",
       "      <td>Bacon Cheeseburger Potato Pie</td>\n",
       "      <td>Potato</td>\n",
       "      <td>5.0</td>\n",
       "      <td>42.0</td>\n",
       "      <td>489.6</td>\n",
       "      <td>26.9</td>\n",
       "      <td>11.2</td>\n",
       "      <td>100.5</td>\n",
       "      <td>721.0</td>\n",
       "      <td>...</td>\n",
       "      <td>32.4</td>\n",
       "      <td>6.0</td>\n",
       "      <td>45</td>\n",
       "      <td>15</td>\n",
       "      <td>60</td>\n",
       "      <td>average</td>\n",
       "      <td>14</td>\n",
       "      <td>0.0</td>\n",
       "      <td>5.0</td>\n",
       "      <td>4.475</td>\n",
       "    </tr>\n",
       "    <tr>\n",
       "      <th>37111</th>\n",
       "      <td>40852</td>\n",
       "      <td>Sauteed Salmon With Lime-Honey Sauce</td>\n",
       "      <td>Vietnamese</td>\n",
       "      <td>4.0</td>\n",
       "      <td>6.0</td>\n",
       "      <td>272.2</td>\n",
       "      <td>11.6</td>\n",
       "      <td>4.6</td>\n",
       "      <td>102.8</td>\n",
       "      <td>154.6</td>\n",
       "      <td>...</td>\n",
       "      <td>33.9</td>\n",
       "      <td>4.0</td>\n",
       "      <td>9</td>\n",
       "      <td>5</td>\n",
       "      <td>14</td>\n",
       "      <td>average</td>\n",
       "      <td>6</td>\n",
       "      <td>2.0</td>\n",
       "      <td>5.0</td>\n",
       "      <td>3.800</td>\n",
       "    </tr>\n",
       "    <tr>\n",
       "      <th>10896</th>\n",
       "      <td>14092</td>\n",
       "      <td>Mexican Layer Dip - YUMMM</td>\n",
       "      <td>Vegetable</td>\n",
       "      <td>5.0</td>\n",
       "      <td>7.0</td>\n",
       "      <td>422.0</td>\n",
       "      <td>36.7</td>\n",
       "      <td>17.3</td>\n",
       "      <td>80.9</td>\n",
       "      <td>703.0</td>\n",
       "      <td>...</td>\n",
       "      <td>12.5</td>\n",
       "      <td>6.0</td>\n",
       "      <td>0</td>\n",
       "      <td>20</td>\n",
       "      <td>20</td>\n",
       "      <td>average</td>\n",
       "      <td>11</td>\n",
       "      <td>5.0</td>\n",
       "      <td>5.0</td>\n",
       "      <td>5.000</td>\n",
       "    </tr>\n",
       "  </tbody>\n",
       "</table>\n",
       "<p>5 rows × 23 columns</p>\n",
       "</div>"
      ],
      "text/plain": [
       "        RecipeId                                       Name  RecipeCategory  \\\n",
       "2183        3689                            Amish Pot Roast  Very Low Carbs   \n",
       "168179    176008  The Cavorting Chef's Fabulous Fruit Pizza         Dessert   \n",
       "84836      90001              Bacon Cheeseburger Potato Pie          Potato   \n",
       "37111      40852       Sauteed Salmon With Lime-Honey Sauce      Vietnamese   \n",
       "10896      14092                  Mexican Layer Dip - YUMMM       Vegetable   \n",
       "\n",
       "        AggregatedRating  ReviewCount  Calories  FatContent  \\\n",
       "2183                 5.0         17.0     337.3        11.0   \n",
       "168179               5.0          7.0     447.8        20.7   \n",
       "84836                5.0         42.0     489.6        26.9   \n",
       "37111                4.0          6.0     272.2        11.6   \n",
       "10896                5.0          7.0     422.0        36.7   \n",
       "\n",
       "        SaturatedFatContent  CholesterolContent  SodiumContent  ...  \\\n",
       "2183                    3.5               138.5          812.7  ...   \n",
       "168179                  7.9                39.8          302.7  ...   \n",
       "84836                  11.2               100.5          721.0  ...   \n",
       "37111                   4.6               102.8          154.6  ...   \n",
       "10896                  17.3                80.9          703.0  ...   \n",
       "\n",
       "        ProteinContent  RecipeServings  CookTime  PrepTime  TotalTime  \\\n",
       "2183              52.0             6.0         0         0          0   \n",
       "168179             4.8            10.0        15        25         40   \n",
       "84836             32.4             6.0        45        15         60   \n",
       "37111             33.9             4.0         9         5         14   \n",
       "10896             12.5             6.0         0        20         20   \n",
       "\n",
       "        Review_Class  IngredientsCount  minimum_rating maximum_rating  \\\n",
       "2183         average                 8             0.0            5.0   \n",
       "168179       average                 9             5.0            5.0   \n",
       "84836        average                14             0.0            5.0   \n",
       "37111        average                 6             2.0            5.0   \n",
       "10896        average                11             5.0            5.0   \n",
       "\n",
       "        mean_of_rating  \n",
       "2183             4.375  \n",
       "168179           5.000  \n",
       "84836            4.475  \n",
       "37111            3.800  \n",
       "10896            5.000  \n",
       "\n",
       "[5 rows x 23 columns]"
      ]
     },
     "execution_count": 149,
     "metadata": {},
     "output_type": "execute_result"
    }
   ],
   "source": [
    "dataSample.head()"
   ]
  },
  {
   "cell_type": "code",
   "execution_count": 150,
   "metadata": {},
   "outputs": [],
   "source": [
    "dataSample.to_csv(\"FinalSample.csv\",index=False)"
   ]
  },
  {
   "cell_type": "code",
   "execution_count": 21,
   "metadata": {},
   "outputs": [],
   "source": [
    "import pandas as pd\n",
    "data = pd.read_csv(\"FinalSample.csv\")"
   ]
  },
  {
   "cell_type": "code",
   "execution_count": 22,
   "metadata": {},
   "outputs": [
    {
     "data": {
      "text/plain": [
       "(10000, 23)"
      ]
     },
     "execution_count": 22,
     "metadata": {},
     "output_type": "execute_result"
    }
   ],
   "source": [
    "data.head()\n",
    "data.shape"
   ]
  },
  {
   "cell_type": "code",
   "execution_count": 5,
   "metadata": {},
   "outputs": [
    {
     "data": {
      "text/html": [
       "<div>\n",
       "<style scoped>\n",
       "    .dataframe tbody tr th:only-of-type {\n",
       "        vertical-align: middle;\n",
       "    }\n",
       "\n",
       "    .dataframe tbody tr th {\n",
       "        vertical-align: top;\n",
       "    }\n",
       "\n",
       "    .dataframe thead th {\n",
       "        text-align: right;\n",
       "    }\n",
       "</style>\n",
       "<table border=\"1\" class=\"dataframe\">\n",
       "  <thead>\n",
       "    <tr style=\"text-align: right;\">\n",
       "      <th></th>\n",
       "      <th>RecipeId</th>\n",
       "      <th>Name</th>\n",
       "      <th>RecipeCategory</th>\n",
       "      <th>AggregatedRating</th>\n",
       "      <th>ReviewCount</th>\n",
       "      <th>Calories</th>\n",
       "      <th>FatContent</th>\n",
       "      <th>SaturatedFatContent</th>\n",
       "      <th>CholesterolContent</th>\n",
       "      <th>SodiumContent</th>\n",
       "      <th>...</th>\n",
       "      <th>ProteinContent</th>\n",
       "      <th>RecipeServings</th>\n",
       "      <th>CookTime</th>\n",
       "      <th>PrepTime</th>\n",
       "      <th>TotalTime</th>\n",
       "      <th>Review_Class</th>\n",
       "      <th>IngredientsCount</th>\n",
       "      <th>minimum_rating</th>\n",
       "      <th>maximum_rating</th>\n",
       "      <th>mean_of_rating</th>\n",
       "    </tr>\n",
       "  </thead>\n",
       "  <tbody>\n",
       "    <tr>\n",
       "      <th>9995</th>\n",
       "      <td>46774</td>\n",
       "      <td>Charishma's Double Mocha-Cocoa-Sweetened Milk-...</td>\n",
       "      <td>Beverages</td>\n",
       "      <td>4.0</td>\n",
       "      <td>7.0</td>\n",
       "      <td>137.1</td>\n",
       "      <td>3.0</td>\n",
       "      <td>1.6</td>\n",
       "      <td>8.8</td>\n",
       "      <td>51.0</td>\n",
       "      <td>...</td>\n",
       "      <td>2.5</td>\n",
       "      <td>1.0</td>\n",
       "      <td>0</td>\n",
       "      <td>6</td>\n",
       "      <td>6</td>\n",
       "      <td>average</td>\n",
       "      <td>5</td>\n",
       "      <td>0.0</td>\n",
       "      <td>5.0</td>\n",
       "      <td>3.833333</td>\n",
       "    </tr>\n",
       "    <tr>\n",
       "      <th>9996</th>\n",
       "      <td>313369</td>\n",
       "      <td>Caramelized Potato and Onion Salad</td>\n",
       "      <td>Potato</td>\n",
       "      <td>5.0</td>\n",
       "      <td>5.0</td>\n",
       "      <td>252.5</td>\n",
       "      <td>13.7</td>\n",
       "      <td>1.9</td>\n",
       "      <td>0.0</td>\n",
       "      <td>8.9</td>\n",
       "      <td>...</td>\n",
       "      <td>2.7</td>\n",
       "      <td>4.0</td>\n",
       "      <td>60</td>\n",
       "      <td>10</td>\n",
       "      <td>70</td>\n",
       "      <td>average</td>\n",
       "      <td>7</td>\n",
       "      <td>4.0</td>\n",
       "      <td>5.0</td>\n",
       "      <td>4.800000</td>\n",
       "    </tr>\n",
       "    <tr>\n",
       "      <th>9997</th>\n",
       "      <td>111844</td>\n",
       "      <td>New Potatoes in Spinach Sauce</td>\n",
       "      <td>Spinach</td>\n",
       "      <td>5.0</td>\n",
       "      <td>5.0</td>\n",
       "      <td>300.5</td>\n",
       "      <td>9.3</td>\n",
       "      <td>1.8</td>\n",
       "      <td>4.0</td>\n",
       "      <td>154.8</td>\n",
       "      <td>...</td>\n",
       "      <td>10.9</td>\n",
       "      <td>6.0</td>\n",
       "      <td>30</td>\n",
       "      <td>20</td>\n",
       "      <td>50</td>\n",
       "      <td>average</td>\n",
       "      <td>15</td>\n",
       "      <td>4.0</td>\n",
       "      <td>5.0</td>\n",
       "      <td>4.600000</td>\n",
       "    </tr>\n",
       "    <tr>\n",
       "      <th>9998</th>\n",
       "      <td>18236</td>\n",
       "      <td>Fooll Mudammes (Fava Bean Egyptian Breakfast)(...</td>\n",
       "      <td>One Dish Meal</td>\n",
       "      <td>5.0</td>\n",
       "      <td>13.0</td>\n",
       "      <td>226.3</td>\n",
       "      <td>10.8</td>\n",
       "      <td>1.4</td>\n",
       "      <td>0.0</td>\n",
       "      <td>378.0</td>\n",
       "      <td>...</td>\n",
       "      <td>8.7</td>\n",
       "      <td>4.0</td>\n",
       "      <td>12</td>\n",
       "      <td>3</td>\n",
       "      <td>15</td>\n",
       "      <td>average</td>\n",
       "      <td>7</td>\n",
       "      <td>4.0</td>\n",
       "      <td>5.0</td>\n",
       "      <td>4.833333</td>\n",
       "    </tr>\n",
       "    <tr>\n",
       "      <th>9999</th>\n",
       "      <td>261331</td>\n",
       "      <td>Oriental Crunchy Ramen Salad</td>\n",
       "      <td>Greens</td>\n",
       "      <td>5.0</td>\n",
       "      <td>9.0</td>\n",
       "      <td>79.7</td>\n",
       "      <td>5.6</td>\n",
       "      <td>1.1</td>\n",
       "      <td>0.0</td>\n",
       "      <td>120.1</td>\n",
       "      <td>...</td>\n",
       "      <td>1.0</td>\n",
       "      <td>15.0</td>\n",
       "      <td>10</td>\n",
       "      <td>20</td>\n",
       "      <td>30</td>\n",
       "      <td>average</td>\n",
       "      <td>4</td>\n",
       "      <td>4.0</td>\n",
       "      <td>5.0</td>\n",
       "      <td>4.777778</td>\n",
       "    </tr>\n",
       "  </tbody>\n",
       "</table>\n",
       "<p>5 rows × 23 columns</p>\n",
       "</div>"
      ],
      "text/plain": [
       "      RecipeId                                               Name  \\\n",
       "9995     46774  Charishma's Double Mocha-Cocoa-Sweetened Milk-...   \n",
       "9996    313369                 Caramelized Potato and Onion Salad   \n",
       "9997    111844                      New Potatoes in Spinach Sauce   \n",
       "9998     18236  Fooll Mudammes (Fava Bean Egyptian Breakfast)(...   \n",
       "9999    261331                       Oriental Crunchy Ramen Salad   \n",
       "\n",
       "     RecipeCategory  AggregatedRating  ReviewCount  Calories  FatContent  \\\n",
       "9995      Beverages               4.0          7.0     137.1         3.0   \n",
       "9996         Potato               5.0          5.0     252.5        13.7   \n",
       "9997        Spinach               5.0          5.0     300.5         9.3   \n",
       "9998  One Dish Meal               5.0         13.0     226.3        10.8   \n",
       "9999         Greens               5.0          9.0      79.7         5.6   \n",
       "\n",
       "      SaturatedFatContent  CholesterolContent  SodiumContent  ...  \\\n",
       "9995                  1.6                 8.8           51.0  ...   \n",
       "9996                  1.9                 0.0            8.9  ...   \n",
       "9997                  1.8                 4.0          154.8  ...   \n",
       "9998                  1.4                 0.0          378.0  ...   \n",
       "9999                  1.1                 0.0          120.1  ...   \n",
       "\n",
       "      ProteinContent  RecipeServings  CookTime  PrepTime  TotalTime  \\\n",
       "9995             2.5             1.0         0         6          6   \n",
       "9996             2.7             4.0        60        10         70   \n",
       "9997            10.9             6.0        30        20         50   \n",
       "9998             8.7             4.0        12         3         15   \n",
       "9999             1.0            15.0        10        20         30   \n",
       "\n",
       "      Review_Class  IngredientsCount  minimum_rating maximum_rating  \\\n",
       "9995       average                 5             0.0            5.0   \n",
       "9996       average                 7             4.0            5.0   \n",
       "9997       average                15             4.0            5.0   \n",
       "9998       average                 7             4.0            5.0   \n",
       "9999       average                 4             4.0            5.0   \n",
       "\n",
       "      mean_of_rating  \n",
       "9995        3.833333  \n",
       "9996        4.800000  \n",
       "9997        4.600000  \n",
       "9998        4.833333  \n",
       "9999        4.777778  \n",
       "\n",
       "[5 rows x 23 columns]"
      ]
     },
     "execution_count": 5,
     "metadata": {},
     "output_type": "execute_result"
    }
   ],
   "source": [
    "data.tail()"
   ]
  },
  {
   "cell_type": "code",
   "execution_count": 6,
   "metadata": {},
   "outputs": [
    {
     "data": {
      "text/html": [
       "<div>\n",
       "<style scoped>\n",
       "    .dataframe tbody tr th:only-of-type {\n",
       "        vertical-align: middle;\n",
       "    }\n",
       "\n",
       "    .dataframe tbody tr th {\n",
       "        vertical-align: top;\n",
       "    }\n",
       "\n",
       "    .dataframe thead th {\n",
       "        text-align: right;\n",
       "    }\n",
       "</style>\n",
       "<table border=\"1\" class=\"dataframe\">\n",
       "  <thead>\n",
       "    <tr style=\"text-align: right;\">\n",
       "      <th></th>\n",
       "      <th>RecipeId</th>\n",
       "      <th>AggregatedRating</th>\n",
       "      <th>ReviewCount</th>\n",
       "      <th>Calories</th>\n",
       "      <th>FatContent</th>\n",
       "      <th>SaturatedFatContent</th>\n",
       "      <th>CholesterolContent</th>\n",
       "      <th>SodiumContent</th>\n",
       "      <th>CarbohydrateContent</th>\n",
       "      <th>FiberContent</th>\n",
       "      <th>SugarContent</th>\n",
       "      <th>ProteinContent</th>\n",
       "      <th>RecipeServings</th>\n",
       "      <th>CookTime</th>\n",
       "      <th>PrepTime</th>\n",
       "      <th>TotalTime</th>\n",
       "      <th>IngredientsCount</th>\n",
       "      <th>minimum_rating</th>\n",
       "      <th>maximum_rating</th>\n",
       "      <th>mean_of_rating</th>\n",
       "    </tr>\n",
       "  </thead>\n",
       "  <tbody>\n",
       "    <tr>\n",
       "      <th>count</th>\n",
       "      <td>10000.000000</td>\n",
       "      <td>10000.000000</td>\n",
       "      <td>10000.000000</td>\n",
       "      <td>10000.000000</td>\n",
       "      <td>10000.000000</td>\n",
       "      <td>10000.000000</td>\n",
       "      <td>10000.000000</td>\n",
       "      <td>10000.000000</td>\n",
       "      <td>10000.000000</td>\n",
       "      <td>10000.000000</td>\n",
       "      <td>10000.000000</td>\n",
       "      <td>10000.000000</td>\n",
       "      <td>10000.000000</td>\n",
       "      <td>10000.000000</td>\n",
       "      <td>10000.000000</td>\n",
       "      <td>10000.000000</td>\n",
       "      <td>10000.000000</td>\n",
       "      <td>10000.000000</td>\n",
       "      <td>10000.000000</td>\n",
       "      <td>10000.000000</td>\n",
       "    </tr>\n",
       "    <tr>\n",
       "      <th>mean</th>\n",
       "      <td>174486.948900</td>\n",
       "      <td>4.839750</td>\n",
       "      <td>15.371200</td>\n",
       "      <td>269.383160</td>\n",
       "      <td>13.105110</td>\n",
       "      <td>5.062540</td>\n",
       "      <td>51.468030</td>\n",
       "      <td>413.763170</td>\n",
       "      <td>24.925310</td>\n",
       "      <td>2.228910</td>\n",
       "      <td>8.299260</td>\n",
       "      <td>12.750440</td>\n",
       "      <td>8.281200</td>\n",
       "      <td>39.249000</td>\n",
       "      <td>16.222700</td>\n",
       "      <td>55.594100</td>\n",
       "      <td>7.523400</td>\n",
       "      <td>2.443300</td>\n",
       "      <td>4.994300</td>\n",
       "      <td>4.463686</td>\n",
       "    </tr>\n",
       "    <tr>\n",
       "      <th>std</th>\n",
       "      <td>129445.554576</td>\n",
       "      <td>0.312097</td>\n",
       "      <td>32.409086</td>\n",
       "      <td>163.834415</td>\n",
       "      <td>11.060158</td>\n",
       "      <td>5.033295</td>\n",
       "      <td>54.824312</td>\n",
       "      <td>383.157992</td>\n",
       "      <td>18.694296</td>\n",
       "      <td>2.087736</td>\n",
       "      <td>9.207369</td>\n",
       "      <td>12.771772</td>\n",
       "      <td>10.608967</td>\n",
       "      <td>75.827523</td>\n",
       "      <td>27.187122</td>\n",
       "      <td>81.488626</td>\n",
       "      <td>3.690856</td>\n",
       "      <td>1.970577</td>\n",
       "      <td>0.079172</td>\n",
       "      <td>0.509900</td>\n",
       "    </tr>\n",
       "    <tr>\n",
       "      <th>min</th>\n",
       "      <td>42.000000</td>\n",
       "      <td>2.000000</td>\n",
       "      <td>5.000000</td>\n",
       "      <td>0.000000</td>\n",
       "      <td>0.000000</td>\n",
       "      <td>0.000000</td>\n",
       "      <td>0.000000</td>\n",
       "      <td>0.000000</td>\n",
       "      <td>0.000000</td>\n",
       "      <td>0.000000</td>\n",
       "      <td>0.000000</td>\n",
       "      <td>0.000000</td>\n",
       "      <td>1.000000</td>\n",
       "      <td>0.000000</td>\n",
       "      <td>0.000000</td>\n",
       "      <td>0.000000</td>\n",
       "      <td>1.000000</td>\n",
       "      <td>0.000000</td>\n",
       "      <td>3.000000</td>\n",
       "      <td>0.800000</td>\n",
       "    </tr>\n",
       "    <tr>\n",
       "      <th>25%</th>\n",
       "      <td>64263.500000</td>\n",
       "      <td>4.500000</td>\n",
       "      <td>6.000000</td>\n",
       "      <td>145.800000</td>\n",
       "      <td>4.600000</td>\n",
       "      <td>1.200000</td>\n",
       "      <td>3.275000</td>\n",
       "      <td>114.975000</td>\n",
       "      <td>9.600000</td>\n",
       "      <td>0.600000</td>\n",
       "      <td>1.900000</td>\n",
       "      <td>3.000000</td>\n",
       "      <td>4.000000</td>\n",
       "      <td>10.000000</td>\n",
       "      <td>5.000000</td>\n",
       "      <td>20.000000</td>\n",
       "      <td>5.000000</td>\n",
       "      <td>0.000000</td>\n",
       "      <td>5.000000</td>\n",
       "      <td>4.230769</td>\n",
       "    </tr>\n",
       "    <tr>\n",
       "      <th>50%</th>\n",
       "      <td>146349.500000</td>\n",
       "      <td>5.000000</td>\n",
       "      <td>8.000000</td>\n",
       "      <td>242.700000</td>\n",
       "      <td>10.300000</td>\n",
       "      <td>3.500000</td>\n",
       "      <td>33.500000</td>\n",
       "      <td>298.300000</td>\n",
       "      <td>21.700000</td>\n",
       "      <td>1.600000</td>\n",
       "      <td>4.500000</td>\n",
       "      <td>7.000000</td>\n",
       "      <td>6.000000</td>\n",
       "      <td>20.000000</td>\n",
       "      <td>10.000000</td>\n",
       "      <td>35.000000</td>\n",
       "      <td>7.000000</td>\n",
       "      <td>3.000000</td>\n",
       "      <td>5.000000</td>\n",
       "      <td>4.600000</td>\n",
       "    </tr>\n",
       "    <tr>\n",
       "      <th>75%</th>\n",
       "      <td>264968.250000</td>\n",
       "      <td>5.000000</td>\n",
       "      <td>13.250000</td>\n",
       "      <td>369.200000</td>\n",
       "      <td>18.900000</td>\n",
       "      <td>7.500000</td>\n",
       "      <td>81.800000</td>\n",
       "      <td>615.825000</td>\n",
       "      <td>36.200000</td>\n",
       "      <td>3.200000</td>\n",
       "      <td>11.600000</td>\n",
       "      <td>21.000000</td>\n",
       "      <td>8.000000</td>\n",
       "      <td>40.000000</td>\n",
       "      <td>20.000000</td>\n",
       "      <td>60.000000</td>\n",
       "      <td>10.000000</td>\n",
       "      <td>4.000000</td>\n",
       "      <td>5.000000</td>\n",
       "      <td>4.833333</td>\n",
       "    </tr>\n",
       "    <tr>\n",
       "      <th>max</th>\n",
       "      <td>539115.000000</td>\n",
       "      <td>5.000000</td>\n",
       "      <td>973.000000</td>\n",
       "      <td>1031.400000</td>\n",
       "      <td>60.100000</td>\n",
       "      <td>24.700000</td>\n",
       "      <td>263.600000</td>\n",
       "      <td>1795.100000</td>\n",
       "      <td>106.300000</td>\n",
       "      <td>10.300000</td>\n",
       "      <td>41.000000</td>\n",
       "      <td>57.100000</td>\n",
       "      <td>365.000000</td>\n",
       "      <td>660.000000</td>\n",
       "      <td>540.000000</td>\n",
       "      <td>720.000000</td>\n",
       "      <td>28.000000</td>\n",
       "      <td>5.000000</td>\n",
       "      <td>5.000000</td>\n",
       "      <td>5.000000</td>\n",
       "    </tr>\n",
       "  </tbody>\n",
       "</table>\n",
       "</div>"
      ],
      "text/plain": [
       "            RecipeId  AggregatedRating   ReviewCount      Calories  \\\n",
       "count   10000.000000      10000.000000  10000.000000  10000.000000   \n",
       "mean   174486.948900          4.839750     15.371200    269.383160   \n",
       "std    129445.554576          0.312097     32.409086    163.834415   \n",
       "min        42.000000          2.000000      5.000000      0.000000   \n",
       "25%     64263.500000          4.500000      6.000000    145.800000   \n",
       "50%    146349.500000          5.000000      8.000000    242.700000   \n",
       "75%    264968.250000          5.000000     13.250000    369.200000   \n",
       "max    539115.000000          5.000000    973.000000   1031.400000   \n",
       "\n",
       "         FatContent  SaturatedFatContent  CholesterolContent  SodiumContent  \\\n",
       "count  10000.000000         10000.000000        10000.000000   10000.000000   \n",
       "mean      13.105110             5.062540           51.468030     413.763170   \n",
       "std       11.060158             5.033295           54.824312     383.157992   \n",
       "min        0.000000             0.000000            0.000000       0.000000   \n",
       "25%        4.600000             1.200000            3.275000     114.975000   \n",
       "50%       10.300000             3.500000           33.500000     298.300000   \n",
       "75%       18.900000             7.500000           81.800000     615.825000   \n",
       "max       60.100000            24.700000          263.600000    1795.100000   \n",
       "\n",
       "       CarbohydrateContent  FiberContent  SugarContent  ProteinContent  \\\n",
       "count         10000.000000  10000.000000  10000.000000    10000.000000   \n",
       "mean             24.925310      2.228910      8.299260       12.750440   \n",
       "std              18.694296      2.087736      9.207369       12.771772   \n",
       "min               0.000000      0.000000      0.000000        0.000000   \n",
       "25%               9.600000      0.600000      1.900000        3.000000   \n",
       "50%              21.700000      1.600000      4.500000        7.000000   \n",
       "75%              36.200000      3.200000     11.600000       21.000000   \n",
       "max             106.300000     10.300000     41.000000       57.100000   \n",
       "\n",
       "       RecipeServings      CookTime      PrepTime     TotalTime  \\\n",
       "count    10000.000000  10000.000000  10000.000000  10000.000000   \n",
       "mean         8.281200     39.249000     16.222700     55.594100   \n",
       "std         10.608967     75.827523     27.187122     81.488626   \n",
       "min          1.000000      0.000000      0.000000      0.000000   \n",
       "25%          4.000000     10.000000      5.000000     20.000000   \n",
       "50%          6.000000     20.000000     10.000000     35.000000   \n",
       "75%          8.000000     40.000000     20.000000     60.000000   \n",
       "max        365.000000    660.000000    540.000000    720.000000   \n",
       "\n",
       "       IngredientsCount  minimum_rating  maximum_rating  mean_of_rating  \n",
       "count      10000.000000    10000.000000    10000.000000    10000.000000  \n",
       "mean           7.523400        2.443300        4.994300        4.463686  \n",
       "std            3.690856        1.970577        0.079172        0.509900  \n",
       "min            1.000000        0.000000        3.000000        0.800000  \n",
       "25%            5.000000        0.000000        5.000000        4.230769  \n",
       "50%            7.000000        3.000000        5.000000        4.600000  \n",
       "75%           10.000000        4.000000        5.000000        4.833333  \n",
       "max           28.000000        5.000000        5.000000        5.000000  "
      ]
     },
     "execution_count": 6,
     "metadata": {},
     "output_type": "execute_result"
    }
   ],
   "source": [
    "data.describe()"
   ]
  },
  {
   "cell_type": "code",
   "execution_count": 7,
   "metadata": {},
   "outputs": [
    {
     "data": {
      "text/html": [
       "<div>\n",
       "<style scoped>\n",
       "    .dataframe tbody tr th:only-of-type {\n",
       "        vertical-align: middle;\n",
       "    }\n",
       "\n",
       "    .dataframe tbody tr th {\n",
       "        vertical-align: top;\n",
       "    }\n",
       "\n",
       "    .dataframe thead th {\n",
       "        text-align: right;\n",
       "    }\n",
       "</style>\n",
       "<table border=\"1\" class=\"dataframe\">\n",
       "  <thead>\n",
       "    <tr style=\"text-align: right;\">\n",
       "      <th></th>\n",
       "      <th>RecipeId</th>\n",
       "      <th>Name</th>\n",
       "      <th>RecipeCategory</th>\n",
       "      <th>AggregatedRating</th>\n",
       "      <th>ReviewCount</th>\n",
       "      <th>Calories</th>\n",
       "      <th>FatContent</th>\n",
       "      <th>SaturatedFatContent</th>\n",
       "      <th>CholesterolContent</th>\n",
       "      <th>SodiumContent</th>\n",
       "      <th>...</th>\n",
       "      <th>ProteinContent</th>\n",
       "      <th>RecipeServings</th>\n",
       "      <th>CookTime</th>\n",
       "      <th>PrepTime</th>\n",
       "      <th>TotalTime</th>\n",
       "      <th>Review_Class</th>\n",
       "      <th>IngredientsCount</th>\n",
       "      <th>minimum_rating</th>\n",
       "      <th>maximum_rating</th>\n",
       "      <th>mean_of_rating</th>\n",
       "    </tr>\n",
       "  </thead>\n",
       "  <tbody>\n",
       "    <tr>\n",
       "      <th>count</th>\n",
       "      <td>10000.000000</td>\n",
       "      <td>10000</td>\n",
       "      <td>10000</td>\n",
       "      <td>10000.000000</td>\n",
       "      <td>10000.000000</td>\n",
       "      <td>10000.000000</td>\n",
       "      <td>10000.000000</td>\n",
       "      <td>10000.000000</td>\n",
       "      <td>10000.000000</td>\n",
       "      <td>10000.000000</td>\n",
       "      <td>...</td>\n",
       "      <td>10000.000000</td>\n",
       "      <td>10000.000000</td>\n",
       "      <td>10000.000000</td>\n",
       "      <td>10000.000000</td>\n",
       "      <td>10000.000000</td>\n",
       "      <td>10000</td>\n",
       "      <td>10000.000000</td>\n",
       "      <td>10000.000000</td>\n",
       "      <td>10000.000000</td>\n",
       "      <td>10000.000000</td>\n",
       "    </tr>\n",
       "    <tr>\n",
       "      <th>unique</th>\n",
       "      <td>NaN</td>\n",
       "      <td>9860</td>\n",
       "      <td>188</td>\n",
       "      <td>NaN</td>\n",
       "      <td>NaN</td>\n",
       "      <td>NaN</td>\n",
       "      <td>NaN</td>\n",
       "      <td>NaN</td>\n",
       "      <td>NaN</td>\n",
       "      <td>NaN</td>\n",
       "      <td>...</td>\n",
       "      <td>NaN</td>\n",
       "      <td>NaN</td>\n",
       "      <td>NaN</td>\n",
       "      <td>NaN</td>\n",
       "      <td>NaN</td>\n",
       "      <td>3</td>\n",
       "      <td>NaN</td>\n",
       "      <td>NaN</td>\n",
       "      <td>NaN</td>\n",
       "      <td>NaN</td>\n",
       "    </tr>\n",
       "    <tr>\n",
       "      <th>top</th>\n",
       "      <td>NaN</td>\n",
       "      <td>Chicken Enchiladas</td>\n",
       "      <td>Dessert</td>\n",
       "      <td>NaN</td>\n",
       "      <td>NaN</td>\n",
       "      <td>NaN</td>\n",
       "      <td>NaN</td>\n",
       "      <td>NaN</td>\n",
       "      <td>NaN</td>\n",
       "      <td>NaN</td>\n",
       "      <td>...</td>\n",
       "      <td>NaN</td>\n",
       "      <td>NaN</td>\n",
       "      <td>NaN</td>\n",
       "      <td>NaN</td>\n",
       "      <td>NaN</td>\n",
       "      <td>average</td>\n",
       "      <td>NaN</td>\n",
       "      <td>NaN</td>\n",
       "      <td>NaN</td>\n",
       "      <td>NaN</td>\n",
       "    </tr>\n",
       "    <tr>\n",
       "      <th>freq</th>\n",
       "      <td>NaN</td>\n",
       "      <td>5</td>\n",
       "      <td>806</td>\n",
       "      <td>NaN</td>\n",
       "      <td>NaN</td>\n",
       "      <td>NaN</td>\n",
       "      <td>NaN</td>\n",
       "      <td>NaN</td>\n",
       "      <td>NaN</td>\n",
       "      <td>NaN</td>\n",
       "      <td>...</td>\n",
       "      <td>NaN</td>\n",
       "      <td>NaN</td>\n",
       "      <td>NaN</td>\n",
       "      <td>NaN</td>\n",
       "      <td>NaN</td>\n",
       "      <td>9878</td>\n",
       "      <td>NaN</td>\n",
       "      <td>NaN</td>\n",
       "      <td>NaN</td>\n",
       "      <td>NaN</td>\n",
       "    </tr>\n",
       "    <tr>\n",
       "      <th>mean</th>\n",
       "      <td>174486.948900</td>\n",
       "      <td>NaN</td>\n",
       "      <td>NaN</td>\n",
       "      <td>4.839750</td>\n",
       "      <td>15.371200</td>\n",
       "      <td>269.383160</td>\n",
       "      <td>13.105110</td>\n",
       "      <td>5.062540</td>\n",
       "      <td>51.468030</td>\n",
       "      <td>413.763170</td>\n",
       "      <td>...</td>\n",
       "      <td>12.750440</td>\n",
       "      <td>8.281200</td>\n",
       "      <td>39.249000</td>\n",
       "      <td>16.222700</td>\n",
       "      <td>55.594100</td>\n",
       "      <td>NaN</td>\n",
       "      <td>7.523400</td>\n",
       "      <td>2.443300</td>\n",
       "      <td>4.994300</td>\n",
       "      <td>4.463686</td>\n",
       "    </tr>\n",
       "    <tr>\n",
       "      <th>std</th>\n",
       "      <td>129445.554576</td>\n",
       "      <td>NaN</td>\n",
       "      <td>NaN</td>\n",
       "      <td>0.312097</td>\n",
       "      <td>32.409086</td>\n",
       "      <td>163.834415</td>\n",
       "      <td>11.060158</td>\n",
       "      <td>5.033295</td>\n",
       "      <td>54.824312</td>\n",
       "      <td>383.157992</td>\n",
       "      <td>...</td>\n",
       "      <td>12.771772</td>\n",
       "      <td>10.608967</td>\n",
       "      <td>75.827523</td>\n",
       "      <td>27.187122</td>\n",
       "      <td>81.488626</td>\n",
       "      <td>NaN</td>\n",
       "      <td>3.690856</td>\n",
       "      <td>1.970577</td>\n",
       "      <td>0.079172</td>\n",
       "      <td>0.509900</td>\n",
       "    </tr>\n",
       "    <tr>\n",
       "      <th>min</th>\n",
       "      <td>42.000000</td>\n",
       "      <td>NaN</td>\n",
       "      <td>NaN</td>\n",
       "      <td>2.000000</td>\n",
       "      <td>5.000000</td>\n",
       "      <td>0.000000</td>\n",
       "      <td>0.000000</td>\n",
       "      <td>0.000000</td>\n",
       "      <td>0.000000</td>\n",
       "      <td>0.000000</td>\n",
       "      <td>...</td>\n",
       "      <td>0.000000</td>\n",
       "      <td>1.000000</td>\n",
       "      <td>0.000000</td>\n",
       "      <td>0.000000</td>\n",
       "      <td>0.000000</td>\n",
       "      <td>NaN</td>\n",
       "      <td>1.000000</td>\n",
       "      <td>0.000000</td>\n",
       "      <td>3.000000</td>\n",
       "      <td>0.800000</td>\n",
       "    </tr>\n",
       "    <tr>\n",
       "      <th>25%</th>\n",
       "      <td>64263.500000</td>\n",
       "      <td>NaN</td>\n",
       "      <td>NaN</td>\n",
       "      <td>4.500000</td>\n",
       "      <td>6.000000</td>\n",
       "      <td>145.800000</td>\n",
       "      <td>4.600000</td>\n",
       "      <td>1.200000</td>\n",
       "      <td>3.275000</td>\n",
       "      <td>114.975000</td>\n",
       "      <td>...</td>\n",
       "      <td>3.000000</td>\n",
       "      <td>4.000000</td>\n",
       "      <td>10.000000</td>\n",
       "      <td>5.000000</td>\n",
       "      <td>20.000000</td>\n",
       "      <td>NaN</td>\n",
       "      <td>5.000000</td>\n",
       "      <td>0.000000</td>\n",
       "      <td>5.000000</td>\n",
       "      <td>4.230769</td>\n",
       "    </tr>\n",
       "    <tr>\n",
       "      <th>50%</th>\n",
       "      <td>146349.500000</td>\n",
       "      <td>NaN</td>\n",
       "      <td>NaN</td>\n",
       "      <td>5.000000</td>\n",
       "      <td>8.000000</td>\n",
       "      <td>242.700000</td>\n",
       "      <td>10.300000</td>\n",
       "      <td>3.500000</td>\n",
       "      <td>33.500000</td>\n",
       "      <td>298.300000</td>\n",
       "      <td>...</td>\n",
       "      <td>7.000000</td>\n",
       "      <td>6.000000</td>\n",
       "      <td>20.000000</td>\n",
       "      <td>10.000000</td>\n",
       "      <td>35.000000</td>\n",
       "      <td>NaN</td>\n",
       "      <td>7.000000</td>\n",
       "      <td>3.000000</td>\n",
       "      <td>5.000000</td>\n",
       "      <td>4.600000</td>\n",
       "    </tr>\n",
       "    <tr>\n",
       "      <th>75%</th>\n",
       "      <td>264968.250000</td>\n",
       "      <td>NaN</td>\n",
       "      <td>NaN</td>\n",
       "      <td>5.000000</td>\n",
       "      <td>13.250000</td>\n",
       "      <td>369.200000</td>\n",
       "      <td>18.900000</td>\n",
       "      <td>7.500000</td>\n",
       "      <td>81.800000</td>\n",
       "      <td>615.825000</td>\n",
       "      <td>...</td>\n",
       "      <td>21.000000</td>\n",
       "      <td>8.000000</td>\n",
       "      <td>40.000000</td>\n",
       "      <td>20.000000</td>\n",
       "      <td>60.000000</td>\n",
       "      <td>NaN</td>\n",
       "      <td>10.000000</td>\n",
       "      <td>4.000000</td>\n",
       "      <td>5.000000</td>\n",
       "      <td>4.833333</td>\n",
       "    </tr>\n",
       "    <tr>\n",
       "      <th>max</th>\n",
       "      <td>539115.000000</td>\n",
       "      <td>NaN</td>\n",
       "      <td>NaN</td>\n",
       "      <td>5.000000</td>\n",
       "      <td>973.000000</td>\n",
       "      <td>1031.400000</td>\n",
       "      <td>60.100000</td>\n",
       "      <td>24.700000</td>\n",
       "      <td>263.600000</td>\n",
       "      <td>1795.100000</td>\n",
       "      <td>...</td>\n",
       "      <td>57.100000</td>\n",
       "      <td>365.000000</td>\n",
       "      <td>660.000000</td>\n",
       "      <td>540.000000</td>\n",
       "      <td>720.000000</td>\n",
       "      <td>NaN</td>\n",
       "      <td>28.000000</td>\n",
       "      <td>5.000000</td>\n",
       "      <td>5.000000</td>\n",
       "      <td>5.000000</td>\n",
       "    </tr>\n",
       "  </tbody>\n",
       "</table>\n",
       "<p>11 rows × 23 columns</p>\n",
       "</div>"
      ],
      "text/plain": [
       "             RecipeId                Name RecipeCategory  AggregatedRating  \\\n",
       "count    10000.000000               10000          10000      10000.000000   \n",
       "unique            NaN                9860            188               NaN   \n",
       "top               NaN  Chicken Enchiladas        Dessert               NaN   \n",
       "freq              NaN                   5            806               NaN   \n",
       "mean    174486.948900                 NaN            NaN          4.839750   \n",
       "std     129445.554576                 NaN            NaN          0.312097   \n",
       "min         42.000000                 NaN            NaN          2.000000   \n",
       "25%      64263.500000                 NaN            NaN          4.500000   \n",
       "50%     146349.500000                 NaN            NaN          5.000000   \n",
       "75%     264968.250000                 NaN            NaN          5.000000   \n",
       "max     539115.000000                 NaN            NaN          5.000000   \n",
       "\n",
       "         ReviewCount      Calories    FatContent  SaturatedFatContent  \\\n",
       "count   10000.000000  10000.000000  10000.000000         10000.000000   \n",
       "unique           NaN           NaN           NaN                  NaN   \n",
       "top              NaN           NaN           NaN                  NaN   \n",
       "freq             NaN           NaN           NaN                  NaN   \n",
       "mean       15.371200    269.383160     13.105110             5.062540   \n",
       "std        32.409086    163.834415     11.060158             5.033295   \n",
       "min         5.000000      0.000000      0.000000             0.000000   \n",
       "25%         6.000000    145.800000      4.600000             1.200000   \n",
       "50%         8.000000    242.700000     10.300000             3.500000   \n",
       "75%        13.250000    369.200000     18.900000             7.500000   \n",
       "max       973.000000   1031.400000     60.100000            24.700000   \n",
       "\n",
       "        CholesterolContent  SodiumContent  ...  ProteinContent  \\\n",
       "count         10000.000000   10000.000000  ...    10000.000000   \n",
       "unique                 NaN            NaN  ...             NaN   \n",
       "top                    NaN            NaN  ...             NaN   \n",
       "freq                   NaN            NaN  ...             NaN   \n",
       "mean             51.468030     413.763170  ...       12.750440   \n",
       "std              54.824312     383.157992  ...       12.771772   \n",
       "min               0.000000       0.000000  ...        0.000000   \n",
       "25%               3.275000     114.975000  ...        3.000000   \n",
       "50%              33.500000     298.300000  ...        7.000000   \n",
       "75%              81.800000     615.825000  ...       21.000000   \n",
       "max             263.600000    1795.100000  ...       57.100000   \n",
       "\n",
       "        RecipeServings      CookTime      PrepTime     TotalTime  \\\n",
       "count     10000.000000  10000.000000  10000.000000  10000.000000   \n",
       "unique             NaN           NaN           NaN           NaN   \n",
       "top                NaN           NaN           NaN           NaN   \n",
       "freq               NaN           NaN           NaN           NaN   \n",
       "mean          8.281200     39.249000     16.222700     55.594100   \n",
       "std          10.608967     75.827523     27.187122     81.488626   \n",
       "min           1.000000      0.000000      0.000000      0.000000   \n",
       "25%           4.000000     10.000000      5.000000     20.000000   \n",
       "50%           6.000000     20.000000     10.000000     35.000000   \n",
       "75%           8.000000     40.000000     20.000000     60.000000   \n",
       "max         365.000000    660.000000    540.000000    720.000000   \n",
       "\n",
       "        Review_Class  IngredientsCount  minimum_rating maximum_rating  \\\n",
       "count          10000      10000.000000    10000.000000   10000.000000   \n",
       "unique             3               NaN             NaN            NaN   \n",
       "top          average               NaN             NaN            NaN   \n",
       "freq            9878               NaN             NaN            NaN   \n",
       "mean             NaN          7.523400        2.443300       4.994300   \n",
       "std              NaN          3.690856        1.970577       0.079172   \n",
       "min              NaN          1.000000        0.000000       3.000000   \n",
       "25%              NaN          5.000000        0.000000       5.000000   \n",
       "50%              NaN          7.000000        3.000000       5.000000   \n",
       "75%              NaN         10.000000        4.000000       5.000000   \n",
       "max              NaN         28.000000        5.000000       5.000000   \n",
       "\n",
       "        mean_of_rating  \n",
       "count     10000.000000  \n",
       "unique             NaN  \n",
       "top                NaN  \n",
       "freq               NaN  \n",
       "mean          4.463686  \n",
       "std           0.509900  \n",
       "min           0.800000  \n",
       "25%           4.230769  \n",
       "50%           4.600000  \n",
       "75%           4.833333  \n",
       "max           5.000000  \n",
       "\n",
       "[11 rows x 23 columns]"
      ]
     },
     "execution_count": 7,
     "metadata": {},
     "output_type": "execute_result"
    }
   ],
   "source": [
    "data.describe(include = 'all')"
   ]
  },
  {
   "cell_type": "code",
   "execution_count": 8,
   "metadata": {},
   "outputs": [
    {
     "name": "stdout",
     "output_type": "stream",
     "text": [
      "<class 'pandas.core.frame.DataFrame'>\n",
      "RangeIndex: 10000 entries, 0 to 9999\n",
      "Data columns (total 23 columns):\n",
      " #   Column               Non-Null Count  Dtype  \n",
      "---  ------               --------------  -----  \n",
      " 0   RecipeId             10000 non-null  int64  \n",
      " 1   Name                 10000 non-null  object \n",
      " 2   RecipeCategory       10000 non-null  object \n",
      " 3   AggregatedRating     10000 non-null  float64\n",
      " 4   ReviewCount          10000 non-null  float64\n",
      " 5   Calories             10000 non-null  float64\n",
      " 6   FatContent           10000 non-null  float64\n",
      " 7   SaturatedFatContent  10000 non-null  float64\n",
      " 8   CholesterolContent   10000 non-null  float64\n",
      " 9   SodiumContent        10000 non-null  float64\n",
      " 10  CarbohydrateContent  10000 non-null  float64\n",
      " 11  FiberContent         10000 non-null  float64\n",
      " 12  SugarContent         10000 non-null  float64\n",
      " 13  ProteinContent       10000 non-null  float64\n",
      " 14  RecipeServings       10000 non-null  float64\n",
      " 15  CookTime             10000 non-null  int64  \n",
      " 16  PrepTime             10000 non-null  int64  \n",
      " 17  TotalTime            10000 non-null  int64  \n",
      " 18  Review_Class         10000 non-null  object \n",
      " 19  IngredientsCount     10000 non-null  int64  \n",
      " 20  minimum_rating       10000 non-null  float64\n",
      " 21  maximum_rating       10000 non-null  float64\n",
      " 22  mean_of_rating       10000 non-null  float64\n",
      "dtypes: float64(15), int64(5), object(3)\n",
      "memory usage: 1.8+ MB\n"
     ]
    }
   ],
   "source": [
    "data.info()"
   ]
  },
  {
   "cell_type": "code",
   "execution_count": 9,
   "metadata": {},
   "outputs": [
    {
     "data": {
      "text/plain": [
       "RecipeId                 int64\n",
       "Name                    object\n",
       "RecipeCategory          object\n",
       "AggregatedRating       float64\n",
       "ReviewCount            float64\n",
       "Calories               float64\n",
       "FatContent             float64\n",
       "SaturatedFatContent    float64\n",
       "CholesterolContent     float64\n",
       "SodiumContent          float64\n",
       "CarbohydrateContent    float64\n",
       "FiberContent           float64\n",
       "SugarContent           float64\n",
       "ProteinContent         float64\n",
       "RecipeServings         float64\n",
       "CookTime                 int64\n",
       "PrepTime                 int64\n",
       "TotalTime                int64\n",
       "Review_Class            object\n",
       "IngredientsCount         int64\n",
       "minimum_rating         float64\n",
       "maximum_rating         float64\n",
       "mean_of_rating         float64\n",
       "dtype: object"
      ]
     },
     "execution_count": 9,
     "metadata": {},
     "output_type": "execute_result"
    }
   ],
   "source": [
    "data.dtypes"
   ]
  },
  {
   "cell_type": "code",
   "execution_count": 23,
   "metadata": {},
   "outputs": [],
   "source": [
    "#Correlation\n",
    "numeric = data[['AggregatedRating','ReviewCount','Calories','FatContent','SaturatedFatContent','CholesterolContent','SodiumContent','CarbohydrateContent','FiberContent','SugarContent','ProteinContent','RecipeServings','CookTime','PrepTime','TotalTime','IngredientsCount','minimum_rating','maximum_rating','mean_of_rating']]"
   ]
  },
  {
   "cell_type": "code",
   "execution_count": 24,
   "metadata": {},
   "outputs": [
    {
     "data": {
      "text/plain": [
       "<AxesSubplot:>"
      ]
     },
     "execution_count": 24,
     "metadata": {},
     "output_type": "execute_result"
    },
    {
     "data": {
      "image/png": "[encoded data removed]",
      "text/plain": [
       "<Figure size 1440x720 with 2 Axes>"
      ]
     },
     "metadata": {
      "needs_background": "light"
     },
     "output_type": "display_data"
    }
   ],
   "source": [
    "import seaborn as sns \n",
    "import matplotlib.pyplot as plt \n",
    "import numpy as np \n",
    "from pandas.api.types import is_string_dtype, is_numeric_dtype\n",
    "# Finding the relations between the variables.\n",
    "plt.figure(figsize=(20,10))\n",
    "c= numeric.corr()\n",
    "sns.heatmap(c,annot=True)"
   ]
  },
  {
   "cell_type": "code",
   "execution_count": 25,
   "metadata": {},
   "outputs": [
    {
     "data": {
      "image/png": "[encoded data removed]",
      "text/plain": [
       "<Figure size 432x288 with 1 Axes>"
      ]
     },
     "metadata": {
      "needs_background": "light"
     },
     "output_type": "display_data"
    }
   ],
   "source": [
    "plt.scatter(features['Calories'],features['FatContent'],alpha=.2)\n",
    "plt.show()"
   ]
  },
  {
   "cell_type": "code",
   "execution_count": 16,
   "metadata": {},
   "outputs": [
    {
     "data": {
      "image/png": "[encoded data removed]",
      "text/plain": [
       "<Figure size 432x288 with 1 Axes>"
      ]
     },
     "metadata": {
      "needs_background": "light"
     },
     "output_type": "display_data"
    }
   ],
   "source": [
    "plt.scatter(numeric['SaturatedFatContent'],features['FatContent'],alpha=.2)\n",
    "plt.show()"
   ]
  },
  {
   "cell_type": "code",
   "execution_count": 26,
   "metadata": {},
   "outputs": [],
   "source": [
    "# Remove Corr > 85% and remove non-relevat columns like review count, recipe serving, preptime\n",
    "features = numeric[['Calories','FatContent','CholesterolContent','SodiumContent','CarbohydrateContent','FiberContent','SugarContent','ProteinContent','TotalTime','IngredientsCount','minimum_rating','maximum_rating','mean_of_rating']]"
   ]
  },
  {
   "cell_type": "code",
   "execution_count": 18,
   "metadata": {},
   "outputs": [
    {
     "data": {
      "text/plain": [
       "<AxesSubplot:>"
      ]
     },
     "execution_count": 18,
     "metadata": {},
     "output_type": "execute_result"
    },
    {
     "data": {
      "image/png": "[encoded data removed]",
      "text/plain": [
       "<Figure size 1440x720 with 2 Axes>"
      ]
     },
     "metadata": {
      "needs_background": "light"
     },
     "output_type": "display_data"
    }
   ],
   "source": [
    "plt.figure(figsize=(20,10))\n",
    "cor = features.corr()\n",
    "sns.heatmap(cor,annot=True)"
   ]
  },
  {
   "cell_type": "code",
   "execution_count": 27,
   "metadata": {},
   "outputs": [
    {
     "data": {
      "image/png": "[encoded data removed]",
      "text/plain": [
       "<Figure size 432x288 with 1 Axes>"
      ]
     },
     "metadata": {
      "needs_background": "light"
     },
     "output_type": "display_data"
    },
    {
     "name": "stdout",
     "output_type": "stream",
     "text": [
      "0.7933373173054097\n"
     ]
    },
    {
     "data": {
      "image/png": "[encoded data removed]",
      "text/plain": [
       "<Figure size 432x288 with 1 Axes>"
      ]
     },
     "metadata": {
      "needs_background": "light"
     },
     "output_type": "display_data"
    },
    {
     "name": "stdout",
     "output_type": "stream",
     "text": [
      "1.1655784638961653\n"
     ]
    },
    {
     "data": {
      "image/png": "[encoded data removed]",
      "text/plain": [
       "<Figure size 432x288 with 1 Axes>"
      ]
     },
     "metadata": {
      "needs_background": "light"
     },
     "output_type": "display_data"
    },
    {
     "name": "stdout",
     "output_type": "stream",
     "text": [
      "1.170915320136434\n"
     ]
    },
    {
     "data": {
      "image/png": "[encoded data removed]",
      "text/plain": [
       "<Figure size 432x288 with 1 Axes>"
      ]
     },
     "metadata": {
      "needs_background": "light"
     },
     "output_type": "display_data"
    },
    {
     "name": "stdout",
     "output_type": "stream",
     "text": [
      "1.188865278630968\n"
     ]
    },
    {
     "data": {
      "image/png": "[encoded data removed]",
      "text/plain": [
       "<Figure size 432x288 with 1 Axes>"
      ]
     },
     "metadata": {
      "needs_background": "light"
     },
     "output_type": "display_data"
    },
    {
     "name": "stdout",
     "output_type": "stream",
     "text": [
      "0.9475771671833115\n"
     ]
    },
    {
     "data": {
      "image/png": "[encoded data removed]",
      "text/plain": [
       "<Figure size 432x288 with 1 Axes>"
      ]
     },
     "metadata": {
      "needs_background": "light"
     },
     "output_type": "display_data"
    },
    {
     "name": "stdout",
     "output_type": "stream",
     "text": [
      "1.3531731705955656\n"
     ]
    },
    {
     "data": {
      "image/png": "[encoded data removed]",
      "text/plain": [
       "<Figure size 432x288 with 1 Axes>"
      ]
     },
     "metadata": {
      "needs_background": "light"
     },
     "output_type": "display_data"
    },
    {
     "name": "stdout",
     "output_type": "stream",
     "text": [
      "1.555196330212488\n"
     ]
    },
    {
     "data": {
      "image/png": "[encoded data removed]",
      "text/plain": [
       "<Figure size 432x288 with 1 Axes>"
      ]
     },
     "metadata": {
      "needs_background": "light"
     },
     "output_type": "display_data"
    },
    {
     "name": "stdout",
     "output_type": "stream",
     "text": [
      "1.1418538514641599\n"
     ]
    },
    {
     "data": {
      "image/png": "[encoded data removed]",
      "text/plain": [
       "<Figure size 432x288 with 1 Axes>"
      ]
     },
     "metadata": {
      "needs_background": "light"
     },
     "output_type": "display_data"
    },
    {
     "name": "stdout",
     "output_type": "stream",
     "text": [
      "4.109572905580347\n"
     ]
    },
    {
     "data": {
      "image/png": "[encoded data removed]",
      "text/plain": [
       "<Figure size 432x288 with 1 Axes>"
      ]
     },
     "metadata": {
      "needs_background": "light"
     },
     "output_type": "display_data"
    },
    {
     "name": "stdout",
     "output_type": "stream",
     "text": [
      "0.6974550453049385\n"
     ]
    },
    {
     "data": {
      "image/png": "[encoded data removed]",
      "text/plain": [
       "<Figure size 432x288 with 1 Axes>"
      ]
     },
     "metadata": {
      "needs_background": "light"
     },
     "output_type": "display_data"
    },
    {
     "name": "stdout",
     "output_type": "stream",
     "text": [
      "-0.19484274543717628\n"
     ]
    },
    {
     "data": {
      "image/png": "[encoded data removed]",
      "text/plain": [
       "<Figure size 432x288 with 1 Axes>"
      ]
     },
     "metadata": {
      "needs_background": "light"
     },
     "output_type": "display_data"
    },
    {
     "name": "stdout",
     "output_type": "stream",
     "text": [
      "-14.898996810210265\n"
     ]
    },
    {
     "data": {
      "image/png": "[encoded data removed]",
      "text/plain": [
       "<Figure size 432x288 with 1 Axes>"
      ]
     },
     "metadata": {
      "needs_background": "light"
     },
     "output_type": "display_data"
    },
    {
     "name": "stdout",
     "output_type": "stream",
     "text": [
      "-1.7118575721013876\n"
     ]
    }
   ],
   "source": [
    "from scipy.stats import skew\n",
    "for val in features:\n",
    "    plt.hist(features[val])\n",
    "    plt.title('Histogram of '+val)\n",
    "    plt.show()\n",
    "    print(skew(features[val]))"
   ]
  },
  {
   "cell_type": "code",
   "execution_count": null,
   "metadata": {},
   "outputs": [],
   "source": [
    "# https://stackoverflow.com/questions/20401570/calculate-linear-regression-on-data-set-in-map-reduce"
   ]
  },
  {
   "cell_type": "code",
   "execution_count": null,
   "metadata": {},
   "outputs": [],
   "source": [
    "#https://www.datacamp.com/community/tutorials/exploratory-data-analysis-python\n",
    " #   https://www.analyticsvidhya.com/blog/2020/08/exploratory-data-analysiseda-from-scratch-in-python/\n",
    "  #      https://www.kaggle.com/ekami66/detailed-exploratory-data-analysis-with-python"
   ]
  },
  {
   "cell_type": "code",
   "execution_count": 28,
   "metadata": {},
   "outputs": [],
   "source": [
    "from sklearn.datasets import fetch_openml\n",
    "from sklearn.decomposition import PCA\n",
    "from sklearn.preprocessing import StandardScaler\n",
    "from sklearn import metrics\n",
    "from sklearn.model_selection import train_test_split\n",
    "import pandas as pdv "
   ]
  },
  {
   "cell_type": "code",
   "execution_count": null,
   "metadata": {},
   "outputs": [],
   "source": [
    "# https://towardsdatascience.com/pca-using-python-scikit-learn-e653f8989e60\n",
    "#Split the trainig and test dataset\n",
    "train_img, test_img, train_lbl, test_lbl = train_test_split(\n",
    "    mnist.data, mnist.target, test_size=1/7.0, random_state=0)"
   ]
  },
  {
   "cell_type": "code",
   "execution_count": 29,
   "metadata": {},
   "outputs": [],
   "source": [
    "# https://towardsdatascience.com/dimension-reduction-techniques-with-python-f36ca7009e5c\n",
    "from sklearn.preprocessing import StandardScaler\n",
    "variables = ['Calories','FatContent','CholesterolContent','SodiumContent','CarbohydrateContent','FiberContent','SugarContent','ProteinContent','TotalTime','IngredientsCount']\n",
    "x = features.loc[:, variables].values\n",
    "y = features.loc[:,['mean_of_rating']].values\n",
    "x = StandardScaler().fit_transform(x)\n",
    "x = pd.DataFrame(x)"
   ]
  },
  {
   "cell_type": "code",
   "execution_count": 31,
   "metadata": {},
   "outputs": [
    {
     "data": {
      "text/html": [
       "<div>\n",
       "<style scoped>\n",
       "    .dataframe tbody tr th:only-of-type {\n",
       "        vertical-align: middle;\n",
       "    }\n",
       "\n",
       "    .dataframe tbody tr th {\n",
       "        vertical-align: top;\n",
       "    }\n",
       "\n",
       "    .dataframe thead th {\n",
       "        text-align: right;\n",
       "    }\n",
       "</style>\n",
       "<table border=\"1\" class=\"dataframe\">\n",
       "  <thead>\n",
       "    <tr style=\"text-align: right;\">\n",
       "      <th></th>\n",
       "      <th>0</th>\n",
       "      <th>1</th>\n",
       "      <th>2</th>\n",
       "      <th>3</th>\n",
       "      <th>4</th>\n",
       "      <th>5</th>\n",
       "      <th>6</th>\n",
       "      <th>7</th>\n",
       "      <th>8</th>\n",
       "      <th>9</th>\n",
       "    </tr>\n",
       "  </thead>\n",
       "  <tbody>\n",
       "    <tr>\n",
       "      <th>0</th>\n",
       "      <td>0.414566</td>\n",
       "      <td>-0.190342</td>\n",
       "      <td>1.587550</td>\n",
       "      <td>1.041233</td>\n",
       "      <td>-1.076602</td>\n",
       "      <td>-0.732366</td>\n",
       "      <td>-0.705911</td>\n",
       "      <td>3.073303</td>\n",
       "      <td>-0.682266</td>\n",
       "      <td>0.129136</td>\n",
       "    </tr>\n",
       "    <tr>\n",
       "      <th>1</th>\n",
       "      <td>1.089062</td>\n",
       "      <td>0.686723</td>\n",
       "      <td>-0.212836</td>\n",
       "      <td>-0.289877</td>\n",
       "      <td>2.015405</td>\n",
       "      <td>-0.205453</td>\n",
       "      <td>2.509066</td>\n",
       "      <td>-0.622532</td>\n",
       "      <td>-0.191375</td>\n",
       "      <td>0.400090</td>\n",
       "    </tr>\n",
       "    <tr>\n",
       "      <th>2</th>\n",
       "      <td>1.344210</td>\n",
       "      <td>1.247322</td>\n",
       "      <td>0.894392</td>\n",
       "      <td>0.801894</td>\n",
       "      <td>0.212626</td>\n",
       "      <td>0.034053</td>\n",
       "      <td>-0.401792</td>\n",
       "      <td>1.538592</td>\n",
       "      <td>0.054070</td>\n",
       "      <td>1.754857</td>\n",
       "    </tr>\n",
       "    <tr>\n",
       "      <th>3</th>\n",
       "      <td>0.017194</td>\n",
       "      <td>-0.136091</td>\n",
       "      <td>0.936346</td>\n",
       "      <td>-0.676421</td>\n",
       "      <td>-0.910768</td>\n",
       "      <td>-0.636563</td>\n",
       "      <td>-0.369208</td>\n",
       "      <td>1.656044</td>\n",
       "      <td>-0.510454</td>\n",
       "      <td>-0.412770</td>\n",
       "    </tr>\n",
       "    <tr>\n",
       "      <th>4</th>\n",
       "      <td>0.931578</td>\n",
       "      <td>2.133430</td>\n",
       "      <td>0.536868</td>\n",
       "      <td>0.754914</td>\n",
       "      <td>-0.632594</td>\n",
       "      <td>0.800472</td>\n",
       "      <td>-0.401792</td>\n",
       "      <td>-0.019610</td>\n",
       "      <td>-0.436820</td>\n",
       "      <td>0.941997</td>\n",
       "    </tr>\n",
       "  </tbody>\n",
       "</table>\n",
       "</div>"
      ],
      "text/plain": [
       "          0         1         2         3         4         5         6  \\\n",
       "0  0.414566 -0.190342  1.587550  1.041233 -1.076602 -0.732366 -0.705911   \n",
       "1  1.089062  0.686723 -0.212836 -0.289877  2.015405 -0.205453  2.509066   \n",
       "2  1.344210  1.247322  0.894392  0.801894  0.212626  0.034053 -0.401792   \n",
       "3  0.017194 -0.136091  0.936346 -0.676421 -0.910768 -0.636563 -0.369208   \n",
       "4  0.931578  2.133430  0.536868  0.754914 -0.632594  0.800472 -0.401792   \n",
       "\n",
       "          7         8         9  \n",
       "0  3.073303 -0.682266  0.129136  \n",
       "1 -0.622532 -0.191375  0.400090  \n",
       "2  1.538592  0.054070  1.754857  \n",
       "3  1.656044 -0.510454 -0.412770  \n",
       "4 -0.019610 -0.436820  0.941997  "
      ]
     },
     "execution_count": 31,
     "metadata": {},
     "output_type": "execute_result"
    }
   ],
   "source": [
    "x.head()"
   ]
  },
  {
   "cell_type": "code",
   "execution_count": 32,
   "metadata": {},
   "outputs": [
    {
     "data": {
      "text/html": [
       "<div>\n",
       "<style scoped>\n",
       "    .dataframe tbody tr th:only-of-type {\n",
       "        vertical-align: middle;\n",
       "    }\n",
       "\n",
       "    .dataframe tbody tr th {\n",
       "        vertical-align: top;\n",
       "    }\n",
       "\n",
       "    .dataframe thead th {\n",
       "        text-align: right;\n",
       "    }\n",
       "</style>\n",
       "<table border=\"1\" class=\"dataframe\">\n",
       "  <thead>\n",
       "    <tr style=\"text-align: right;\">\n",
       "      <th></th>\n",
       "      <th>0</th>\n",
       "      <th>1</th>\n",
       "      <th>2</th>\n",
       "      <th>3</th>\n",
       "      <th>4</th>\n",
       "      <th>5</th>\n",
       "      <th>6</th>\n",
       "      <th>7</th>\n",
       "      <th>8</th>\n",
       "      <th>9</th>\n",
       "    </tr>\n",
       "  </thead>\n",
       "  <tbody>\n",
       "    <tr>\n",
       "      <th>0</th>\n",
       "      <td>1.888236</td>\n",
       "      <td>-2.610650</td>\n",
       "      <td>-0.207230</td>\n",
       "      <td>-0.641420</td>\n",
       "      <td>-0.412324</td>\n",
       "      <td>1.052679</td>\n",
       "      <td>-1.676669</td>\n",
       "      <td>-0.342786</td>\n",
       "      <td>-0.943734</td>\n",
       "      <td>-0.029676</td>\n",
       "    </tr>\n",
       "    <tr>\n",
       "      <th>1</th>\n",
       "      <td>0.943784</td>\n",
       "      <td>2.714861</td>\n",
       "      <td>-1.797994</td>\n",
       "      <td>0.724633</td>\n",
       "      <td>-0.648986</td>\n",
       "      <td>0.030244</td>\n",
       "      <td>0.436559</td>\n",
       "      <td>0.352902</td>\n",
       "      <td>-0.116417</td>\n",
       "      <td>-0.029113</td>\n",
       "    </tr>\n",
       "    <tr>\n",
       "      <th>2</th>\n",
       "      <td>2.848530</td>\n",
       "      <td>-0.582434</td>\n",
       "      <td>0.477094</td>\n",
       "      <td>-0.165750</td>\n",
       "      <td>-1.150764</td>\n",
       "      <td>-0.224868</td>\n",
       "      <td>0.015805</td>\n",
       "      <td>0.300506</td>\n",
       "      <td>-0.537908</td>\n",
       "      <td>-0.005936</td>\n",
       "    </tr>\n",
       "    <tr>\n",
       "      <th>3</th>\n",
       "      <td>0.239620</td>\n",
       "      <td>-1.683326</td>\n",
       "      <td>-0.688346</td>\n",
       "      <td>-0.268564</td>\n",
       "      <td>-0.150803</td>\n",
       "      <td>-0.285427</td>\n",
       "      <td>-1.387737</td>\n",
       "      <td>-0.183639</td>\n",
       "      <td>-0.627229</td>\n",
       "      <td>-0.058651</td>\n",
       "    </tr>\n",
       "    <tr>\n",
       "      <th>4</th>\n",
       "      <td>1.925154</td>\n",
       "      <td>-0.441678</td>\n",
       "      <td>0.278166</td>\n",
       "      <td>-0.875215</td>\n",
       "      <td>-0.646048</td>\n",
       "      <td>-0.939060</td>\n",
       "      <td>1.365942</td>\n",
       "      <td>-0.779721</td>\n",
       "      <td>0.201511</td>\n",
       "      <td>0.012073</td>\n",
       "    </tr>\n",
       "  </tbody>\n",
       "</table>\n",
       "</div>"
      ],
      "text/plain": [
       "          0         1         2         3         4         5         6  \\\n",
       "0  1.888236 -2.610650 -0.207230 -0.641420 -0.412324  1.052679 -1.676669   \n",
       "1  0.943784  2.714861 -1.797994  0.724633 -0.648986  0.030244  0.436559   \n",
       "2  2.848530 -0.582434  0.477094 -0.165750 -1.150764 -0.224868  0.015805   \n",
       "3  0.239620 -1.683326 -0.688346 -0.268564 -0.150803 -0.285427 -1.387737   \n",
       "4  1.925154 -0.441678  0.278166 -0.875215 -0.646048 -0.939060  1.365942   \n",
       "\n",
       "          7         8         9  \n",
       "0 -0.342786 -0.943734 -0.029676  \n",
       "1  0.352902 -0.116417 -0.029113  \n",
       "2  0.300506 -0.537908 -0.005936  \n",
       "3 -0.183639 -0.627229 -0.058651  \n",
       "4 -0.779721  0.201511  0.012073  "
      ]
     },
     "execution_count": 32,
     "metadata": {},
     "output_type": "execute_result"
    }
   ],
   "source": [
    "from sklearn.decomposition import PCA\n",
    "pca = PCA()\n",
    "x_pca = pca.fit_transform(x)\n",
    "x_pca = pd.DataFrame(x_pca)\n",
    "x_pca.head()"
   ]
  },
  {
   "cell_type": "code",
   "execution_count": 33,
   "metadata": {},
   "outputs": [
    {
     "data": {
      "text/plain": [
       "array([0.37755572, 0.17808674, 0.10920027, 0.09664529, 0.07816449,\n",
       "       0.05513712, 0.04810349, 0.03173244, 0.02407586, 0.00129859])"
      ]
     },
     "execution_count": 33,
     "metadata": {},
     "output_type": "execute_result"
    }
   ],
   "source": [
    "explained_variance = pca.explained_variance_ratio_\n",
    "explained_variance"
   ]
  },
  {
   "cell_type": "code",
   "execution_count": 36,
   "metadata": {},
   "outputs": [
    {
     "ename": "TypeError",
     "evalue": "'module' object is not callable",
     "output_type": "error",
     "traceback": [
      "\u001b[1;31m---------------------------------------------------------------------------\u001b[0m",
      "\u001b[1;31mTypeError\u001b[0m                                 Traceback (most recent call last)",
      "\u001b[1;32m<ipython-input-36-fea078bc44c2>\u001b[0m in \u001b[0;36m<module>\u001b[1;34m\u001b[0m\n\u001b[1;32m----> 1\u001b[1;33m \u001b[0mplt\u001b[0m\u001b[1;33m(\u001b[0m\u001b[0mexplained_variance\u001b[0m\u001b[1;33m)\u001b[0m\u001b[1;33m\u001b[0m\u001b[1;33m\u001b[0m\u001b[0m\n\u001b[0m",
      "\u001b[1;31mTypeError\u001b[0m: 'module' object is not callable"
     ]
    }
   ],
   "source": [
    "plt(explained_variance)"
   ]
  },
  {
   "cell_type": "code",
   "execution_count": 47,
   "metadata": {},
   "outputs": [
    {
     "data": {
      "text/plain": [
       "Index([0, 1, 2, 3, 4, 5, 6, 7, 8, 9, 'Rating'], dtype='object')"
      ]
     },
     "execution_count": 47,
     "metadata": {},
     "output_type": "execute_result"
    }
   ],
   "source": [
    "PCA = pd.DataFrame(x_pca)\n",
    "PCA.columns"
   ]
  },
  {
   "cell_type": "code",
   "execution_count": 51,
   "metadata": {},
   "outputs": [],
   "source": [
    "PC = PCA[[0,1,2,3,4,'Rating']]"
   ]
  },
  {
   "cell_type": "code",
   "execution_count": 52,
   "metadata": {},
   "outputs": [
    {
     "data": {
      "text/html": [
       "<div>\n",
       "<style scoped>\n",
       "    .dataframe tbody tr th:only-of-type {\n",
       "        vertical-align: middle;\n",
       "    }\n",
       "\n",
       "    .dataframe tbody tr th {\n",
       "        vertical-align: top;\n",
       "    }\n",
       "\n",
       "    .dataframe thead th {\n",
       "        text-align: right;\n",
       "    }\n",
       "</style>\n",
       "<table border=\"1\" class=\"dataframe\">\n",
       "  <thead>\n",
       "    <tr style=\"text-align: right;\">\n",
       "      <th></th>\n",
       "      <th>0</th>\n",
       "      <th>1</th>\n",
       "      <th>2</th>\n",
       "      <th>3</th>\n",
       "      <th>4</th>\n",
       "      <th>Rating</th>\n",
       "    </tr>\n",
       "  </thead>\n",
       "  <tbody>\n",
       "    <tr>\n",
       "      <th>0</th>\n",
       "      <td>1.888236</td>\n",
       "      <td>-2.610650</td>\n",
       "      <td>-0.207230</td>\n",
       "      <td>-0.641420</td>\n",
       "      <td>-0.412324</td>\n",
       "      <td>4.375</td>\n",
       "    </tr>\n",
       "    <tr>\n",
       "      <th>1</th>\n",
       "      <td>0.943784</td>\n",
       "      <td>2.714861</td>\n",
       "      <td>-1.797994</td>\n",
       "      <td>0.724633</td>\n",
       "      <td>-0.648986</td>\n",
       "      <td>5.000</td>\n",
       "    </tr>\n",
       "    <tr>\n",
       "      <th>2</th>\n",
       "      <td>2.848530</td>\n",
       "      <td>-0.582434</td>\n",
       "      <td>0.477094</td>\n",
       "      <td>-0.165750</td>\n",
       "      <td>-1.150764</td>\n",
       "      <td>4.475</td>\n",
       "    </tr>\n",
       "    <tr>\n",
       "      <th>3</th>\n",
       "      <td>0.239620</td>\n",
       "      <td>-1.683326</td>\n",
       "      <td>-0.688346</td>\n",
       "      <td>-0.268564</td>\n",
       "      <td>-0.150803</td>\n",
       "      <td>3.800</td>\n",
       "    </tr>\n",
       "    <tr>\n",
       "      <th>4</th>\n",
       "      <td>1.925154</td>\n",
       "      <td>-0.441678</td>\n",
       "      <td>0.278166</td>\n",
       "      <td>-0.875215</td>\n",
       "      <td>-0.646048</td>\n",
       "      <td>5.000</td>\n",
       "    </tr>\n",
       "  </tbody>\n",
       "</table>\n",
       "</div>"
      ],
      "text/plain": [
       "          0         1         2         3         4  Rating\n",
       "0  1.888236 -2.610650 -0.207230 -0.641420 -0.412324   4.375\n",
       "1  0.943784  2.714861 -1.797994  0.724633 -0.648986   5.000\n",
       "2  2.848530 -0.582434  0.477094 -0.165750 -1.150764   4.475\n",
       "3  0.239620 -1.683326 -0.688346 -0.268564 -0.150803   3.800\n",
       "4  1.925154 -0.441678  0.278166 -0.875215 -0.646048   5.000"
      ]
     },
     "execution_count": 52,
     "metadata": {},
     "output_type": "execute_result"
    }
   ],
   "source": [
    "PC.head()"
   ]
  },
  {
   "cell_type": "code",
   "execution_count": 53,
   "metadata": {},
   "outputs": [
    {
     "data": {
      "text/plain": [
       "(10000, 6)"
      ]
     },
     "execution_count": 53,
     "metadata": {},
     "output_type": "execute_result"
    }
   ],
   "source": [
    "PC.shape"
   ]
  },
  {
   "cell_type": "code",
   "execution_count": 54,
   "metadata": {},
   "outputs": [],
   "source": [
    "#Random Forest\n",
    "#https://stackabuse.com/random-forest-algorithm-with-python-and-scikit-learn/\n",
    "#https://towardsdatascience.com/improving-random-forest-in-python-part-1-893916666cd\n",
    "import numpy as np\n",
    "import pandas as pd\n",
    "from sklearn.model_selection import train_test_split\n",
    "from sklearn.ensemble import RandomForestRegressor\n",
    "from sklearn.metrics import r2_score,mean_squared_error\n",
    "import seaborn as sns"
   ]
  },
  {
   "cell_type": "code",
   "execution_count": 55,
   "metadata": {},
   "outputs": [],
   "source": [
    "x = PC[[0,1,2,3,4]]\n",
    "y = PC[['Rating']]\n",
    "x_train, x_test, y_train, y_test = train_test_split(x, y, test_size=0.2, random_state=0)"
   ]
  },
  {
   "cell_type": "code",
   "execution_count": 56,
   "metadata": {},
   "outputs": [
    {
     "data": {
      "text/plain": [
       "RandomForestRegressor(random_state=0)"
      ]
     },
     "execution_count": 56,
     "metadata": {},
     "output_type": "execute_result"
    }
   ],
   "source": [
    "model = RandomForestRegressor(n_estimators = 100, random_state = 0)\n",
    "model.fit(x_train,y_train.values.ravel())"
   ]
  },
  {
   "cell_type": "code",
   "execution_count": 57,
   "metadata": {},
   "outputs": [],
   "source": [
    "y_pred = model.predict(x_test)"
   ]
  },
  {
   "cell_type": "code",
   "execution_count": 58,
   "metadata": {},
   "outputs": [],
   "source": [
    "a = pd.DataFrame(y_test.values.ravel(),y_pred)"
   ]
  },
  {
   "cell_type": "code",
   "execution_count": 59,
   "metadata": {},
   "outputs": [
    {
     "data": {
      "text/html": [
       "<div>\n",
       "<style scoped>\n",
       "    .dataframe tbody tr th:only-of-type {\n",
       "        vertical-align: middle;\n",
       "    }\n",
       "\n",
       "    .dataframe tbody tr th {\n",
       "        vertical-align: top;\n",
       "    }\n",
       "\n",
       "    .dataframe thead th {\n",
       "        text-align: right;\n",
       "    }\n",
       "</style>\n",
       "<table border=\"1\" class=\"dataframe\">\n",
       "  <thead>\n",
       "    <tr style=\"text-align: right;\">\n",
       "      <th></th>\n",
       "      <th>0</th>\n",
       "    </tr>\n",
       "  </thead>\n",
       "  <tbody>\n",
       "    <tr>\n",
       "      <th>4.702811</th>\n",
       "      <td>5.000000</td>\n",
       "    </tr>\n",
       "    <tr>\n",
       "      <th>4.491075</th>\n",
       "      <td>4.200000</td>\n",
       "    </tr>\n",
       "    <tr>\n",
       "      <th>4.443700</th>\n",
       "      <td>3.980392</td>\n",
       "    </tr>\n",
       "    <tr>\n",
       "      <th>4.649725</th>\n",
       "      <td>3.666667</td>\n",
       "    </tr>\n",
       "    <tr>\n",
       "      <th>4.502082</th>\n",
       "      <td>4.904762</td>\n",
       "    </tr>\n",
       "    <tr>\n",
       "      <th>4.351012</th>\n",
       "      <td>4.000000</td>\n",
       "    </tr>\n",
       "    <tr>\n",
       "      <th>4.542603</th>\n",
       "      <td>4.875000</td>\n",
       "    </tr>\n",
       "    <tr>\n",
       "      <th>4.291191</th>\n",
       "      <td>5.000000</td>\n",
       "    </tr>\n",
       "    <tr>\n",
       "      <th>4.537725</th>\n",
       "      <td>4.800000</td>\n",
       "    </tr>\n",
       "    <tr>\n",
       "      <th>4.500355</th>\n",
       "      <td>4.600000</td>\n",
       "    </tr>\n",
       "  </tbody>\n",
       "</table>\n",
       "</div>"
      ],
      "text/plain": [
       "                 0\n",
       "4.702811  5.000000\n",
       "4.491075  4.200000\n",
       "4.443700  3.980392\n",
       "4.649725  3.666667\n",
       "4.502082  4.904762\n",
       "4.351012  4.000000\n",
       "4.542603  4.875000\n",
       "4.291191  5.000000\n",
       "4.537725  4.800000\n",
       "4.500355  4.600000"
      ]
     },
     "execution_count": 59,
     "metadata": {},
     "output_type": "execute_result"
    }
   ],
   "source": [
    "a.head(10)"
   ]
  },
  {
   "cell_type": "code",
   "execution_count": 60,
   "metadata": {},
   "outputs": [
    {
     "data": {
      "text/plain": [
       "0.5423562675254952"
      ]
     },
     "execution_count": 60,
     "metadata": {},
     "output_type": "execute_result"
    }
   ],
   "source": [
    "m = mean_squared_error(y_test,y_pred)\n",
    "rm = np.sqrt(m)\n",
    "rm"
   ]
  },
  {
   "cell_type": "code",
   "execution_count": 61,
   "metadata": {},
   "outputs": [
    {
     "data": {
      "text/plain": [
       "0.543056315539967"
      ]
     },
     "execution_count": 61,
     "metadata": {},
     "output_type": "execute_result"
    }
   ],
   "source": [
    "model1 = RandomForestRegressor(n_estimators = 150, random_state = 0)\n",
    "model1.fit(x_train,y_train.values.ravel())\n",
    "y_pred = model1.predict(x_test)\n",
    "a = pd.DataFrame(y_test.values.ravel(),y_pred)\n",
    "m = mean_squared_error(y_test,y_pred)\n",
    "rm = np.sqrt(m)\n",
    "rm"
   ]
  },
  {
   "cell_type": "code",
   "execution_count": 62,
   "metadata": {},
   "outputs": [
    {
     "data": {
      "text/plain": [
       "0.5426917334714778"
      ]
     },
     "execution_count": 62,
     "metadata": {},
     "output_type": "execute_result"
    }
   ],
   "source": [
    "model2 = RandomForestRegressor(n_estimators = 200, random_state = 0)\n",
    "model2.fit(x_train,y_train.values.ravel())\n",
    "y_pred = model2.predict(x_test)\n",
    "a = pd.DataFrame(y_test.values.ravel(),y_pred)\n",
    "m = mean_squared_error(y_test,y_pred)\n",
    "rm = np.sqrt(m)\n",
    "rm"
   ]
  },
  {
   "cell_type": "code",
   "execution_count": 65,
   "metadata": {},
   "outputs": [
    {
     "data": {
      "text/plain": [
       "0.5424254056786549"
      ]
     },
     "execution_count": 65,
     "metadata": {},
     "output_type": "execute_result"
    }
   ],
   "source": [
    "model3 = RandomForestRegressor(n_estimators = 250, random_state = 0)\n",
    "model3.fit(x_train,y_train.values.ravel())\n",
    "y_pred = model3.predict(x_test)\n",
    "a = pd.DataFrame(y_test.values.ravel(),y_pred)\n",
    "m = mean_squared_error(y_test,y_pred)\n",
    "rm = np.sqrt(m)\n",
    "rm"
   ]
  },
  {
   "cell_type": "code",
   "execution_count": 64,
   "metadata": {},
   "outputs": [
    {
     "data": {
      "text/plain": [
       "0.542414892384961"
      ]
     },
     "execution_count": 64,
     "metadata": {},
     "output_type": "execute_result"
    }
   ],
   "source": [
    "model3 = RandomForestRegressor(n_estimators = 300, random_state = 0)\n",
    "model3.fit(x_train,y_train.values.ravel())\n",
    "y_pred = model3.predict(x_test)\n",
    "a = pd.DataFrame(y_test.values.ravel(),y_pred)\n",
    "m = mean_squared_error(y_test,y_pred)\n",
    "rm = np.sqrt(m)\n",
    "rm"
   ]
  },
  {
   "cell_type": "code",
   "execution_count": 66,
   "metadata": {},
   "outputs": [
    {
     "data": {
      "text/html": [
       "<div>\n",
       "<style scoped>\n",
       "    .dataframe tbody tr th:only-of-type {\n",
       "        vertical-align: middle;\n",
       "    }\n",
       "\n",
       "    .dataframe tbody tr th {\n",
       "        vertical-align: top;\n",
       "    }\n",
       "\n",
       "    .dataframe thead th {\n",
       "        text-align: right;\n",
       "    }\n",
       "</style>\n",
       "<table border=\"1\" class=\"dataframe\">\n",
       "  <thead>\n",
       "    <tr style=\"text-align: right;\">\n",
       "      <th></th>\n",
       "      <th>0</th>\n",
       "    </tr>\n",
       "  </thead>\n",
       "  <tbody>\n",
       "    <tr>\n",
       "      <th>4.620161</th>\n",
       "      <td>5.000000</td>\n",
       "    </tr>\n",
       "    <tr>\n",
       "      <th>4.486314</th>\n",
       "      <td>4.200000</td>\n",
       "    </tr>\n",
       "    <tr>\n",
       "      <th>4.379891</th>\n",
       "      <td>3.980392</td>\n",
       "    </tr>\n",
       "    <tr>\n",
       "      <th>4.634302</th>\n",
       "      <td>3.666667</td>\n",
       "    </tr>\n",
       "    <tr>\n",
       "      <th>4.489562</th>\n",
       "      <td>4.904762</td>\n",
       "    </tr>\n",
       "    <tr>\n",
       "      <th>4.414126</th>\n",
       "      <td>4.000000</td>\n",
       "    </tr>\n",
       "    <tr>\n",
       "      <th>4.548948</th>\n",
       "      <td>4.875000</td>\n",
       "    </tr>\n",
       "    <tr>\n",
       "      <th>4.323997</th>\n",
       "      <td>5.000000</td>\n",
       "    </tr>\n",
       "    <tr>\n",
       "      <th>4.531234</th>\n",
       "      <td>4.800000</td>\n",
       "    </tr>\n",
       "    <tr>\n",
       "      <th>4.447647</th>\n",
       "      <td>4.600000</td>\n",
       "    </tr>\n",
       "    <tr>\n",
       "      <th>4.303868</th>\n",
       "      <td>4.571429</td>\n",
       "    </tr>\n",
       "    <tr>\n",
       "      <th>4.611547</th>\n",
       "      <td>4.450980</td>\n",
       "    </tr>\n",
       "    <tr>\n",
       "      <th>4.584584</th>\n",
       "      <td>4.428571</td>\n",
       "    </tr>\n",
       "    <tr>\n",
       "      <th>4.585216</th>\n",
       "      <td>4.800000</td>\n",
       "    </tr>\n",
       "    <tr>\n",
       "      <th>4.429091</th>\n",
       "      <td>4.200000</td>\n",
       "    </tr>\n",
       "    <tr>\n",
       "      <th>4.563829</th>\n",
       "      <td>5.000000</td>\n",
       "    </tr>\n",
       "    <tr>\n",
       "      <th>4.549749</th>\n",
       "      <td>3.363636</td>\n",
       "    </tr>\n",
       "    <tr>\n",
       "      <th>4.232609</th>\n",
       "      <td>4.500000</td>\n",
       "    </tr>\n",
       "    <tr>\n",
       "      <th>4.265029</th>\n",
       "      <td>4.937500</td>\n",
       "    </tr>\n",
       "    <tr>\n",
       "      <th>4.424670</th>\n",
       "      <td>3.500000</td>\n",
       "    </tr>\n",
       "  </tbody>\n",
       "</table>\n",
       "</div>"
      ],
      "text/plain": [
       "                 0\n",
       "4.620161  5.000000\n",
       "4.486314  4.200000\n",
       "4.379891  3.980392\n",
       "4.634302  3.666667\n",
       "4.489562  4.904762\n",
       "4.414126  4.000000\n",
       "4.548948  4.875000\n",
       "4.323997  5.000000\n",
       "4.531234  4.800000\n",
       "4.447647  4.600000\n",
       "4.303868  4.571429\n",
       "4.611547  4.450980\n",
       "4.584584  4.428571\n",
       "4.585216  4.800000\n",
       "4.429091  4.200000\n",
       "4.563829  5.000000\n",
       "4.549749  3.363636\n",
       "4.232609  4.500000\n",
       "4.265029  4.937500\n",
       "4.424670  3.500000"
      ]
     },
     "execution_count": 66,
     "metadata": {},
     "output_type": "execute_result"
    }
   ],
   "source": [
    "a.head(20)"
   ]
  },
  {
   "cell_type": "code",
   "execution_count": 69,
   "metadata": {},
   "outputs": [
    {
     "data": {
      "text/plain": [
       "0.5427810032031222"
      ]
     },
     "execution_count": 69,
     "metadata": {},
     "output_type": "execute_result"
    }
   ],
   "source": [
    "model3 = RandomForestRegressor(n_estimators = 500, random_state = 0)\n",
    "model3.fit(x_train,y_train.values.ravel())\n",
    "y_pred = model3.predict(x_test)\n",
    "a = pd.DataFrame(y_test.values.ravel(),y_pred)\n",
    "m = mean_squared_error(y_test,y_pred)\n",
    "rm = np.sqrt(m)\n",
    "rm"
   ]
  },
  {
   "cell_type": "code",
   "execution_count": 70,
   "metadata": {},
   "outputs": [
    {
     "data": {
      "text/html": [
       "<div>\n",
       "<style scoped>\n",
       "    .dataframe tbody tr th:only-of-type {\n",
       "        vertical-align: middle;\n",
       "    }\n",
       "\n",
       "    .dataframe tbody tr th {\n",
       "        vertical-align: top;\n",
       "    }\n",
       "\n",
       "    .dataframe thead th {\n",
       "        text-align: right;\n",
       "    }\n",
       "</style>\n",
       "<table border=\"1\" class=\"dataframe\">\n",
       "  <thead>\n",
       "    <tr style=\"text-align: right;\">\n",
       "      <th></th>\n",
       "      <th>0</th>\n",
       "    </tr>\n",
       "  </thead>\n",
       "  <tbody>\n",
       "    <tr>\n",
       "      <th>4.632434</th>\n",
       "      <td>5.000000</td>\n",
       "    </tr>\n",
       "    <tr>\n",
       "      <th>4.496518</th>\n",
       "      <td>4.200000</td>\n",
       "    </tr>\n",
       "    <tr>\n",
       "      <th>4.382399</th>\n",
       "      <td>3.980392</td>\n",
       "    </tr>\n",
       "    <tr>\n",
       "      <th>4.627577</th>\n",
       "      <td>3.666667</td>\n",
       "    </tr>\n",
       "    <tr>\n",
       "      <th>4.438174</th>\n",
       "      <td>4.904762</td>\n",
       "    </tr>\n",
       "    <tr>\n",
       "      <th>4.432942</th>\n",
       "      <td>4.000000</td>\n",
       "    </tr>\n",
       "    <tr>\n",
       "      <th>4.527175</th>\n",
       "      <td>4.875000</td>\n",
       "    </tr>\n",
       "    <tr>\n",
       "      <th>4.337650</th>\n",
       "      <td>5.000000</td>\n",
       "    </tr>\n",
       "    <tr>\n",
       "      <th>4.532814</th>\n",
       "      <td>4.800000</td>\n",
       "    </tr>\n",
       "    <tr>\n",
       "      <th>4.500985</th>\n",
       "      <td>4.600000</td>\n",
       "    </tr>\n",
       "  </tbody>\n",
       "</table>\n",
       "</div>"
      ],
      "text/plain": [
       "                 0\n",
       "4.632434  5.000000\n",
       "4.496518  4.200000\n",
       "4.382399  3.980392\n",
       "4.627577  3.666667\n",
       "4.438174  4.904762\n",
       "4.432942  4.000000\n",
       "4.527175  4.875000\n",
       "4.337650  5.000000\n",
       "4.532814  4.800000\n",
       "4.500985  4.600000"
      ]
     },
     "execution_count": 70,
     "metadata": {},
     "output_type": "execute_result"
    }
   ],
   "source": [
    "a.head(10)"
   ]
  },
  {
   "cell_type": "code",
   "execution_count": null,
   "metadata": {},
   "outputs": [],
   "source": [
    "#Apply dask for HPCI in section 5"
   ]
  }
 ],
 "metadata": {
  "kernelspec": {
   "display_name": "Python 3",
   "language": "python",
   "name": "python3"
  },
  "language_info": {
   "codemirror_mode": {
    "name": "ipython",
    "version": 3
   },
   "file_extension": ".py",
   "mimetype": "text/x-python",
   "name": "python",
   "nbconvert_exporter": "python",
   "pygments_lexer": "ipython3",
   "version": "3.8.5"
  }
 },
 "nbformat": 4,
 "nbformat_minor": 4
}
