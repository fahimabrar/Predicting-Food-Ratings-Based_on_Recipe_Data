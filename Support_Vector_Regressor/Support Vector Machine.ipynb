{
 "cells": [
  {
   "cell_type": "markdown",
   "metadata": {},
   "source": [
    "## Author : Abrar - 2027461"
   ]
  },
  {
   "cell_type": "code",
   "execution_count": 1,
   "metadata": {},
   "outputs": [],
   "source": [
    "import pandas as pd\n",
    "import glob\n",
    "import seaborn as sns\n",
    "import matplotlib.pyplot as plt\n",
    "from sklearn.preprocessing import scale\n",
    "from sklearn import decomposition\n",
    "import matplotlib.pyplot as plt\n",
    "import seaborn as sns\n",
    "import time\n",
    "\n",
    "from pandas import DataFrame\n",
    "from sklearn.svm import SVR\n",
    "from sklearn.pipeline import make_pipeline\n",
    "from sklearn.model_selection import train_test_split\n",
    "from sklearn.preprocessing import StandardScaler\n",
    "from sklearn.metrics import mean_squared_error\n",
    "from sklearn.model_selection import cross_validate as CV\n",
    "from sklearn.model_selection import cross_val_score\n",
    "import numpy as np"
   ]
  },
  {
   "cell_type": "code",
   "execution_count": 2,
   "metadata": {},
   "outputs": [
    {
     "data": {
      "text/html": [
       "<div>\n",
       "<style scoped>\n",
       "    .dataframe tbody tr th:only-of-type {\n",
       "        vertical-align: middle;\n",
       "    }\n",
       "\n",
       "    .dataframe tbody tr th {\n",
       "        vertical-align: top;\n",
       "    }\n",
       "\n",
       "    .dataframe thead th {\n",
       "        text-align: right;\n",
       "    }\n",
       "</style>\n",
       "<table border=\"1\" class=\"dataframe\">\n",
       "  <thead>\n",
       "    <tr style=\"text-align: right;\">\n",
       "      <th></th>\n",
       "      <th>RecipeId</th>\n",
       "      <th>Name</th>\n",
       "      <th>RecipeCategory</th>\n",
       "      <th>AggregatedRating</th>\n",
       "      <th>ReviewCount</th>\n",
       "      <th>Calories</th>\n",
       "      <th>FatContent</th>\n",
       "      <th>SaturatedFatContent</th>\n",
       "      <th>CholesterolContent</th>\n",
       "      <th>SodiumContent</th>\n",
       "      <th>...</th>\n",
       "      <th>ProteinContent</th>\n",
       "      <th>RecipeServings</th>\n",
       "      <th>CookTime</th>\n",
       "      <th>PrepTime</th>\n",
       "      <th>TotalTime</th>\n",
       "      <th>Review_Class</th>\n",
       "      <th>IngredientsCount</th>\n",
       "      <th>minimum_rating</th>\n",
       "      <th>maximum_rating</th>\n",
       "      <th>mean_of_rating</th>\n",
       "    </tr>\n",
       "  </thead>\n",
       "  <tbody>\n",
       "    <tr>\n",
       "      <th>0</th>\n",
       "      <td>100335</td>\n",
       "      <td>Scrumptious Cheeseburger Ring</td>\n",
       "      <td>One Dish Meal</td>\n",
       "      <td>5.0</td>\n",
       "      <td>9.0</td>\n",
       "      <td>345.8</td>\n",
       "      <td>13.9</td>\n",
       "      <td>6.3</td>\n",
       "      <td>71.3</td>\n",
       "      <td>839.7</td>\n",
       "      <td>...</td>\n",
       "      <td>19.2</td>\n",
       "      <td>8.0</td>\n",
       "      <td>30</td>\n",
       "      <td>30</td>\n",
       "      <td>60</td>\n",
       "      <td>average</td>\n",
       "      <td>8</td>\n",
       "      <td>4.0</td>\n",
       "      <td>5.0</td>\n",
       "      <td>4.777778</td>\n",
       "    </tr>\n",
       "    <tr>\n",
       "      <th>1</th>\n",
       "      <td>317485</td>\n",
       "      <td>Mom's Comfort Chicken</td>\n",
       "      <td>One Dish Meal</td>\n",
       "      <td>5.0</td>\n",
       "      <td>15.0</td>\n",
       "      <td>305.5</td>\n",
       "      <td>15.9</td>\n",
       "      <td>3.4</td>\n",
       "      <td>80.7</td>\n",
       "      <td>1073.1</td>\n",
       "      <td>...</td>\n",
       "      <td>29.0</td>\n",
       "      <td>4.0</td>\n",
       "      <td>15</td>\n",
       "      <td>15</td>\n",
       "      <td>30</td>\n",
       "      <td>average</td>\n",
       "      <td>9</td>\n",
       "      <td>4.0</td>\n",
       "      <td>5.0</td>\n",
       "      <td>4.666667</td>\n",
       "    </tr>\n",
       "    <tr>\n",
       "      <th>2</th>\n",
       "      <td>136091</td>\n",
       "      <td>Hamburg Gravy</td>\n",
       "      <td>Deer</td>\n",
       "      <td>5.0</td>\n",
       "      <td>14.0</td>\n",
       "      <td>145.8</td>\n",
       "      <td>8.6</td>\n",
       "      <td>3.3</td>\n",
       "      <td>38.6</td>\n",
       "      <td>620.3</td>\n",
       "      <td>...</td>\n",
       "      <td>11.8</td>\n",
       "      <td>6.0</td>\n",
       "      <td>10</td>\n",
       "      <td>10</td>\n",
       "      <td>20</td>\n",
       "      <td>average</td>\n",
       "      <td>6</td>\n",
       "      <td>4.0</td>\n",
       "      <td>5.0</td>\n",
       "      <td>4.571429</td>\n",
       "    </tr>\n",
       "    <tr>\n",
       "      <th>3</th>\n",
       "      <td>206216</td>\n",
       "      <td>Gluten-Free Fried Mozzarella Sticks</td>\n",
       "      <td>Lunch/Snacks</td>\n",
       "      <td>5.0</td>\n",
       "      <td>9.0</td>\n",
       "      <td>367.3</td>\n",
       "      <td>24.8</td>\n",
       "      <td>13.4</td>\n",
       "      <td>185.1</td>\n",
       "      <td>1291.5</td>\n",
       "      <td>...</td>\n",
       "      <td>25.2</td>\n",
       "      <td>5.0</td>\n",
       "      <td>10</td>\n",
       "      <td>10</td>\n",
       "      <td>20</td>\n",
       "      <td>average</td>\n",
       "      <td>12</td>\n",
       "      <td>4.0</td>\n",
       "      <td>5.0</td>\n",
       "      <td>4.777778</td>\n",
       "    </tr>\n",
       "    <tr>\n",
       "      <th>4</th>\n",
       "      <td>221178</td>\n",
       "      <td>Cream Cheese Sugar Cookies</td>\n",
       "      <td>Drop Cookies</td>\n",
       "      <td>5.0</td>\n",
       "      <td>8.0</td>\n",
       "      <td>85.9</td>\n",
       "      <td>2.9</td>\n",
       "      <td>0.8</td>\n",
       "      <td>17.1</td>\n",
       "      <td>63.3</td>\n",
       "      <td>...</td>\n",
       "      <td>1.2</td>\n",
       "      <td>36.0</td>\n",
       "      <td>15</td>\n",
       "      <td>10</td>\n",
       "      <td>25</td>\n",
       "      <td>average</td>\n",
       "      <td>7</td>\n",
       "      <td>0.0</td>\n",
       "      <td>5.0</td>\n",
       "      <td>4.375000</td>\n",
       "    </tr>\n",
       "  </tbody>\n",
       "</table>\n",
       "<p>5 rows × 23 columns</p>\n",
       "</div>"
      ],
      "text/plain": [
       "   RecipeId                                 Name RecipeCategory  \\\n",
       "0    100335        Scrumptious Cheeseburger Ring  One Dish Meal   \n",
       "1    317485                Mom's Comfort Chicken  One Dish Meal   \n",
       "2    136091                        Hamburg Gravy           Deer   \n",
       "3    206216  Gluten-Free Fried Mozzarella Sticks   Lunch/Snacks   \n",
       "4    221178           Cream Cheese Sugar Cookies   Drop Cookies   \n",
       "\n",
       "   AggregatedRating  ReviewCount  Calories  FatContent  SaturatedFatContent  \\\n",
       "0               5.0          9.0     345.8        13.9                  6.3   \n",
       "1               5.0         15.0     305.5        15.9                  3.4   \n",
       "2               5.0         14.0     145.8         8.6                  3.3   \n",
       "3               5.0          9.0     367.3        24.8                 13.4   \n",
       "4               5.0          8.0      85.9         2.9                  0.8   \n",
       "\n",
       "   CholesterolContent  SodiumContent  ...  ProteinContent  RecipeServings  \\\n",
       "0                71.3          839.7  ...            19.2             8.0   \n",
       "1                80.7         1073.1  ...            29.0             4.0   \n",
       "2                38.6          620.3  ...            11.8             6.0   \n",
       "3               185.1         1291.5  ...            25.2             5.0   \n",
       "4                17.1           63.3  ...             1.2            36.0   \n",
       "\n",
       "   CookTime  PrepTime  TotalTime  Review_Class  IngredientsCount  \\\n",
       "0        30        30         60       average                 8   \n",
       "1        15        15         30       average                 9   \n",
       "2        10        10         20       average                 6   \n",
       "3        10        10         20       average                12   \n",
       "4        15        10         25       average                 7   \n",
       "\n",
       "   minimum_rating maximum_rating  mean_of_rating  \n",
       "0             4.0            5.0        4.777778  \n",
       "1             4.0            5.0        4.666667  \n",
       "2             4.0            5.0        4.571429  \n",
       "3             4.0            5.0        4.777778  \n",
       "4             0.0            5.0        4.375000  \n",
       "\n",
       "[5 rows x 23 columns]"
      ]
     },
     "execution_count": 2,
     "metadata": {},
     "output_type": "execute_result"
    }
   ],
   "source": [
    "data = pd.DataFrame(pd.read_csv(\"NewFinalSample.csv\"))\n",
    "data.head()"
   ]
  },
  {
   "cell_type": "markdown",
   "metadata": {},
   "source": [
    "### We will drop unnecessary columns"
   ]
  },
  {
   "cell_type": "code",
   "execution_count": 3,
   "metadata": {},
   "outputs": [],
   "source": [
    "data = data.drop(['RecipeId', 'Name', \"RecipeCategory\", 'minimum_rating', 'maximum_rating', 'AggregatedRating', 'CookTime', 'PrepTime'], axis=1)"
   ]
  },
  {
   "cell_type": "markdown",
   "metadata": {},
   "source": [
    "### Applying one hot encoding to categorical values"
   ]
  },
  {
   "cell_type": "code",
   "execution_count": 4,
   "metadata": {},
   "outputs": [],
   "source": [
    "encoding = pd.get_dummies(data.Review_Class, drop_first= True)\n",
    "data = pd.concat([data, encoding], axis = 1)\n",
    "data = data.drop(['Review_Class'], axis = 1)"
   ]
  },
  {
   "cell_type": "code",
   "execution_count": 5,
   "metadata": {},
   "outputs": [
    {
     "data": {
      "text/html": [
       "<div>\n",
       "<style scoped>\n",
       "    .dataframe tbody tr th:only-of-type {\n",
       "        vertical-align: middle;\n",
       "    }\n",
       "\n",
       "    .dataframe tbody tr th {\n",
       "        vertical-align: top;\n",
       "    }\n",
       "\n",
       "    .dataframe thead th {\n",
       "        text-align: right;\n",
       "    }\n",
       "</style>\n",
       "<table border=\"1\" class=\"dataframe\">\n",
       "  <thead>\n",
       "    <tr style=\"text-align: right;\">\n",
       "      <th></th>\n",
       "      <th>ReviewCount</th>\n",
       "      <th>Calories</th>\n",
       "      <th>FatContent</th>\n",
       "      <th>SaturatedFatContent</th>\n",
       "      <th>CholesterolContent</th>\n",
       "      <th>SodiumContent</th>\n",
       "      <th>CarbohydrateContent</th>\n",
       "      <th>FiberContent</th>\n",
       "      <th>SugarContent</th>\n",
       "      <th>ProteinContent</th>\n",
       "      <th>RecipeServings</th>\n",
       "      <th>TotalTime</th>\n",
       "      <th>IngredientsCount</th>\n",
       "      <th>mean_of_rating</th>\n",
       "      <th>good</th>\n",
       "      <th>poor</th>\n",
       "    </tr>\n",
       "  </thead>\n",
       "  <tbody>\n",
       "    <tr>\n",
       "      <th>0</th>\n",
       "      <td>9.0</td>\n",
       "      <td>345.8</td>\n",
       "      <td>13.9</td>\n",
       "      <td>6.3</td>\n",
       "      <td>71.3</td>\n",
       "      <td>839.7</td>\n",
       "      <td>35.6</td>\n",
       "      <td>2.8</td>\n",
       "      <td>5.5</td>\n",
       "      <td>19.2</td>\n",
       "      <td>8.0</td>\n",
       "      <td>60</td>\n",
       "      <td>8</td>\n",
       "      <td>4.777778</td>\n",
       "      <td>0</td>\n",
       "      <td>0</td>\n",
       "    </tr>\n",
       "    <tr>\n",
       "      <th>1</th>\n",
       "      <td>15.0</td>\n",
       "      <td>305.5</td>\n",
       "      <td>15.9</td>\n",
       "      <td>3.4</td>\n",
       "      <td>80.7</td>\n",
       "      <td>1073.1</td>\n",
       "      <td>11.7</td>\n",
       "      <td>1.1</td>\n",
       "      <td>2.1</td>\n",
       "      <td>29.0</td>\n",
       "      <td>4.0</td>\n",
       "      <td>30</td>\n",
       "      <td>9</td>\n",
       "      <td>4.666667</td>\n",
       "      <td>0</td>\n",
       "      <td>0</td>\n",
       "    </tr>\n",
       "    <tr>\n",
       "      <th>2</th>\n",
       "      <td>14.0</td>\n",
       "      <td>145.8</td>\n",
       "      <td>8.6</td>\n",
       "      <td>3.3</td>\n",
       "      <td>38.6</td>\n",
       "      <td>620.3</td>\n",
       "      <td>4.6</td>\n",
       "      <td>1.1</td>\n",
       "      <td>1.2</td>\n",
       "      <td>11.8</td>\n",
       "      <td>6.0</td>\n",
       "      <td>20</td>\n",
       "      <td>6</td>\n",
       "      <td>4.571429</td>\n",
       "      <td>0</td>\n",
       "      <td>0</td>\n",
       "    </tr>\n",
       "    <tr>\n",
       "      <th>3</th>\n",
       "      <td>9.0</td>\n",
       "      <td>367.3</td>\n",
       "      <td>24.8</td>\n",
       "      <td>13.4</td>\n",
       "      <td>185.1</td>\n",
       "      <td>1291.5</td>\n",
       "      <td>10.4</td>\n",
       "      <td>1.6</td>\n",
       "      <td>5.6</td>\n",
       "      <td>25.2</td>\n",
       "      <td>5.0</td>\n",
       "      <td>20</td>\n",
       "      <td>12</td>\n",
       "      <td>4.777778</td>\n",
       "      <td>0</td>\n",
       "      <td>0</td>\n",
       "    </tr>\n",
       "    <tr>\n",
       "      <th>4</th>\n",
       "      <td>8.0</td>\n",
       "      <td>85.9</td>\n",
       "      <td>2.9</td>\n",
       "      <td>0.8</td>\n",
       "      <td>17.1</td>\n",
       "      <td>63.3</td>\n",
       "      <td>13.8</td>\n",
       "      <td>0.2</td>\n",
       "      <td>7.0</td>\n",
       "      <td>1.2</td>\n",
       "      <td>36.0</td>\n",
       "      <td>25</td>\n",
       "      <td>7</td>\n",
       "      <td>4.375000</td>\n",
       "      <td>0</td>\n",
       "      <td>0</td>\n",
       "    </tr>\n",
       "  </tbody>\n",
       "</table>\n",
       "</div>"
      ],
      "text/plain": [
       "   ReviewCount  Calories  FatContent  SaturatedFatContent  CholesterolContent  \\\n",
       "0          9.0     345.8        13.9                  6.3                71.3   \n",
       "1         15.0     305.5        15.9                  3.4                80.7   \n",
       "2         14.0     145.8         8.6                  3.3                38.6   \n",
       "3          9.0     367.3        24.8                 13.4               185.1   \n",
       "4          8.0      85.9         2.9                  0.8                17.1   \n",
       "\n",
       "   SodiumContent  CarbohydrateContent  FiberContent  SugarContent  \\\n",
       "0          839.7                 35.6           2.8           5.5   \n",
       "1         1073.1                 11.7           1.1           2.1   \n",
       "2          620.3                  4.6           1.1           1.2   \n",
       "3         1291.5                 10.4           1.6           5.6   \n",
       "4           63.3                 13.8           0.2           7.0   \n",
       "\n",
       "   ProteinContent  RecipeServings  TotalTime  IngredientsCount  \\\n",
       "0            19.2             8.0         60                 8   \n",
       "1            29.0             4.0         30                 9   \n",
       "2            11.8             6.0         20                 6   \n",
       "3            25.2             5.0         20                12   \n",
       "4             1.2            36.0         25                 7   \n",
       "\n",
       "   mean_of_rating  good  poor  \n",
       "0        4.777778     0     0  \n",
       "1        4.666667     0     0  \n",
       "2        4.571429     0     0  \n",
       "3        4.777778     0     0  \n",
       "4        4.375000     0     0  "
      ]
     },
     "execution_count": 5,
     "metadata": {},
     "output_type": "execute_result"
    }
   ],
   "source": [
    "data.head()"
   ]
  },
  {
   "cell_type": "markdown",
   "metadata": {},
   "source": [
    "### Applying Principal Component Analysis\n",
    "- we will apply PCA on highly correated columns"
   ]
  },
  {
   "cell_type": "code",
   "execution_count": 6,
   "metadata": {},
   "outputs": [],
   "source": [
    "fat_data = data[['Calories', 'FatContent', 'SaturatedFatContent',\n",
    "       'CholesterolContent', 'ProteinContent']]\n",
    "X = scale(fat_data)"
   ]
  },
  {
   "cell_type": "code",
   "execution_count": 7,
   "metadata": {},
   "outputs": [
    {
     "data": {
      "text/html": [
       "<div>\n",
       "<style scoped>\n",
       "    .dataframe tbody tr th:only-of-type {\n",
       "        vertical-align: middle;\n",
       "    }\n",
       "\n",
       "    .dataframe tbody tr th {\n",
       "        vertical-align: top;\n",
       "    }\n",
       "\n",
       "    .dataframe thead th {\n",
       "        text-align: right;\n",
       "    }\n",
       "</style>\n",
       "<table border=\"1\" class=\"dataframe\">\n",
       "  <thead>\n",
       "    <tr style=\"text-align: right;\">\n",
       "      <th></th>\n",
       "      <th>fat1</th>\n",
       "      <th>fat2</th>\n",
       "      <th>fat3</th>\n",
       "      <th>fat4</th>\n",
       "    </tr>\n",
       "  </thead>\n",
       "  <tbody>\n",
       "    <tr>\n",
       "      <th>0</th>\n",
       "      <td>0.929157</td>\n",
       "      <td>0.236294</td>\n",
       "      <td>-0.108893</td>\n",
       "      <td>-0.005207</td>\n",
       "    </tr>\n",
       "    <tr>\n",
       "      <th>1</th>\n",
       "      <td>1.009146</td>\n",
       "      <td>1.070107</td>\n",
       "      <td>-0.339429</td>\n",
       "      <td>-0.121145</td>\n",
       "    </tr>\n",
       "    <tr>\n",
       "      <th>2</th>\n",
       "      <td>-0.760000</td>\n",
       "      <td>0.234923</td>\n",
       "      <td>0.202883</td>\n",
       "      <td>-0.280786</td>\n",
       "    </tr>\n",
       "    <tr>\n",
       "      <th>3</th>\n",
       "      <td>3.337544</td>\n",
       "      <td>0.246596</td>\n",
       "      <td>1.571086</td>\n",
       "      <td>-0.018115</td>\n",
       "    </tr>\n",
       "    <tr>\n",
       "      <th>4</th>\n",
       "      <td>-1.986659</td>\n",
       "      <td>0.055555</td>\n",
       "      <td>0.285537</td>\n",
       "      <td>0.049661</td>\n",
       "    </tr>\n",
       "  </tbody>\n",
       "</table>\n",
       "</div>"
      ],
      "text/plain": [
       "       fat1      fat2      fat3      fat4\n",
       "0  0.929157  0.236294 -0.108893 -0.005207\n",
       "1  1.009146  1.070107 -0.339429 -0.121145\n",
       "2 -0.760000  0.234923  0.202883 -0.280786\n",
       "3  3.337544  0.246596  1.571086 -0.018115\n",
       "4 -1.986659  0.055555  0.285537  0.049661"
      ]
     },
     "execution_count": 7,
     "metadata": {},
     "output_type": "execute_result"
    }
   ],
   "source": [
    "pca_fat = decomposition.PCA(n_components = 4)\n",
    "# n_components means number of principal component we want to get\n",
    "pca_fat.fit(X)\n",
    "scores = pca_fat.transform(X)\n",
    "fat_df = pd.DataFrame(scores, columns=[\"fat1\", \"fat2\", \"fat3\", \"fat4\"])\n",
    "fat_df.head()"
   ]
  },
  {
   "cell_type": "markdown",
   "metadata": {},
   "source": [
    "#### loading value for components"
   ]
  },
  {
   "cell_type": "code",
   "execution_count": 8,
   "metadata": {},
   "outputs": [
    {
     "data": {
      "text/html": [
       "<div>\n",
       "<style scoped>\n",
       "    .dataframe tbody tr th:only-of-type {\n",
       "        vertical-align: middle;\n",
       "    }\n",
       "\n",
       "    .dataframe tbody tr th {\n",
       "        vertical-align: top;\n",
       "    }\n",
       "\n",
       "    .dataframe thead th {\n",
       "        text-align: right;\n",
       "    }\n",
       "</style>\n",
       "<table border=\"1\" class=\"dataframe\">\n",
       "  <thead>\n",
       "    <tr style=\"text-align: right;\">\n",
       "      <th></th>\n",
       "      <th>fat1</th>\n",
       "      <th>fat2</th>\n",
       "      <th>fat3</th>\n",
       "      <th>fat4</th>\n",
       "    </tr>\n",
       "  </thead>\n",
       "  <tbody>\n",
       "    <tr>\n",
       "      <th>Calories</th>\n",
       "      <td>0.477938</td>\n",
       "      <td>-0.074315</td>\n",
       "      <td>-0.539708</td>\n",
       "      <td>0.476438</td>\n",
       "    </tr>\n",
       "    <tr>\n",
       "      <th>FatContent</th>\n",
       "      <td>0.472003</td>\n",
       "      <td>-0.397404</td>\n",
       "      <td>-0.113765</td>\n",
       "      <td>0.136582</td>\n",
       "    </tr>\n",
       "    <tr>\n",
       "      <th>SaturatedFatContent</th>\n",
       "      <td>0.442462</td>\n",
       "      <td>-0.500709</td>\n",
       "      <td>0.343713</td>\n",
       "      <td>-0.535448</td>\n",
       "    </tr>\n",
       "    <tr>\n",
       "      <th>CholesterolContent</th>\n",
       "      <td>0.428946</td>\n",
       "      <td>0.429137</td>\n",
       "      <td>0.685856</td>\n",
       "      <td>0.401645</td>\n",
       "    </tr>\n",
       "    <tr>\n",
       "      <th>ProteinContent</th>\n",
       "      <td>0.411122</td>\n",
       "      <td>0.633782</td>\n",
       "      <td>-0.327470</td>\n",
       "      <td>-0.553470</td>\n",
       "    </tr>\n",
       "  </tbody>\n",
       "</table>\n",
       "</div>"
      ],
      "text/plain": [
       "                         fat1      fat2      fat3      fat4\n",
       "Calories             0.477938 -0.074315 -0.539708  0.476438\n",
       "FatContent           0.472003 -0.397404 -0.113765  0.136582\n",
       "SaturatedFatContent  0.442462 -0.500709  0.343713 -0.535448\n",
       "CholesterolContent   0.428946  0.429137  0.685856  0.401645\n",
       "ProteinContent       0.411122  0.633782 -0.327470 -0.553470"
      ]
     },
     "execution_count": 8,
     "metadata": {},
     "output_type": "execute_result"
    }
   ],
   "source": [
    "loadings = pca_fat.components_.T\n",
    "fat_df_loadings = pd.DataFrame(loadings, columns = ['fat1', 'fat2', \"fat3\", \"fat4\"], index = fat_data.columns)\n",
    "fat_df_loadings"
   ]
  },
  {
   "cell_type": "markdown",
   "metadata": {},
   "source": [
    "#### explained variance by Principal components"
   ]
  },
  {
   "cell_type": "code",
   "execution_count": 9,
   "metadata": {},
   "outputs": [
    {
     "data": {
      "image/png": "[encoded data removed]",
      "text/plain": [
       "<Figure size 432x288 with 1 Axes>"
      ]
     },
     "metadata": {
      "needs_background": "light"
     },
     "output_type": "display_data"
    }
   ],
   "source": [
    "explained_ratio = pca_fat.explained_variance_ratio_.tolist()\n",
    "pcdata = [[\"PC1\", \"PC2\", \"PC3\", \"PC4\"], [0.7311802640572599,\n",
    " 0.14921416140783153,\n",
    " 0.07121541785643845,\n",
    " 0.02780583635948466]]\n",
    "\n",
    "ax = sns.barplot(x=pcdata[0], y=pcdata[1])"
   ]
  },
  {
   "cell_type": "code",
   "execution_count": 10,
   "metadata": {},
   "outputs": [
    {
     "data": {
      "text/html": [
       "<div>\n",
       "<style scoped>\n",
       "    .dataframe tbody tr th:only-of-type {\n",
       "        vertical-align: middle;\n",
       "    }\n",
       "\n",
       "    .dataframe tbody tr th {\n",
       "        vertical-align: top;\n",
       "    }\n",
       "\n",
       "    .dataframe thead th {\n",
       "        text-align: right;\n",
       "    }\n",
       "</style>\n",
       "<table border=\"1\" class=\"dataframe\">\n",
       "  <thead>\n",
       "    <tr style=\"text-align: right;\">\n",
       "      <th></th>\n",
       "      <th>fat1</th>\n",
       "      <th>fat2</th>\n",
       "    </tr>\n",
       "  </thead>\n",
       "  <tbody>\n",
       "    <tr>\n",
       "      <th>0</th>\n",
       "      <td>0.929157</td>\n",
       "      <td>0.236294</td>\n",
       "    </tr>\n",
       "    <tr>\n",
       "      <th>1</th>\n",
       "      <td>1.009146</td>\n",
       "      <td>1.070107</td>\n",
       "    </tr>\n",
       "    <tr>\n",
       "      <th>2</th>\n",
       "      <td>-0.760000</td>\n",
       "      <td>0.234923</td>\n",
       "    </tr>\n",
       "    <tr>\n",
       "      <th>3</th>\n",
       "      <td>3.337544</td>\n",
       "      <td>0.246596</td>\n",
       "    </tr>\n",
       "    <tr>\n",
       "      <th>4</th>\n",
       "      <td>-1.986659</td>\n",
       "      <td>0.055555</td>\n",
       "    </tr>\n",
       "  </tbody>\n",
       "</table>\n",
       "</div>"
      ],
      "text/plain": [
       "       fat1      fat2\n",
       "0  0.929157  0.236294\n",
       "1  1.009146  1.070107\n",
       "2 -0.760000  0.234923\n",
       "3  3.337544  0.246596\n",
       "4 -1.986659  0.055555"
      ]
     },
     "execution_count": 10,
     "metadata": {},
     "output_type": "execute_result"
    }
   ],
   "source": [
    "fat_df = fat_df[[\"fat1\", \"fat2\"]]\n",
    "#we will keep only two pc as it explains 88 percent of data\n",
    "fat_df.head()\n"
   ]
  },
  {
   "cell_type": "code",
   "execution_count": 11,
   "metadata": {},
   "outputs": [
    {
     "data": {
      "text/html": [
       "<div>\n",
       "<style scoped>\n",
       "    .dataframe tbody tr th:only-of-type {\n",
       "        vertical-align: middle;\n",
       "    }\n",
       "\n",
       "    .dataframe tbody tr th {\n",
       "        vertical-align: top;\n",
       "    }\n",
       "\n",
       "    .dataframe thead th {\n",
       "        text-align: right;\n",
       "    }\n",
       "</style>\n",
       "<table border=\"1\" class=\"dataframe\">\n",
       "  <thead>\n",
       "    <tr style=\"text-align: right;\">\n",
       "      <th></th>\n",
       "      <th>ReviewCount</th>\n",
       "      <th>SodiumContent</th>\n",
       "      <th>CarbohydrateContent</th>\n",
       "      <th>FiberContent</th>\n",
       "      <th>SugarContent</th>\n",
       "      <th>RecipeServings</th>\n",
       "      <th>TotalTime</th>\n",
       "      <th>IngredientsCount</th>\n",
       "      <th>mean_of_rating</th>\n",
       "      <th>good</th>\n",
       "      <th>poor</th>\n",
       "      <th>fat1</th>\n",
       "      <th>fat2</th>\n",
       "    </tr>\n",
       "  </thead>\n",
       "  <tbody>\n",
       "    <tr>\n",
       "      <th>0</th>\n",
       "      <td>9.0</td>\n",
       "      <td>839.7</td>\n",
       "      <td>35.6</td>\n",
       "      <td>2.8</td>\n",
       "      <td>5.5</td>\n",
       "      <td>8.0</td>\n",
       "      <td>60</td>\n",
       "      <td>8</td>\n",
       "      <td>4.777778</td>\n",
       "      <td>0</td>\n",
       "      <td>0</td>\n",
       "      <td>0.929157</td>\n",
       "      <td>0.236294</td>\n",
       "    </tr>\n",
       "    <tr>\n",
       "      <th>1</th>\n",
       "      <td>15.0</td>\n",
       "      <td>1073.1</td>\n",
       "      <td>11.7</td>\n",
       "      <td>1.1</td>\n",
       "      <td>2.1</td>\n",
       "      <td>4.0</td>\n",
       "      <td>30</td>\n",
       "      <td>9</td>\n",
       "      <td>4.666667</td>\n",
       "      <td>0</td>\n",
       "      <td>0</td>\n",
       "      <td>1.009146</td>\n",
       "      <td>1.070107</td>\n",
       "    </tr>\n",
       "    <tr>\n",
       "      <th>2</th>\n",
       "      <td>14.0</td>\n",
       "      <td>620.3</td>\n",
       "      <td>4.6</td>\n",
       "      <td>1.1</td>\n",
       "      <td>1.2</td>\n",
       "      <td>6.0</td>\n",
       "      <td>20</td>\n",
       "      <td>6</td>\n",
       "      <td>4.571429</td>\n",
       "      <td>0</td>\n",
       "      <td>0</td>\n",
       "      <td>-0.760000</td>\n",
       "      <td>0.234923</td>\n",
       "    </tr>\n",
       "    <tr>\n",
       "      <th>3</th>\n",
       "      <td>9.0</td>\n",
       "      <td>1291.5</td>\n",
       "      <td>10.4</td>\n",
       "      <td>1.6</td>\n",
       "      <td>5.6</td>\n",
       "      <td>5.0</td>\n",
       "      <td>20</td>\n",
       "      <td>12</td>\n",
       "      <td>4.777778</td>\n",
       "      <td>0</td>\n",
       "      <td>0</td>\n",
       "      <td>3.337544</td>\n",
       "      <td>0.246596</td>\n",
       "    </tr>\n",
       "    <tr>\n",
       "      <th>4</th>\n",
       "      <td>8.0</td>\n",
       "      <td>63.3</td>\n",
       "      <td>13.8</td>\n",
       "      <td>0.2</td>\n",
       "      <td>7.0</td>\n",
       "      <td>36.0</td>\n",
       "      <td>25</td>\n",
       "      <td>7</td>\n",
       "      <td>4.375000</td>\n",
       "      <td>0</td>\n",
       "      <td>0</td>\n",
       "      <td>-1.986659</td>\n",
       "      <td>0.055555</td>\n",
       "    </tr>\n",
       "  </tbody>\n",
       "</table>\n",
       "</div>"
      ],
      "text/plain": [
       "   ReviewCount  SodiumContent  CarbohydrateContent  FiberContent  \\\n",
       "0          9.0          839.7                 35.6           2.8   \n",
       "1         15.0         1073.1                 11.7           1.1   \n",
       "2         14.0          620.3                  4.6           1.1   \n",
       "3          9.0         1291.5                 10.4           1.6   \n",
       "4          8.0           63.3                 13.8           0.2   \n",
       "\n",
       "   SugarContent  RecipeServings  TotalTime  IngredientsCount  mean_of_rating  \\\n",
       "0           5.5             8.0         60                 8        4.777778   \n",
       "1           2.1             4.0         30                 9        4.666667   \n",
       "2           1.2             6.0         20                 6        4.571429   \n",
       "3           5.6             5.0         20                12        4.777778   \n",
       "4           7.0            36.0         25                 7        4.375000   \n",
       "\n",
       "   good  poor      fat1      fat2  \n",
       "0     0     0  0.929157  0.236294  \n",
       "1     0     0  1.009146  1.070107  \n",
       "2     0     0 -0.760000  0.234923  \n",
       "3     0     0  3.337544  0.246596  \n",
       "4     0     0 -1.986659  0.055555  "
      ]
     },
     "execution_count": 11,
     "metadata": {},
     "output_type": "execute_result"
    }
   ],
   "source": [
    "p_data = data.drop(['Calories', 'FatContent', 'SaturatedFatContent',\n",
    "       'CholesterolContent', 'ProteinContent'], axis = 1)\n",
    "pca_data = pd.concat([p_data, fat_df], axis=1)\n",
    "pca_data.head()"
   ]
  },
  {
   "cell_type": "markdown",
   "metadata": {},
   "source": [
    "# Now we have Original data and PCA data in pca.data and data"
   ]
  },
  {
   "cell_type": "code",
   "execution_count": 12,
   "metadata": {},
   "outputs": [
    {
     "data": {
      "text/plain": [
       "(10000, 16)"
      ]
     },
     "execution_count": 12,
     "metadata": {},
     "output_type": "execute_result"
    }
   ],
   "source": [
    "data.shape"
   ]
  },
  {
   "cell_type": "code",
   "execution_count": 13,
   "metadata": {},
   "outputs": [
    {
     "data": {
      "text/plain": [
       "(10000, 13)"
      ]
     },
     "execution_count": 13,
     "metadata": {},
     "output_type": "execute_result"
    }
   ],
   "source": [
    "pca_data.shape"
   ]
  },
  {
   "cell_type": "code",
   "execution_count": 14,
   "metadata": {},
   "outputs": [
    {
     "data": {
      "text/html": [
       "<div>\n",
       "<style scoped>\n",
       "    .dataframe tbody tr th:only-of-type {\n",
       "        vertical-align: middle;\n",
       "    }\n",
       "\n",
       "    .dataframe tbody tr th {\n",
       "        vertical-align: top;\n",
       "    }\n",
       "\n",
       "    .dataframe thead th {\n",
       "        text-align: right;\n",
       "    }\n",
       "</style>\n",
       "<table border=\"1\" class=\"dataframe\">\n",
       "  <thead>\n",
       "    <tr style=\"text-align: right;\">\n",
       "      <th></th>\n",
       "      <th>Data_Type</th>\n",
       "      <th>Kernel</th>\n",
       "      <th>Spec</th>\n",
       "      <th>MSE</th>\n",
       "    </tr>\n",
       "  </thead>\n",
       "  <tbody>\n",
       "  </tbody>\n",
       "</table>\n",
       "</div>"
      ],
      "text/plain": [
       "Empty DataFrame\n",
       "Columns: [Data_Type, Kernel, Spec, MSE]\n",
       "Index: []"
      ]
     },
     "execution_count": 14,
     "metadata": {},
     "output_type": "execute_result"
    }
   ],
   "source": [
    "results = pd.DataFrame(columns = [\"Data_Type\", \"Kernel\", \"Spec\", \"MSE\"])\n",
    "results.head()"
   ]
  },
  {
   "cell_type": "markdown",
   "metadata": {},
   "source": [
    "# Suppor Vector Machine Without PCA"
   ]
  },
  {
   "cell_type": "code",
   "execution_count": 15,
   "metadata": {},
   "outputs": [
    {
     "name": "stdout",
     "output_type": "stream",
     "text": [
      "(8000, 15) (8000,)\n",
      "(2000, 15) (2000,)\n"
     ]
    }
   ],
   "source": [
    "#setting independant variables and target varialbes\n",
    "X= data.drop(['mean_of_rating'], axis = 1)\n",
    "Y = data[\"mean_of_rating\"]\n",
    "\n",
    "X_train, X_test, y_train, y_test = train_test_split(X, Y, test_size=0.2, random_state=48)\n",
    "#splitting data into 80:20 for train test, random state for reproducing the same result again and again\n",
    "print(X_train.shape, y_train.shape)\n",
    "print(X_test.shape, y_test.shape)"
   ]
  },
  {
   "cell_type": "code",
   "execution_count": 16,
   "metadata": {},
   "outputs": [
    {
     "name": "stdout",
     "output_type": "stream",
     "text": [
      "Wall time: 3.23 s\n"
     ]
    },
    {
     "data": {
      "text/plain": [
       "0.26558136704251284"
      ]
     },
     "execution_count": 16,
     "metadata": {},
     "output_type": "execute_result"
    }
   ],
   "source": [
    "%%time\n",
    "#training data with SVM\n",
    "svr = make_pipeline(StandardScaler(), SVR(kernel = 'rbf', C=1.0, epsilon=0.1))\n",
    "svr.fit(X_train, y_train)\n",
    "y_pred = svr.predict(X_test)\n",
    "y_true = y_test\n",
    "mean_squared_error(y_true, y_pred)"
   ]
  },
  {
   "cell_type": "code",
   "execution_count": 17,
   "metadata": {},
   "outputs": [
    {
     "name": "stderr",
     "output_type": "stream",
     "text": [
      "C:\\Users\\Asus\\anaconda3\\lib\\site-packages\\seaborn\\_decorators.py:36: FutureWarning: Pass the following variables as keyword args: x, y. From version 0.12, the only valid positional argument will be `data`, and passing other arguments without an explicit keyword will result in an error or misinterpretation.\n",
      "  warnings.warn(\n"
     ]
    },
    {
     "data": {
      "text/plain": [
       "<matplotlib.axes._subplots.AxesSubplot at 0x1d3a43f9c70>"
      ]
     },
     "execution_count": 17,
     "metadata": {},
     "output_type": "execute_result"
    },
    {
     "data": {
      "image/png": "[encoded data removed]",
      "text/plain": [
       "<Figure size 432x288 with 1 Axes>"
      ]
     },
     "metadata": {
      "needs_background": "light"
     },
     "output_type": "display_data"
    }
   ],
   "source": [
    "sns.scatterplot(y_true, y_pred, marker = '+')"
   ]
  },
  {
   "cell_type": "code",
   "execution_count": 18,
   "metadata": {},
   "outputs": [
    {
     "data": {
      "text/html": [
       "<div>\n",
       "<style scoped>\n",
       "    .dataframe tbody tr th:only-of-type {\n",
       "        vertical-align: middle;\n",
       "    }\n",
       "\n",
       "    .dataframe tbody tr th {\n",
       "        vertical-align: top;\n",
       "    }\n",
       "\n",
       "    .dataframe thead th {\n",
       "        text-align: right;\n",
       "    }\n",
       "</style>\n",
       "<table border=\"1\" class=\"dataframe\">\n",
       "  <thead>\n",
       "    <tr style=\"text-align: right;\">\n",
       "      <th></th>\n",
       "      <th>Prediction</th>\n",
       "      <th>True</th>\n",
       "    </tr>\n",
       "  </thead>\n",
       "  <tbody>\n",
       "    <tr>\n",
       "      <th>0</th>\n",
       "      <td>4.665809</td>\n",
       "      <td>4.400000</td>\n",
       "    </tr>\n",
       "    <tr>\n",
       "      <th>1</th>\n",
       "      <td>4.582322</td>\n",
       "      <td>4.285714</td>\n",
       "    </tr>\n",
       "    <tr>\n",
       "      <th>2</th>\n",
       "      <td>4.518514</td>\n",
       "      <td>5.000000</td>\n",
       "    </tr>\n",
       "    <tr>\n",
       "      <th>3</th>\n",
       "      <td>4.554438</td>\n",
       "      <td>4.000000</td>\n",
       "    </tr>\n",
       "    <tr>\n",
       "      <th>4</th>\n",
       "      <td>4.598648</td>\n",
       "      <td>4.200000</td>\n",
       "    </tr>\n",
       "  </tbody>\n",
       "</table>\n",
       "</div>"
      ],
      "text/plain": [
       "   Prediction      True\n",
       "0    4.665809  4.400000\n",
       "1    4.582322  4.285714\n",
       "2    4.518514  5.000000\n",
       "3    4.554438  4.000000\n",
       "4    4.598648  4.200000"
      ]
     },
     "execution_count": 18,
     "metadata": {},
     "output_type": "execute_result"
    }
   ],
   "source": [
    "y_pred_list = y_pred.tolist()\n",
    "prediction_df = DataFrame(y_pred_list,columns=['Prediction'])\n",
    "y_true_list = y_true.tolist()\n",
    "true_df = DataFrame(y_true_list,columns=['True'])\n",
    "result = pd.concat([prediction_df, true_df], axis=1)\n",
    "result.head()"
   ]
  },
  {
   "cell_type": "markdown",
   "metadata": {},
   "source": [
    "### Radial based function with c= 1.0 and epsilon = 0.1, with 5fold CV"
   ]
  },
  {
   "cell_type": "code",
   "execution_count": 19,
   "metadata": {},
   "outputs": [
    {
     "name": "stdout",
     "output_type": "stream",
     "text": [
      "MSE\n",
      "0.27333159366871873\n"
     ]
    }
   ],
   "source": [
    "rbf1 = make_pipeline(StandardScaler(),SVR(kernel = 'rbf', C=1.0, epsilon=0.1))\n",
    "scores = cross_val_score(rbf1, X_train, y_train, scoring='neg_mean_squared_error', cv=5)\n",
    "print(\"MSE\")\n",
    "x = np.mean(scores) * -1\n",
    "print(x)\n",
    "details = [[\"without PCA\", \"RBF\", \"c=1.0, epsilon=1.0\", x]]\n",
    "results = results.append(pd.DataFrame(details, columns=[\"Data_Type\", \"Kernel\", \"Spec\", \"MSE\"]), ignore_index=True)\n"
   ]
  },
  {
   "cell_type": "markdown",
   "metadata": {},
   "source": [
    "### Radial based function with c= 2.0 and epsilon = 0.1, with 5fold CV"
   ]
  },
  {
   "cell_type": "code",
   "execution_count": 20,
   "metadata": {},
   "outputs": [
    {
     "name": "stdout",
     "output_type": "stream",
     "text": [
      "MSE\n",
      "0.27716240068671205\n"
     ]
    }
   ],
   "source": [
    "rbf2 = make_pipeline(StandardScaler(),SVR(kernel = 'rbf', C=2.0, epsilon=0.1))\n",
    "scores = cross_val_score(rbf2, X_train, y_train, scoring='neg_mean_squared_error', cv=5)\n",
    "print(\"MSE\")\n",
    "x = np.mean(scores) * -1\n",
    "print(x)\n",
    "details = [[\"without PCA\", \"RBF\", \"c=2.0, epsilon=1.0\", x]]\n",
    "results = results.append(pd.DataFrame(details, columns=[\"Data_Type\", \"Kernel\", \"Spec\", \"MSE\"]), ignore_index=True)\n"
   ]
  },
  {
   "cell_type": "markdown",
   "metadata": {},
   "source": [
    "### Polynomial two degree kernel, with 5fold CV"
   ]
  },
  {
   "cell_type": "code",
   "execution_count": 21,
   "metadata": {},
   "outputs": [
    {
     "name": "stdout",
     "output_type": "stream",
     "text": [
      "MSE\n",
      "0.27571448249910396\n"
     ]
    }
   ],
   "source": [
    "poly2 = make_pipeline(StandardScaler(), SVR(kernel = 'poly', degree =2))\n",
    "scores = cross_val_score(poly2, X_train, y_train, scoring='neg_mean_squared_error', cv=5)\n",
    "print(\"MSE\")\n",
    "x = np.mean(scores) * -1\n",
    "print(x)\n",
    "details = [[\"without PCA\", \"Polynomial\", \"degree=2\", x]]\n",
    "results = results.append(pd.DataFrame(details, columns=[\"Data_Type\", \"Kernel\", \"Spec\", \"MSE\"]), ignore_index=True)"
   ]
  },
  {
   "cell_type": "markdown",
   "metadata": {},
   "source": [
    "### Polynomial three degree kernel, with 5fold CV"
   ]
  },
  {
   "cell_type": "code",
   "execution_count": 22,
   "metadata": {},
   "outputs": [
    {
     "name": "stdout",
     "output_type": "stream",
     "text": [
      "MSE\n",
      "0.3163541343176822\n"
     ]
    }
   ],
   "source": [
    "poly3 = make_pipeline(StandardScaler(), SVR(kernel = 'poly', degree =3))\n",
    "scores = cross_val_score(poly3, X_train, y_train, scoring='neg_mean_squared_error', cv=5)\n",
    "print(\"MSE\")\n",
    "x = np.mean(scores) * -1\n",
    "print(x)\n",
    "details = [[\"without PCA\", \"Polynomial\", \"degree=3\", x]]\n",
    "results = results.append(pd.DataFrame(details, columns=[\"Data_Type\", \"Kernel\", \"Spec\", \"MSE\"]), ignore_index=True)"
   ]
  },
  {
   "cell_type": "markdown",
   "metadata": {},
   "source": [
    "### Polynomial four degree kernel, with 5fold CV"
   ]
  },
  {
   "cell_type": "code",
   "execution_count": 23,
   "metadata": {},
   "outputs": [
    {
     "name": "stdout",
     "output_type": "stream",
     "text": [
      "MSE\n",
      "1.0502834464768434\n"
     ]
    }
   ],
   "source": [
    "poly4 = make_pipeline(StandardScaler(), SVR(kernel = 'poly', degree =4))\n",
    "scores = cross_val_score(poly4, X_train, y_train, scoring='neg_mean_squared_error', cv=5)\n",
    "print(\"MSE\")\n",
    "x = np.mean(scores) * -1\n",
    "print(x)\n",
    "details = [[\"without PCA\", \"Polynomial\", \"degree=4\", x]]\n",
    "results = results.append(pd.DataFrame(details, columns=[\"Data_Type\", \"Kernel\", \"Spec\", \"MSE\"]), ignore_index=True)"
   ]
  },
  {
   "cell_type": "markdown",
   "metadata": {},
   "source": [
    "# Suppor Vector Machine With PCA"
   ]
  },
  {
   "cell_type": "code",
   "execution_count": 24,
   "metadata": {},
   "outputs": [
    {
     "name": "stdout",
     "output_type": "stream",
     "text": [
      "(8000, 12) (8000,)\n",
      "(2000, 12) (2000,)\n"
     ]
    }
   ],
   "source": [
    "#setting independant variables and target varialbes\n",
    "X= pca_data.drop(['mean_of_rating'], axis = 1)\n",
    "Y = pca_data[\"mean_of_rating\"]\n",
    "\n",
    "X_train, X_test, y_train, y_test = train_test_split(X, Y, test_size=0.2, random_state=48)\n",
    "#splitting data into 80:20 for train test, random state for reproducing the same result again and again\n",
    "print(X_train.shape, y_train.shape)\n",
    "print(X_test.shape, y_test.shape)"
   ]
  },
  {
   "cell_type": "markdown",
   "metadata": {},
   "source": [
    "### Radial based function with c= 1.0 and epsilon = 0.1, with 5fold CV"
   ]
  },
  {
   "cell_type": "code",
   "execution_count": 25,
   "metadata": {},
   "outputs": [
    {
     "name": "stdout",
     "output_type": "stream",
     "text": [
      "MSE\n",
      "0.2731226986277662\n"
     ]
    }
   ],
   "source": [
    "rbf1 = make_pipeline(StandardScaler(),SVR(kernel = 'rbf', C=1.0, epsilon=0.1))\n",
    "scores = cross_val_score(rbf1, X_train, y_train, scoring='neg_mean_squared_error', cv=5)\n",
    "print(\"MSE\")\n",
    "x = np.mean(scores) * -1\n",
    "print(x)\n",
    "details = [[\"with PCA\", \"RBF\", \"c=1.0, epsilon=1.0\", x]]\n",
    "results = results.append(pd.DataFrame(details, columns=[\"Data_Type\", \"Kernel\", \"Spec\", \"MSE\"]), ignore_index=True)"
   ]
  },
  {
   "cell_type": "markdown",
   "metadata": {},
   "source": [
    "### Radial based function with c= 2.0 and epsilon = 0.1, with 5fold CV"
   ]
  },
  {
   "cell_type": "code",
   "execution_count": 26,
   "metadata": {},
   "outputs": [
    {
     "name": "stdout",
     "output_type": "stream",
     "text": [
      "MSE\n",
      "0.276861667987644\n"
     ]
    }
   ],
   "source": [
    "rbf2 = make_pipeline(StandardScaler(),SVR(kernel = 'rbf', C=2.0, epsilon=0.1))\n",
    "scores = cross_val_score(rbf2, X_train, y_train, scoring='neg_mean_squared_error', cv=5)\n",
    "print(\"MSE\")\n",
    "x = np.mean(scores) * -1\n",
    "print(x)\n",
    "details = [[\"with PCA\", \"RBF\", \"c=2.0, epsilon=1.0\", x]]\n",
    "results = results.append(pd.DataFrame(details, columns=[\"Data_Type\", \"Kernel\", \"Spec\", \"MSE\"]), ignore_index=True)"
   ]
  },
  {
   "cell_type": "markdown",
   "metadata": {},
   "source": [
    "### Polynomial two degree kernel, with 5fold CV"
   ]
  },
  {
   "cell_type": "code",
   "execution_count": 27,
   "metadata": {},
   "outputs": [
    {
     "name": "stdout",
     "output_type": "stream",
     "text": [
      "MSE\n",
      "0.2760970140748745\n"
     ]
    }
   ],
   "source": [
    "poly2 = make_pipeline(StandardScaler(), SVR(kernel = 'poly', degree =2))\n",
    "scores = cross_val_score(poly2, X_train, y_train, scoring='neg_mean_squared_error', cv=5)\n",
    "print(\"MSE\")\n",
    "x = np.mean(scores) * -1\n",
    "print(x)\n",
    "details = [[\"with PCA\", \"Polynomial\", \"degree=2\", x]]\n",
    "results = results.append(pd.DataFrame(details, columns=[\"Data_Type\", \"Kernel\", \"Spec\", \"MSE\"]), ignore_index=True)"
   ]
  },
  {
   "cell_type": "markdown",
   "metadata": {},
   "source": [
    "### Polynomial three degree kernel, with 5fold CV"
   ]
  },
  {
   "cell_type": "code",
   "execution_count": 28,
   "metadata": {},
   "outputs": [
    {
     "name": "stdout",
     "output_type": "stream",
     "text": [
      "MSE\n",
      "0.36122763296870003\n"
     ]
    }
   ],
   "source": [
    "poly3 = make_pipeline(StandardScaler(), SVR(kernel = 'poly', degree =3))\n",
    "scores = cross_val_score(poly3, X_train, y_train, scoring='neg_mean_squared_error', cv=5)\n",
    "print(\"MSE\")\n",
    "x = np.mean(scores) * -1\n",
    "print(x)\n",
    "details = [[\"with PCA\", \"Polynomial\", \"degree=3\", x]]\n",
    "results = results.append(pd.DataFrame(details, columns=[\"Data_Type\", \"Kernel\", \"Spec\", \"MSE\"]), ignore_index=True)"
   ]
  },
  {
   "cell_type": "markdown",
   "metadata": {},
   "source": [
    "### Polynomial four degree kernel, with 5fold CV"
   ]
  },
  {
   "cell_type": "code",
   "execution_count": 29,
   "metadata": {},
   "outputs": [
    {
     "name": "stdout",
     "output_type": "stream",
     "text": [
      "MSE\n",
      "2.0548804491923796\n"
     ]
    }
   ],
   "source": [
    "poly4 = make_pipeline(StandardScaler(), SVR(kernel = 'poly', degree =4))\n",
    "scores = cross_val_score(poly4, X_train, y_train, scoring='neg_mean_squared_error', cv=5)\n",
    "print(\"MSE\")\n",
    "x = np.mean(scores) * -1\n",
    "print(x)\n",
    "details = [[\"with PCA\", \"Polynomial\", \"degree=4\", x]]\n",
    "results = results.append(pd.DataFrame(details, columns=[\"Data_Type\", \"Kernel\", \"Spec\", \"MSE\"]), ignore_index=True)"
   ]
  },
  {
   "cell_type": "markdown",
   "metadata": {},
   "source": [
    "# Lets see the results with and without PCA"
   ]
  },
  {
   "cell_type": "code",
   "execution_count": 30,
   "metadata": {},
   "outputs": [
    {
     "data": {
      "text/html": [
       "<div>\n",
       "<style scoped>\n",
       "    .dataframe tbody tr th:only-of-type {\n",
       "        vertical-align: middle;\n",
       "    }\n",
       "\n",
       "    .dataframe tbody tr th {\n",
       "        vertical-align: top;\n",
       "    }\n",
       "\n",
       "    .dataframe thead th {\n",
       "        text-align: right;\n",
       "    }\n",
       "</style>\n",
       "<table border=\"1\" class=\"dataframe\">\n",
       "  <thead>\n",
       "    <tr style=\"text-align: right;\">\n",
       "      <th></th>\n",
       "      <th>Data_Type</th>\n",
       "      <th>Kernel</th>\n",
       "      <th>Spec</th>\n",
       "      <th>MSE</th>\n",
       "    </tr>\n",
       "  </thead>\n",
       "  <tbody>\n",
       "    <tr>\n",
       "      <th>0</th>\n",
       "      <td>without PCA</td>\n",
       "      <td>RBF</td>\n",
       "      <td>c=1.0, epsilon=1.0</td>\n",
       "      <td>0.273332</td>\n",
       "    </tr>\n",
       "    <tr>\n",
       "      <th>5</th>\n",
       "      <td>with PCA</td>\n",
       "      <td>RBF</td>\n",
       "      <td>c=1.0, epsilon=1.0</td>\n",
       "      <td>0.273123</td>\n",
       "    </tr>\n",
       "    <tr>\n",
       "      <th>1</th>\n",
       "      <td>without PCA</td>\n",
       "      <td>RBF</td>\n",
       "      <td>c=2.0, epsilon=1.0</td>\n",
       "      <td>0.277162</td>\n",
       "    </tr>\n",
       "    <tr>\n",
       "      <th>6</th>\n",
       "      <td>with PCA</td>\n",
       "      <td>RBF</td>\n",
       "      <td>c=2.0, epsilon=1.0</td>\n",
       "      <td>0.276862</td>\n",
       "    </tr>\n",
       "    <tr>\n",
       "      <th>2</th>\n",
       "      <td>without PCA</td>\n",
       "      <td>Polynomial</td>\n",
       "      <td>degree=2</td>\n",
       "      <td>0.275714</td>\n",
       "    </tr>\n",
       "    <tr>\n",
       "      <th>7</th>\n",
       "      <td>with PCA</td>\n",
       "      <td>Polynomial</td>\n",
       "      <td>degree=2</td>\n",
       "      <td>0.276097</td>\n",
       "    </tr>\n",
       "    <tr>\n",
       "      <th>3</th>\n",
       "      <td>without PCA</td>\n",
       "      <td>Polynomial</td>\n",
       "      <td>degree=3</td>\n",
       "      <td>0.316354</td>\n",
       "    </tr>\n",
       "    <tr>\n",
       "      <th>8</th>\n",
       "      <td>with PCA</td>\n",
       "      <td>Polynomial</td>\n",
       "      <td>degree=3</td>\n",
       "      <td>0.361228</td>\n",
       "    </tr>\n",
       "    <tr>\n",
       "      <th>4</th>\n",
       "      <td>without PCA</td>\n",
       "      <td>Polynomial</td>\n",
       "      <td>degree=4</td>\n",
       "      <td>1.050283</td>\n",
       "    </tr>\n",
       "    <tr>\n",
       "      <th>9</th>\n",
       "      <td>with PCA</td>\n",
       "      <td>Polynomial</td>\n",
       "      <td>degree=4</td>\n",
       "      <td>2.054880</td>\n",
       "    </tr>\n",
       "  </tbody>\n",
       "</table>\n",
       "</div>"
      ],
      "text/plain": [
       "     Data_Type      Kernel                Spec       MSE\n",
       "0  without PCA         RBF  c=1.0, epsilon=1.0  0.273332\n",
       "5     with PCA         RBF  c=1.0, epsilon=1.0  0.273123\n",
       "1  without PCA         RBF  c=2.0, epsilon=1.0  0.277162\n",
       "6     with PCA         RBF  c=2.0, epsilon=1.0  0.276862\n",
       "2  without PCA  Polynomial            degree=2  0.275714\n",
       "7     with PCA  Polynomial            degree=2  0.276097\n",
       "3  without PCA  Polynomial            degree=3  0.316354\n",
       "8     with PCA  Polynomial            degree=3  0.361228\n",
       "4  without PCA  Polynomial            degree=4  1.050283\n",
       "9     with PCA  Polynomial            degree=4  2.054880"
      ]
     },
     "execution_count": 30,
     "metadata": {},
     "output_type": "execute_result"
    }
   ],
   "source": [
    "#we reindex the result so that we can easily compare with and without PCA effect\n",
    "results.reindex([0, 5, 1, 6, 2, 7, 3, 8, 4, 9])"
   ]
  },
  {
   "cell_type": "code",
   "execution_count": null,
   "metadata": {},
   "outputs": [],
   "source": []
  }
 ],
 "metadata": {
  "kernelspec": {
   "display_name": "Python 3",
   "language": "python",
   "name": "python3"
  },
  "language_info": {
   "codemirror_mode": {
    "name": "ipython",
    "version": 3
   },
   "file_extension": ".py",
   "mimetype": "text/x-python",
   "name": "python",
   "nbconvert_exporter": "python",
   "pygments_lexer": "ipython3",
   "version": "3.8.3"
  }
 },
 "nbformat": 4,
 "nbformat_minor": 4
}
